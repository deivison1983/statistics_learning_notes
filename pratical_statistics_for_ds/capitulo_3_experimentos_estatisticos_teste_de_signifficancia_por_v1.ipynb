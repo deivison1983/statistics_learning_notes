{
 "cells": [
  {
   "cell_type": "markdown",
   "metadata": {},
   "source": [
    "# Capítulo 3. Experimentos Estatísticos e Teste de Significância"
   ]
  },
  {
   "cell_type": "markdown",
   "metadata": {},
   "source": [
    "## 3.0 Imports"
   ]
  },
  {
   "cell_type": "markdown",
   "metadata": {},
   "source": [
    "Import required Python packages."
   ]
  },
  {
   "cell_type": "code",
   "execution_count": 1,
   "metadata": {
    "ExecuteTime": {
     "end_time": "2022-07-04T21:39:01.929407Z",
     "start_time": "2022-07-04T21:38:59.136913Z"
    },
    "execution": {
     "iopub.execute_input": "2021-07-31T15:51:48.814274Z",
     "iopub.status.busy": "2021-07-31T15:51:48.813668Z",
     "iopub.status.idle": "2021-07-31T15:51:50.411554Z",
     "shell.execute_reply": "2021-07-31T15:51:50.411148Z"
    }
   },
   "outputs": [],
   "source": [
    "%matplotlib inline\n",
    "\n",
    "from pathlib import Path\n",
    "\n",
    "import pandas as pd\n",
    "import numpy as np\n",
    "import seaborn as sns\n",
    "import wquantiles\n",
    "import random\n",
    "import pingouin as pg\n",
    "\n",
    "import matplotlib.pylab as plt\n",
    "import matplotlib\n",
    "from matplotlib import gridspec\n",
    "\n",
    "import scipy\n",
    "from scipy.stats import trim_mean\n",
    "from scipy import stats\n",
    "from scipy.stats import bootstrap\n",
    "import statsmodels.api as sm\n",
    "import statsmodels.formula.api as smf\n",
    "from statsmodels.stats import power\n",
    "from statsmodels import robust\n",
    "from sklearn.utils import resample\n",
    "\n",
    "from IPython.display import Image\n",
    "from IPython.core.display import HTML\n"
   ]
  },
  {
   "cell_type": "code",
   "execution_count": 2,
   "metadata": {
    "ExecuteTime": {
     "end_time": "2022-07-04T21:39:01.942283Z",
     "start_time": "2022-07-04T21:39:01.932896Z"
    },
    "execution": {
     "iopub.execute_input": "2021-07-31T15:51:50.415859Z",
     "iopub.status.busy": "2021-07-31T15:51:50.415047Z",
     "iopub.status.idle": "2021-07-31T15:51:50.933127Z",
     "shell.execute_reply": "2021-07-31T15:51:50.932491Z"
    }
   },
   "outputs": [],
   "source": [
    "try:\n",
    "    import common\n",
    "    DATA = common.dataDirectory()\n",
    "except ImportError:\n",
    "    DATA = Path().resolve() / 'data'"
   ]
  },
  {
   "cell_type": "markdown",
   "metadata": {},
   "source": [
    "Define paths to data sets. If you don't keep your data in the same directory as the code, adapt the path names."
   ]
  },
  {
   "cell_type": "code",
   "execution_count": 3,
   "metadata": {
    "ExecuteTime": {
     "end_time": "2022-07-04T21:39:01.950140Z",
     "start_time": "2022-07-04T21:39:01.944968Z"
    },
    "execution": {
     "iopub.execute_input": "2021-07-31T15:51:50.936440Z",
     "iopub.status.busy": "2021-07-31T15:51:50.936008Z",
     "iopub.status.idle": "2021-07-31T15:51:50.939441Z",
     "shell.execute_reply": "2021-07-31T15:51:50.938998Z"
    }
   },
   "outputs": [],
   "source": [
    "WEB_PAGE_DATA_CSV = DATA / 'web_page_data.csv'\n",
    "FOUR_SESSIONS_CSV = DATA / 'four_sessions.csv'\n",
    "CLICK_RATE_CSV = DATA / 'click_rates.csv'\n",
    "IMANISHI_CSV = DATA / 'imanishi_data.csv'"
   ]
  },
  {
   "cell_type": "markdown",
   "metadata": {},
   "source": [
    "### 0.1 Helper Functions"
   ]
  },
  {
   "cell_type": "code",
   "execution_count": 4,
   "metadata": {
    "ExecuteTime": {
     "end_time": "2022-07-04T21:39:01.961838Z",
     "start_time": "2022-07-04T21:39:01.955203Z"
    }
   },
   "outputs": [],
   "source": [
    "def jupyter_settings():\n",
    "    %matplotlib inline\n",
    "    #%pylab inline\n",
    "    \n",
    "    plt.style.use( 'bmh' )\n",
    "    plt.rcParams['figure.figsize'] = [30, 15]\n",
    "    plt.rcParams['font.size'] = 24\n",
    "    \n",
    "    display( HTML( '<style>.container { width:100% !important; }</style>') )\n",
    "    pd.options.display.max_columns = None\n",
    "    pd.options.display.max_rows = None\n",
    "    pd.set_option( 'display.expand_frame_repr', False )\n",
    "    \n",
    "    sns.set()"
   ]
  },
  {
   "cell_type": "code",
   "execution_count": 5,
   "metadata": {
    "ExecuteTime": {
     "end_time": "2022-07-04T21:39:01.976753Z",
     "start_time": "2022-07-04T21:39:01.964110Z"
    }
   },
   "outputs": [
    {
     "data": {
      "text/html": [
       "<style>.container { width:100% !important; }</style>"
      ],
      "text/plain": [
       "<IPython.core.display.HTML object>"
      ]
     },
     "metadata": {},
     "output_type": "display_data"
    }
   ],
   "source": [
    "jupyter_settings()"
   ]
  },
  {
   "cell_type": "code",
   "execution_count": 6,
   "metadata": {
    "ExecuteTime": {
     "end_time": "2022-07-04T21:39:01.985424Z",
     "start_time": "2022-07-04T21:39:01.980075Z"
    }
   },
   "outputs": [],
   "source": [
    "plt.rc('xtick',labelsize=15)\n",
    "plt.rc('ytick',labelsize=15)\n",
    "plt.rc('axes' ,labelsize=18)"
   ]
  },
  {
   "cell_type": "markdown",
   "metadata": {},
   "source": [
    "## 3.1 Experimentos Estatísticos"
   ]
  },
  {
   "cell_type": "markdown",
   "metadata": {},
   "source": [
    "O projeto de experimentos é um dos pilares da prática estatística, com aplicações em praticamente todas as áreas de pesquisa. \n",
    "\n",
    "**O objetivo é projetar um experimento a fim de confirmar ou rejeitar uma hipótese.**\n",
    "\n",
    "<font color = red>**Os cientistas de dados são confrontados com a necessidade de conduzir experimentos contínuos, especialmente no que diz respeito à interface de usuário e marketing de produto.**</font>\n",
    "\n",
    "Este capítulo revisa desenhos experimentais tradicionais e discute alguns desafios comuns na ciência de dados. \n",
    "\n",
    "Cobre também alguns conceitos comumente citados em inferência estatística e explica seu significado e relevância (ou falta de relevância) para a ciência de dados.\n",
    "\n",
    "Sempre que você vir referências à **significância estatística**, testes t ou valores p, será tipicamente no contexto da **“cadeia” clássica** de inferência estatística (veja a Figura 3-1).\n",
    "\n",
    "**O termo inferência reflete a intenção de aplicar os resultados do experimento, o que envolve um conjunto limitado de dados, em um processo ou população maiores.**"
   ]
  },
  {
   "cell_type": "code",
   "execution_count": 7,
   "metadata": {
    "ExecuteTime": {
     "end_time": "2022-07-04T21:39:02.002132Z",
     "start_time": "2022-07-04T21:39:01.988348Z"
    }
   },
   "outputs": [
    {
     "data": {
      "image/png": "[encoded data removed]",
      "text/plain": [
       "<IPython.core.display.Image object>"
      ]
     },
     "execution_count": 7,
     "metadata": {},
     "output_type": "execute_result"
    }
   ],
   "source": [
    "Image( '/home/deivison/Documentos/projetos/stats/imagem/cap_03_intro_1.png')"
   ]
  },
  {
   "cell_type": "markdown",
   "metadata": {},
   "source": [
    "## 3.2 Teste A/B"
   ]
  },
  {
   "cell_type": "markdown",
   "metadata": {},
   "source": [
    "### Termos Chaves"
   ]
  },
  {
   "cell_type": "markdown",
   "metadata": {},
   "source": [
    "**Tratamento**\n",
    "* Algo (droga, preço, título de site) ao qual um indivíduo é exposto.\n",
    "\n",
    "**Grupo de tratamento**\n",
    "* Um grupo de indivíduos expostos a um tratamento específico.\n",
    "\n",
    "**Grupo de controle**\n",
    "* Um grupo de indivíduos expostos a nenhum tratamento (ou padrão).\n",
    "\n",
    "**Randomização**\n",
    "* O processo de atribuir aleatoriamente indivíduos a tratamentos.\n",
    "\n",
    "**Indivíduos**\n",
    "* Os itens (visitantes de um site, pacientes etc.) que são expostos aos tratamentos.\n",
    "\n",
    "**Estatística de teste**\n",
    "* A métrica usada para medir o efeito do tratamento."
   ]
  },
  {
   "cell_type": "markdown",
   "metadata": {},
   "source": [
    "### Introdução"
   ]
  },
  {
   "cell_type": "markdown",
   "metadata": {},
   "source": [
    "<font color = blue>**Um teste A/B é um experimento com dois grupos para determinar qual dos dois tratamentos, produtos, procedimentos ou semelhantes é o superior.**</font>\n",
    "\n",
    "Geralmente, um dos dois tratamentos é o tratamento-padrão existente, ou nenhum tratamento. \n",
    "\n",
    "Se um tratamento-padrão (ou nenhum) for usado, este será chamado de controle. \n",
    "\n",
    "**Uma hipótese típica é a de que o tratamento seja melhor que o controle.**\n",
    "\n",
    "Os testes A/B são comuns em web design e marketing, já que os resultados são tão facilmente mensuráveis.\n",
    "\n",
    "Alguns exemplos de testagem A/B incluem:\n",
    "* Testagem de dois tratamentos de solo para determinar qual deles gera melhor germinação de sementes.\n",
    "* Testagem de duas terapias para determinar qual delas é mais efetiva na supressão do câncer.\n",
    "* Testagem de dois preços para determinar qual gera mais lucro líquido.\n",
    "* Testagem de dois títulos de site para determinar qual gera mais cliques\n",
    "* Testagem de dois anúncios online para determinar qual gera mais conversões."
   ]
  },
  {
   "cell_type": "markdown",
   "metadata": {},
   "source": [
    "Um teste A/B adequado tem **indivíduos** que podem ser atribuídos a um tratamento ou outro. \n",
    "\n",
    "* O indivíduo pode ser uma pessoa, uma semente, um visitante de site, e a chave é que o indivíduo seja exposto ao tratamento. \n",
    "\n",
    "* **O ideal é que os indivíduos sejam randomizados (atribuídos aleatoriamente) aos tratamentos.**\n",
    "\n",
    "Dessa forma, sabe-se que **qualquer diferença** entre os grupos de tratamento é devido a um dos seguintes motivos:\n",
    "* O efeito de diferentes tratamentos.\n",
    "* O sorteio no qual os indivíduos são atribuídos a quais tratamentos (ou seja, a atribuição aleatória pode resultar a concentração de indivíduos com melhor desempenho em A ou B).\n",
    "\n",
    "<font color = red>**É necessário também prestar atenção à estatística de teste ou métrica usada para comparar o grupo A ao grupo B.**</font> \n",
    "\n",
    "Talvez a métrica mais comum em ciências de dados seja uma variável binária: \n",
    "* Clicar ou não clicar\n",
    "* Comprar ou não comprar\n",
    "* Fraude ou não fraude e assim por diante. \n",
    "\n",
    "Esses resultados seriam resumidos em uma tabela de 2×2. \n",
    "\n",
    "A Tabela 3-1 é uma tabela de 2×2 para um teste de preços real."
   ]
  },
  {
   "cell_type": "code",
   "execution_count": 8,
   "metadata": {
    "ExecuteTime": {
     "end_time": "2022-07-04T21:39:02.017203Z",
     "start_time": "2022-07-04T21:39:02.006066Z"
    }
   },
   "outputs": [
    {
     "data": {
      "image/png": "[encoded data removed]",
      "text/plain": [
       "<IPython.core.display.Image object>"
      ]
     },
     "execution_count": 8,
     "metadata": {},
     "output_type": "execute_result"
    }
   ],
   "source": [
    "Image('/home/deivison/Documentos/projetos/stats/imagem/cap_03_intro_2.png')"
   ]
  },
  {
   "cell_type": "markdown",
   "metadata": {},
   "source": [
    "Se a métrica for uma variável contínua (quantidade de compra, lucro etc.) ou uma contagem (por exemplo, dias em um hospital, páginas visitadas), o resultado pode ser exibido de modo diferente. \n",
    "\n",
    "Se o interesse não fosse a conversão, mas a receita por visualização de página, os resultados do teste de preço na Tabela 3-1 poderiam ficar assim em um resultado-padrão típico do software:\n",
    "* Receita/visualização de página com preço A: média = 3.87, desvio_padrao = 51.10\n",
    "* Receita/visualização de página com preço B: média = 4.11, desvio_padrao = 62.98\n",
    "\n",
    "**O fato de os softwares estatísticos gerarem resultados por predefinição não significa que todos os resultados sejam úteis ou relevantes.** \n",
    "\n",
    "* Pode-se ver que os desvios-padrão anteriores não são tão úteis. \n",
    "\n",
    "* Por si só, sugerem que diversos valores podem ser negativos, quando a receita negativa não é viável. \n",
    "\n",
    "Esses dados são compostos de um pequeno conjunto de valores relativamente altos (visualizações de página com conversões) e um número enorme de valores 0 (visualizações de página sem conversão). \n",
    "\n",
    "É difícil resumir a variabilidade de tais dados com um único número, apesar de o desvio médio absoluto da média (7.68 para A e 8.15 para B) ser mais razoável do que o desvio-padrão."
   ]
  },
  {
   "cell_type": "markdown",
   "metadata": {},
   "source": [
    "### Por que ter um grupo de controle?"
   ]
  },
  {
   "cell_type": "markdown",
   "metadata": {},
   "source": [
    "Por que não deixar de fazer o grupo de controle e apenas executar um experimento aplicando o tratamento de interesse em apenas um grupo e comparar o resultado com experiências anteriores? \n",
    "\n",
    "Sem um grupo de controle **não existem garantias** de que “outras coisas são iguais” e que quaisquer diferenças são realmente devidas ao tratamento (ou ao acaso). \n",
    "\n",
    "**Quando se tem um grupo de controle, este está sujeito às mesmas condições que o grupo de tratamento (exceto o tratamento de interesse).** \n",
    "\n",
    "Se é feita a simples comparação com uma “linha de base” ou uma experiência anterior, outros fatores, além do tratamento, podem ser diferentes.\n",
    "\n",
    "O uso de testagem A/B em ciência de dados é comum em um contexto web. \n",
    "\n",
    "* Os tratamentos podem ser:\n",
    "    * o design de uma página da web\n",
    "    * o preço de um produto\n",
    "    * a redação de um título ou algum outro item. \n",
    "\n",
    "* **É necessário haver uma certa reflexão a fim de preservar os princípios da randomização.**\n",
    "\n",
    "* Geralmente, o indivíduo em um experimento é o visitante virtual, e os resultados em que estamos interessados em medir são:\n",
    "    * cliques\n",
    "    * compras\n",
    "    * duração de visitas\n",
    "    * número de páginas visitadas\n",
    "    * onde uma página específica foi visitada e afins. \n",
    "\n",
    "<font color = blue>**Em um experimento A/B padrão, é necessário optar por uma métrica com antecedência.**</font>\n",
    "\n",
    "* Múltiplas métricas podem ser coletadas e ser de interesse, mas se for esperado que o experimento leve a uma decisão entre o tratamento A e o tratamento B, deve-se estabelecer **uma única métrica, estatística de teste, com antecedência.** \n",
    "\n",
    "<font color = red>**Escolher uma estatística de teste após o experimento ser conduzido abre a porta para viés de pesquisador.**</font>\n",
    "\n"
   ]
  },
  {
   "cell_type": "markdown",
   "metadata": {},
   "source": [
    "### Cegamento de Estudos"
   ]
  },
  {
   "cell_type": "markdown",
   "metadata": {},
   "source": [
    "<font color = blue>**Um estudo cego é aquele em que os indivíduos não sabem se estão recebendo o tratamento A ou o tratamento B.**</font>\n",
    "\n",
    "A consciência sobre a recepção de determinado tratamento pode afetar a resposta.\n",
    "\n",
    "**Um estudo duplamente cego é aquele em que os investigadores e facilitadores (médicos e enfermeiras em um estudo médico) não sabem quais indivíduos estão recebendo qual tratamento.**\n",
    "\n",
    "O cegamento não é possível quando a natureza do tratamento é transparente:\n",
    "* Por exemplo, a terapia cognitiva de um computador versus um psicólogo."
   ]
  },
  {
   "cell_type": "markdown",
   "metadata": {},
   "source": [
    "### Por que apenas A/B? Por que não C,D...?"
   ]
  },
  {
   "cell_type": "markdown",
   "metadata": {},
   "source": [
    "Os testes A/B são populares no mundo do marketing e do e-commerce, mas estão longe de ser o único tipo de experimento estatístico.\n",
    "\n",
    "Podem ser incluídos tratamentos adicionais.\n",
    "\n",
    "Os indivíduos podem ser medidos repetitivamente.\n",
    "\n",
    "Estudos farmacêuticos, em que os indivíduos são escassos, caros e adquiridos ao longo do tempo, são muitas vezes desenhados com múltiplas oportunidades de parar o experimento e chegar a uma conclusão. \n",
    "\n",
    "**Designs tradicionais de estatística experimental se concentram em responder a uma pergunta estática sobre a eficácia de tratamentos específicos.**\n",
    "\n",
    "Os cientistas de dados estão **menos** interessados na pergunta:\n",
    "\n",
    "* A diferença entre o preço A e o preço B é estatisticamente significante?\n",
    "\n",
    "Os cientistas de dados estão **mais** interessados na pergunta:\n",
    "\n",
    "* Qual, entre múltiplos preços possíveis, é o melhor?"
   ]
  },
  {
   "cell_type": "markdown",
   "metadata": {},
   "source": [
    "### Pedindo autorização"
   ]
  },
  {
   "cell_type": "markdown",
   "metadata": {},
   "source": [
    "Em pesquisas científicas e médicas envolvendo indivíduos humanos, normalmente é necessário pedir sua permissão, bem como obter a aprovação de um conselho de revisão institucional.\n",
    "\n",
    "Experimentos em negócios, que são feitos como parte de operações em andamento, quase nunca fazem isso. \n",
    "\n",
    "Na maioria dos casos (por exemplo, experimentos de precificação ou experimentos sobre qual título mostrar ou qual oferta deve ser feita), essa prática é muito aceita. \n",
    "\n",
    "No entanto, o Facebook foi contra essa aceitação geral em 2014, quando fez um experimento com o tom emocional no feed de notícias dos usuários. \n",
    "\n",
    "O Facebook usou análises de sentimento para classificar os posts do feed como positivos ou negativos, então alterou o equilíbrio positivo/negativo com o qual os exibia aos usuários. \n",
    "\n",
    "Alguns aleatoriamente selecionados recebiam mais posts positivos, enquanto outros recebiam mais posts negativos. \n",
    "\n",
    "O Facebook descobriu que os usuários que recebiam um feed mais positivo estavam mais propensos a fazer posts positivos e vice-versa. \n",
    "\n",
    "A magnitude do efeito foi pequena, no entanto, e o Facebook enfrentou muitas críticas por conduzir um experimento sem o conhecimento dos usuários. \n",
    "\n",
    "Alguns usuários especularam que o Facebook pode ter forçado a barra com alguns usuários extremamente depressivos, caso tenham recebido a versão negativa do feed.\n"
   ]
  },
  {
   "cell_type": "markdown",
   "metadata": {},
   "source": [
    "## 3.3 Teste de Hipótese"
   ]
  },
  {
   "cell_type": "markdown",
   "metadata": {},
   "source": [
    "### Termos Chaves"
   ]
  },
  {
   "cell_type": "markdown",
   "metadata": {
    "ExecuteTime": {
     "end_time": "2022-06-29T12:55:48.460802Z",
     "start_time": "2022-06-29T12:55:48.454148Z"
    }
   },
   "source": [
    "**Hipótese nula**\n",
    "* A hipótese cuja possibilidade é provada.\n",
    "\n",
    "**Hipótese alternativa**\n",
    "* Contraponto da nula (o que se espera provar).\n",
    "\n",
    "**Teste unilateral**\n",
    "* Teste de hipótese que conta as possibilidades em apenas uma direção.\n",
    "\n",
    "**Teste bilateral**\n",
    "* Teste de hipótese que conta as possibilidades em duas direções."
   ]
  },
  {
   "cell_type": "markdown",
   "metadata": {},
   "source": [
    "### Introdução"
   ]
  },
  {
   "cell_type": "markdown",
   "metadata": {},
   "source": [
    "<font color = blue>**Os testes de hipótese, também chamados de testes de significância, são onipresentes nas análises estatísticas tradicionais de pesquisas publicadas.**</font> \n",
    "\n",
    "**Seu propósito é ajudá-lo a descobrir se uma**</font> <font color = red>**chance aleatória**</font> **poderia ser responsável por um efeito observado.**\n",
    "\n",
    "Um teste A/B costuma ser construído com uma hipótese em mente.\n",
    "\n",
    "* Por exemplo, a hipótese pode ser a de que um preço B gera mais lucro. \n",
    "* Por que precisamos de uma hipótese?\n",
    "* Por que não apenas observar o resultado do experimento e optar pelo tratamento que se sair melhor?\n",
    "    * <font color = red>**A resposta está na tendência da mente humana de subestimar o escopo do comportamento aleatório natural.**</font> \n",
    "\n",
    "Uma manifestação disso é a falha em prever eventos extremos, também chamados de “cisnes negros”. \n",
    "\n",
    "Outra manifestação é a tendência de **interpretar** eventos aleatórios de **forma errada**, como se tivessem padrões de alguma significância. \n",
    "\n",
    "<font color = green>**A testagem de hipóteses estatísticas foi inventada como forma de proteger os pesquisadores de serem enganados pela possibilidade aleatória.**</font> \n",
    "\n",
    "Em um teste A/B bem projetado são coletados os dados sobre os tratamentos A e B, de modo que qualquer diferença observada entre A e B possa ser devido a um dos dois motivos a seguir:\n",
    "* Possibilidade aleatória de atribuição de indivíduos.\n",
    "* Uma diferença real entre A e B.\n",
    "\n",
    "**Um teste de hipótese estatística é uma análise mais aprofundada de um teste A/B, ou qualquer experimento randomizado, para avaliar se a possibilidade aleatória é uma explicação plausível para a diferença observada entre os grupos A e B.**"
   ]
  },
  {
   "cell_type": "markdown",
   "metadata": {},
   "source": [
    "### Interpretanto a Aleatoriedade de Forma Errada"
   ]
  },
  {
   "cell_type": "markdown",
   "metadata": {},
   "source": [
    "<font color = red>**Pode-se observar a tendência humana a subestimar a aleatoriedade neste experimento.**</font>\n",
    "\n",
    "Peça para diversos amigos inventarem uma série de 50 lançamentos de moeda: \n",
    "* Peça para escreverem uma série aleatória de caras e coroas.\n",
    "* Então peça para realmente jogarem uma moeda 50 vezes e anotarem os resultados.\n",
    "* Peça para colocarem os resultados reais dos lançamentos em uma pilha, e os resultados criados em outra.\n",
    "* **É fácil adivinhar quais resultados são reais:**\n",
    "    * Os reais terão séries mais longas de caras ou coroas.\n",
    "    * Em um conjunto com 50 lançamentos de moeda reais, não é nada incomum encontrar cinco ou seis caras ou coroas seguidas. \n",
    "* No entanto, quando a maioria de nós está inventando lançamentos de moeda aleatórios, e colocamos três ou quatro caras seguidas, pensamos que, para que a série fique aleatória, seria melhor mudar para coroa.\n",
    "\n",
    "**O outro lado desta moeda, por assim dizer, é que, quando vemos o equivalente real de seis caras seguidas, ficamos inclinados a atribuir isso a algo real, e não simplesmente ao acaso.**"
   ]
  },
  {
   "cell_type": "markdown",
   "metadata": {},
   "source": [
    "### A Hipótese Nula"
   ]
  },
  {
   "cell_type": "markdown",
   "metadata": {},
   "source": [
    "Os testes de hipótese utilizam a seguinte lógica:\n",
    "* “Dada a tendência humana a reagir a comportamentos incomuns, mas aleatórios e interpretá-los como algo significativo e real, em nossos experimentos **vamos exigir provas de que a diferença entre os grupos** é mais extrema do que aquilo que a possibilidade poderia produzir aleatoriamente”.\n",
    "\n",
    "<font color = blue>**Isso envolve uma SUPOSIÇÃO de linha de base de que os tratamentos são equivalentes, e qualquer diferença entre os grupos acontece devido ao acaso.**</font>\n",
    "\n",
    "**Essa suposição de linha de base é chamada de hipótese nula.**\n",
    "\n",
    "Nossa esperança é então poder, de fato, **provar que a hipótese nula está errada** e mostrar que os resultados para os grupos A e B são mais diferentes do que o acaso poderia produzir.\n",
    "\n",
    "Um modo de fazer isso é através de um procedimento de reamostragem e permutação:\n",
    "* Embaralhamos os resultados dos grupos A e B\n",
    "* Distribuímos repetidamente os dados em grupos de tamanhos semelhantes\n",
    "* Observamos com que frequência obtemos uma diferença tão extremaquanto a diferença observada."
   ]
  },
  {
   "cell_type": "markdown",
   "metadata": {},
   "source": [
    "### A Hipótese Alternativa"
   ]
  },
  {
   "cell_type": "markdown",
   "metadata": {},
   "source": [
    "Os testes de hipótese envolvem, por natureza, não apenas uma hipótese nula, mas também uma hipótese alternativa contrária. \n",
    "\n",
    "Aqui estão alguns exemplos:\n",
    "* Nula = “nenhuma diferença entre as médias dos grupos A e B”, alternativa = “A é diferente de B” (poderia ser maior ou menor)\n",
    "* Nula = “A ≤ B”, alternativa = “B > A”\n",
    "* Nula = “B não é X% maior que A”, alternativa = “B é X% maior que A”\n",
    "\n",
    "<font color = red>**Em conjunto, as hipóteses nula e alternativa devem representar todas as possibilidades.**</font>\n",
    "\n",
    "**A natureza da hipótese nula determina a estrutura do teste de hipótese.**"
   ]
  },
  {
   "cell_type": "markdown",
   "metadata": {},
   "source": [
    "### Teste de Hipótese Unilateral e Bilateral"
   ]
  },
  {
   "cell_type": "markdown",
   "metadata": {},
   "source": [
    "Geralmente, em um teste A/B se testa uma nova opção (digamos B), contra uma opção padrão estabelecida (A)\n",
    "\n",
    "* A suposição de que se continuará com a opção padrão **a menos que** a nova opção se prove definitivamente melhor. \n",
    "\n",
    "* Nesse caso, é desejável haver um teste de hipótese para se proteger de ser enganado pelo acaso no favorecimento direcional.\n",
    "\n",
    "Não importa ser enganado pelo acaso na outra direção, porque você permaneceria com A, a menos que B se prove definitivamente melhor.\n",
    "\n",
    "Então é preciso haver uma hipótese alternativa direcional (B é melhor que A).\n",
    "\n",
    "Nesse caso, se usa um teste de hipótese unilateral (ou unicaudal).\n",
    "* Isso significa que a possibilidade extrema resulta apenas uma contagem de direção no sentido do valor p.\n",
    "\n",
    "**Hipótese Bilateral**\n",
    "\n",
    "Se você quer um teste de hipótese para se proteger de ser enganado pelo acaso em qualquer direção, a hipótese alternativa é bidirecional (A é diferente de B; poderia ser maior ou menor). \n",
    "* Nesse caso se usa uma hipótese bilateral (ou bicaudal). \n",
    "* Isso significa que possibilidades extremas resultam em contagens em qualquer uma das direções no sentido do valor p. \n",
    "\n",
    "Uma hipótese unicaudal costuma acomodar a natureza da tomada de decisão A/B, na qual uma decisão é necessária e uma opção costuma receber status “padrão”, a menos que a outra se prove melhor.\n",
    "\n",
    "**Os softwares costumam oferecer o teste bicaudal em seus resultados predefinidos, e muitos estatísticos optam pelo teste bicaudal mais conservador apenas para evitar discussões.**\n",
    "\n",
    "O assunto unicaudal versus bicaudal é confuso e sem muita relevância para a ciência de dados, em que a precisão dos cálculos de valor p não é extremamente importante."
   ]
  },
  {
   "cell_type": "markdown",
   "metadata": {},
   "source": [
    "## 3.4 Reamostragem"
   ]
  },
  {
   "cell_type": "markdown",
   "metadata": {},
   "source": [
    "### Termos Chaves"
   ]
  },
  {
   "cell_type": "markdown",
   "metadata": {},
   "source": [
    "**Testes de permutação**\n",
    "* O procedimento de combinar duas ou mais amostras e aleatoriamente (ou exaustivamente) realocar as observações em reamostras.\n",
    "\n",
    "**Sinônimos**\n",
    "* teste de randomização, teste de permutação aleatória, teste exato\n",
    "\n",
    "**Com ou sem reposição**\n",
    "* Em amostragem, se um item será ou não recolocado na amostra antes da próxima extração."
   ]
  },
  {
   "cell_type": "markdown",
   "metadata": {},
   "source": [
    "### Introdução"
   ]
  },
  {
   "cell_type": "markdown",
   "metadata": {},
   "source": [
    "<font color = red>**Reamostragem, em estatística, significa amostrar repetitivamente os valores a partir dos dados observados, com um objetivo geral de avaliar a variabilidade aleatória em uma estatística.**</font>\n",
    "\n",
    "**Pode ser usada também para avaliar e aumentar a precisão de alguns modelos de aprendizado de máquina.**\n",
    "* por exemplo, a média das previsões de modelos de árvores de decisão baseadas em múltiplos conjuntos de dados bootstrapped pode ser tirada em um processo conhecido como bagging\n",
    "\n",
    "Existem dois tipos principais de procedimentos de reamostra: \n",
    "\n",
    "* O bootstrap \n",
    "    * O bootstrap é usado para avaliar a confiabilidade de uma estimativa;\n",
    "* Os testes de permutação.\n",
    "    * Testes de permutação são usados para testar hipóteses, geralmente envolvendo dois ou mais grupos"
   ]
  },
  {
   "cell_type": "markdown",
   "metadata": {},
   "source": [
    "### Teste de Permutação"
   ]
  },
  {
   "cell_type": "markdown",
   "metadata": {},
   "source": [
    "Em um procedimento de permutação são envolvidas duas ou mais amostras, geralmente os grupos em um teste A/B ou outros testes de hipótese.\n",
    "\n",
    "Permuta significa mudar a ordem de um conjunto de valores.\n",
    "\n",
    "O primeiro passo em um teste de permutação de uma hipótese é combinar os resultados dos grupos A e B (e, se usados, C, D…).\n",
    "\n",
    "Essa é a representação lógica da hipótese nula da qual os tratamentos aos quais os grupos foram expostos não diferem.\n",
    "\n",
    "Então testamos tal hipótese extraindo aleatoriamente os grupos desse conjunto combinado e vendo o quanto eles diferem um do outro. "
   ]
  },
  {
   "cell_type": "markdown",
   "metadata": {},
   "source": [
    "### Algoritmo do teste de permutação"
   ]
  },
  {
   "cell_type": "markdown",
   "metadata": {},
   "source": [
    "O procedimento de permutação é o seguinte:\n",
    "1. Combine os resultados dos diferentes grupos em um único conjunto de dados.\n",
    "2. Embaralhe os dados combinados, então extraia aleatoriamente (sem reposição) uma reamostra de tamanho igual ao do grupo A.\n",
    "3. Dos dados restantes, extraia aleatoriamente (sem reposição) uma reamostra de tamanho igual ao do grupo B.\n",
    "4. Faça o mesmo para os grupos C, D e assim por diante.\n",
    "5. Seja qual for a estatística ou estimativa calculada para as amostras originais: \n",
    "    * Por exemplo, diferenças entre proporções de grupo\n",
    "    * Calcule-a agora para as reamostras e registre.\n",
    "    * Isso constitui uma iteração de permutação.\n",
    "6. Repita os passos anteriores R vezes para produzir uma distribuição de permutação da estatística de teste.\n",
    "\n",
    "Agora volte à diferença observada entre os grupos e compare ao conjunto das diferenças permutadas.\n",
    "\n",
    "Se a diferença observada estiver dentro do conjunto de diferenças permutadas\n",
    "* Então não provamos nada\n",
    "* A diferença observada está dentro do intervalo do que o acaso pode produzir.\n",
    "\n",
    "No entanto, se a diferença observada estiver fora da maior parte da distribuição de permutação\n",
    "* Então concluímos que o acaso não é responsável.\n",
    "* Em termos técnicos, a diferença é estatisticamente significante."
   ]
  },
  {
   "cell_type": "markdown",
   "metadata": {},
   "source": [
    "### Exemplo Aderência Web"
   ]
  },
  {
   "cell_type": "markdown",
   "metadata": {},
   "source": [
    "Uma empresa vendendo um serviço de **valor relativamente alto** quer testar qual entre duas páginas na web venderia mais.\n",
    "\n",
    "Devido ao alto valor do serviço sendo vendido, as **vendas não são frequentes** e o ciclo de vendas é longo.\n",
    "\n",
    "**Demoraria muito para acumular vendas suficientes para saber qual apresentação é superior.**\n",
    "\n",
    "Então, a empresa decide medir os resultados com uma variável proxy, usando a página interna detalhada que descreve o serviço (página B).\n",
    "* Uma potencial variável proxy para nossa empresa seria o número de cliques em uma página específica.\n",
    "* <font color = blue>**Uma melhor seria quanto tempo as pessoas passam na página.**</font>\n",
    "\n",
    "É importante pensar que uma página web (página B) que prenda a atenção das pessoas por mais tempo levará a mais vendas.\n",
    "\n",
    "**Portanto, nossa métrica é o tempo médio de sessão, comparando a página A com a página B.**\n",
    "\n",
    "Por ser uma página interior, especial, ela não recebe um grande número de visitantes.\n",
    "\n",
    "Observe também que o Google Analytics, que é como medimos o tempo de sessão, não consegue medir o tempo de sessão para a última sessão que uma pessoa visita.\n",
    "\n",
    "* Em vez de deletar aquela sessão dos dados, o GA a registra como um zero, então os dados exigem processamento adicional para remover aquelas sessões.\n",
    "\n",
    "O resultado é um total de 36 sessões para as duas apresentações diferentes, 21 para a página A e 15 para a página B. "
   ]
  },
  {
   "cell_type": "code",
   "execution_count": 9,
   "metadata": {
    "ExecuteTime": {
     "end_time": "2022-07-04T21:39:02.054426Z",
     "start_time": "2022-07-04T21:39:02.020110Z"
    }
   },
   "outputs": [
    {
     "data": {
      "text/html": [
       "<div>\n",
       "<style scoped>\n",
       "    .dataframe tbody tr th:only-of-type {\n",
       "        vertical-align: middle;\n",
       "    }\n",
       "\n",
       "    .dataframe tbody tr th {\n",
       "        vertical-align: top;\n",
       "    }\n",
       "\n",
       "    .dataframe thead th {\n",
       "        text-align: right;\n",
       "    }\n",
       "</style>\n",
       "<table border=\"1\" class=\"dataframe\">\n",
       "  <thead>\n",
       "    <tr style=\"text-align: right;\">\n",
       "      <th></th>\n",
       "      <th>Page</th>\n",
       "      <th>Time</th>\n",
       "    </tr>\n",
       "  </thead>\n",
       "  <tbody>\n",
       "    <tr>\n",
       "      <th>0</th>\n",
       "      <td>Page A</td>\n",
       "      <td>21.0</td>\n",
       "    </tr>\n",
       "    <tr>\n",
       "      <th>1</th>\n",
       "      <td>Page B</td>\n",
       "      <td>253.0</td>\n",
       "    </tr>\n",
       "    <tr>\n",
       "      <th>2</th>\n",
       "      <td>Page A</td>\n",
       "      <td>35.0</td>\n",
       "    </tr>\n",
       "    <tr>\n",
       "      <th>3</th>\n",
       "      <td>Page B</td>\n",
       "      <td>71.0</td>\n",
       "    </tr>\n",
       "    <tr>\n",
       "      <th>4</th>\n",
       "      <td>Page A</td>\n",
       "      <td>67.0</td>\n",
       "    </tr>\n",
       "    <tr>\n",
       "      <th>5</th>\n",
       "      <td>Page B</td>\n",
       "      <td>85.0</td>\n",
       "    </tr>\n",
       "    <tr>\n",
       "      <th>6</th>\n",
       "      <td>Page A</td>\n",
       "      <td>211.0</td>\n",
       "    </tr>\n",
       "    <tr>\n",
       "      <th>7</th>\n",
       "      <td>Page B</td>\n",
       "      <td>246.0</td>\n",
       "    </tr>\n",
       "    <tr>\n",
       "      <th>8</th>\n",
       "      <td>Page A</td>\n",
       "      <td>132.0</td>\n",
       "    </tr>\n",
       "    <tr>\n",
       "      <th>9</th>\n",
       "      <td>Page B</td>\n",
       "      <td>149.0</td>\n",
       "    </tr>\n",
       "    <tr>\n",
       "      <th>10</th>\n",
       "      <td>Page A</td>\n",
       "      <td>68.0</td>\n",
       "    </tr>\n",
       "    <tr>\n",
       "      <th>11</th>\n",
       "      <td>Page B</td>\n",
       "      <td>75.0</td>\n",
       "    </tr>\n",
       "    <tr>\n",
       "      <th>12</th>\n",
       "      <td>Page A</td>\n",
       "      <td>321.0</td>\n",
       "    </tr>\n",
       "    <tr>\n",
       "      <th>13</th>\n",
       "      <td>Page B</td>\n",
       "      <td>333.0</td>\n",
       "    </tr>\n",
       "    <tr>\n",
       "      <th>14</th>\n",
       "      <td>Page A</td>\n",
       "      <td>147.0</td>\n",
       "    </tr>\n",
       "    <tr>\n",
       "      <th>15</th>\n",
       "      <td>Page B</td>\n",
       "      <td>187.0</td>\n",
       "    </tr>\n",
       "    <tr>\n",
       "      <th>16</th>\n",
       "      <td>Page A</td>\n",
       "      <td>95.0</td>\n",
       "    </tr>\n",
       "    <tr>\n",
       "      <th>17</th>\n",
       "      <td>Page B</td>\n",
       "      <td>126.0</td>\n",
       "    </tr>\n",
       "    <tr>\n",
       "      <th>18</th>\n",
       "      <td>Page A</td>\n",
       "      <td>45.0</td>\n",
       "    </tr>\n",
       "    <tr>\n",
       "      <th>19</th>\n",
       "      <td>Page B</td>\n",
       "      <td>48.0</td>\n",
       "    </tr>\n",
       "    <tr>\n",
       "      <th>20</th>\n",
       "      <td>Page A</td>\n",
       "      <td>118.0</td>\n",
       "    </tr>\n",
       "    <tr>\n",
       "      <th>21</th>\n",
       "      <td>Page B</td>\n",
       "      <td>147.0</td>\n",
       "    </tr>\n",
       "    <tr>\n",
       "      <th>22</th>\n",
       "      <td>Page A</td>\n",
       "      <td>342.0</td>\n",
       "    </tr>\n",
       "    <tr>\n",
       "      <th>23</th>\n",
       "      <td>Page B</td>\n",
       "      <td>357.0</td>\n",
       "    </tr>\n",
       "    <tr>\n",
       "      <th>24</th>\n",
       "      <td>Page A</td>\n",
       "      <td>197.0</td>\n",
       "    </tr>\n",
       "    <tr>\n",
       "      <th>25</th>\n",
       "      <td>Page B</td>\n",
       "      <td>223.0</td>\n",
       "    </tr>\n",
       "    <tr>\n",
       "      <th>26</th>\n",
       "      <td>Page A</td>\n",
       "      <td>39.0</td>\n",
       "    </tr>\n",
       "    <tr>\n",
       "      <th>27</th>\n",
       "      <td>Page B</td>\n",
       "      <td>43.0</td>\n",
       "    </tr>\n",
       "    <tr>\n",
       "      <th>28</th>\n",
       "      <td>Page A</td>\n",
       "      <td>65.0</td>\n",
       "    </tr>\n",
       "    <tr>\n",
       "      <th>29</th>\n",
       "      <td>Page B</td>\n",
       "      <td>87.0</td>\n",
       "    </tr>\n",
       "    <tr>\n",
       "      <th>30</th>\n",
       "      <td>Page A</td>\n",
       "      <td>173.0</td>\n",
       "    </tr>\n",
       "    <tr>\n",
       "      <th>31</th>\n",
       "      <td>Page A</td>\n",
       "      <td>74.0</td>\n",
       "    </tr>\n",
       "    <tr>\n",
       "      <th>32</th>\n",
       "      <td>Page A</td>\n",
       "      <td>86.0</td>\n",
       "    </tr>\n",
       "    <tr>\n",
       "      <th>33</th>\n",
       "      <td>Page A</td>\n",
       "      <td>118.0</td>\n",
       "    </tr>\n",
       "    <tr>\n",
       "      <th>34</th>\n",
       "      <td>Page A</td>\n",
       "      <td>206.0</td>\n",
       "    </tr>\n",
       "    <tr>\n",
       "      <th>35</th>\n",
       "      <td>Page A</td>\n",
       "      <td>93.0</td>\n",
       "    </tr>\n",
       "  </tbody>\n",
       "</table>\n",
       "</div>"
      ],
      "text/plain": [
       "      Page   Time\n",
       "0   Page A   21.0\n",
       "1   Page B  253.0\n",
       "2   Page A   35.0\n",
       "3   Page B   71.0\n",
       "4   Page A   67.0\n",
       "5   Page B   85.0\n",
       "6   Page A  211.0\n",
       "7   Page B  246.0\n",
       "8   Page A  132.0\n",
       "9   Page B  149.0\n",
       "10  Page A   68.0\n",
       "11  Page B   75.0\n",
       "12  Page A  321.0\n",
       "13  Page B  333.0\n",
       "14  Page A  147.0\n",
       "15  Page B  187.0\n",
       "16  Page A   95.0\n",
       "17  Page B  126.0\n",
       "18  Page A   45.0\n",
       "19  Page B   48.0\n",
       "20  Page A  118.0\n",
       "21  Page B  147.0\n",
       "22  Page A  342.0\n",
       "23  Page B  357.0\n",
       "24  Page A  197.0\n",
       "25  Page B  223.0\n",
       "26  Page A   39.0\n",
       "27  Page B   43.0\n",
       "28  Page A   65.0\n",
       "29  Page B   87.0\n",
       "30  Page A  173.0\n",
       "31  Page A   74.0\n",
       "32  Page A   86.0\n",
       "33  Page A  118.0\n",
       "34  Page A  206.0\n",
       "35  Page A   93.0"
      ]
     },
     "execution_count": 9,
     "metadata": {},
     "output_type": "execute_result"
    }
   ],
   "source": [
    "session_times = pd.read_csv(WEB_PAGE_DATA_CSV)\n",
    "session_times.Time = 100 * session_times.Time\n",
    "session_times"
   ]
  },
  {
   "cell_type": "code",
   "execution_count": 10,
   "metadata": {
    "ExecuteTime": {
     "end_time": "2022-07-04T21:39:02.574817Z",
     "start_time": "2022-07-04T21:39:02.061462Z"
    }
   },
   "outputs": [
    {
     "data": {
      "image/png": "[encoded data removed]",
      "text/plain": [
       "<Figure size 2160x1080 with 1 Axes>"
      ]
     },
     "metadata": {},
     "output_type": "display_data"
    }
   ],
   "source": [
    "# Boxplot\n",
    "sns.boxplot(data = session_times, x = 'Page', y = 'Time');"
   ]
  },
  {
   "cell_type": "code",
   "execution_count": 11,
   "metadata": {
    "ExecuteTime": {
     "end_time": "2022-07-04T21:39:02.590968Z",
     "start_time": "2022-07-04T21:39:02.576877Z"
    }
   },
   "outputs": [
    {
     "data": {
      "text/html": [
       "<div>\n",
       "<style scoped>\n",
       "    .dataframe tbody tr th:only-of-type {\n",
       "        vertical-align: middle;\n",
       "    }\n",
       "\n",
       "    .dataframe tbody tr th {\n",
       "        vertical-align: top;\n",
       "    }\n",
       "\n",
       "    .dataframe thead th {\n",
       "        text-align: right;\n",
       "    }\n",
       "</style>\n",
       "<table border=\"1\" class=\"dataframe\">\n",
       "  <thead>\n",
       "    <tr style=\"text-align: right;\">\n",
       "      <th></th>\n",
       "      <th>Page</th>\n",
       "      <th>Time</th>\n",
       "    </tr>\n",
       "  </thead>\n",
       "  <tbody>\n",
       "    <tr>\n",
       "      <th>0</th>\n",
       "      <td>Page A</td>\n",
       "      <td>126.333333</td>\n",
       "    </tr>\n",
       "    <tr>\n",
       "      <th>1</th>\n",
       "      <td>Page B</td>\n",
       "      <td>162.000000</td>\n",
       "    </tr>\n",
       "  </tbody>\n",
       "</table>\n",
       "</div>"
      ],
      "text/plain": [
       "     Page        Time\n",
       "0  Page A  126.333333\n",
       "1  Page B  162.000000"
      ]
     },
     "execution_count": 11,
     "metadata": {},
     "output_type": "execute_result"
    }
   ],
   "source": [
    "# media de cada pagina\n",
    "aux1 = session_times[['Page','Time']].groupby('Page').mean().reset_index()\n",
    "aux1"
   ]
  },
  {
   "cell_type": "code",
   "execution_count": 12,
   "metadata": {
    "ExecuteTime": {
     "end_time": "2022-07-04T21:39:02.600828Z",
     "start_time": "2022-07-04T21:39:02.593152Z"
    },
    "execution": {
     "iopub.execute_input": "2021-07-31T15:51:51.127007Z",
     "iopub.status.busy": "2021-07-31T15:51:51.126446Z",
     "iopub.status.idle": "2021-07-31T15:51:51.129694Z",
     "shell.execute_reply": "2021-07-31T15:51:51.129295Z"
    }
   },
   "outputs": [
    {
     "name": "stdout",
     "output_type": "stream",
     "text": [
      "35.66666666666667\n"
     ]
    }
   ],
   "source": [
    "# Diferenca entre as médias das paginas A e B\n",
    "mean_a = session_times[session_times.Page == 'Page A'].Time.mean()\n",
    "mean_b = session_times[session_times.Page == 'Page B'].Time.mean()\n",
    "print(mean_b - mean_a)"
   ]
  },
  {
   "cell_type": "markdown",
   "metadata": {},
   "source": [
    "**A página B possui tempos de sessão 35.67 segundos maiores, em média, do que a página A.**\n",
    "\n",
    "<font color = red>**A questão é se essa diferença está dentro da faixa do que o acaso poderia produzir ou, por outro lado, é estatisticamente significante.**</font> \n",
    "\n",
    "Um meio de responder isso é aplicando um teste de permutação\n",
    "* Junte todos os tempos de sessão, então embaralhe repetidamente e divida em grupos de 21  e 15 \n",
    "    * n = 21 para página A\n",
    "    * n = 15 para página B\n",
    "\n",
    "Para aplicar um teste de permutação, precisamos de uma função para atribuir aleatoriamente os 36 tempos de sessão a um grupo de 21 (página A) a um grupo de 15 (página B):"
   ]
  },
  {
   "cell_type": "code",
   "execution_count": 13,
   "metadata": {
    "ExecuteTime": {
     "end_time": "2022-07-04T21:39:02.608261Z",
     "start_time": "2022-07-04T21:39:02.603025Z"
    },
    "execution": {
     "iopub.execute_input": "2021-07-31T15:51:51.135944Z",
     "iopub.status.busy": "2021-07-31T15:51:51.135276Z",
     "iopub.status.idle": "2021-07-31T15:51:51.138639Z",
     "shell.execute_reply": "2021-07-31T15:51:51.139086Z"
    }
   },
   "outputs": [],
   "source": [
    "# Funcao Permutacao dos elementos da amostra\n",
    "def perm_fun(x, nA, nB):\n",
    "    #1. Combine os resultados dos diferentes grupos em um único conjunto de dados.\n",
    "    n = nA + nB\n",
    "    #2. Embaralhe os dados combinados, então extraia aleatoriamente (sem reposição) uma reamostra de tamanho igual ao do grupo B.\n",
    "    idx_B = set(random.sample(range(n), nB))\n",
    "    #3. Dos dados restantes, extraia aleatoriamente (sem reposição) uma reamostra de tamanho igual ao do grupo A.\n",
    "    idx_A = set(range(n)) - idx_B\n",
    "    #5. Seja qual for a estatística ou estimativa calculada para as amostras originais:\n",
    "        # Por exemplo, diferenças entre as medias dos grupos\n",
    "        # Calcule-a agora para as reamostras e registre.\n",
    "        # Isso constitui uma iteração de permutação.\n",
    "    return x.loc[idx_B].mean() - x.loc[idx_A].mean()"
   ]
  },
  {
   "cell_type": "markdown",
   "metadata": {},
   "source": [
    "Essa função funciona reamostrando sem reposição n2 índices e atribuindo-os ao grupo B. \n",
    "\n",
    "Os índices n1 restantes são atribuídos ao grupo A. \n",
    "\n",
    "**A diferença entre as duas médias das reamostras é retornada.**"
   ]
  },
  {
   "cell_type": "code",
   "execution_count": 14,
   "metadata": {
    "ExecuteTime": {
     "end_time": "2022-07-04T21:39:02.620492Z",
     "start_time": "2022-07-04T21:39:02.610571Z"
    }
   },
   "outputs": [
    {
     "name": "stdout",
     "output_type": "stream",
     "text": [
      "\n",
      "Numero de elementos da reamostra A: 21\n",
      "\n",
      "Numero de elementos da reamostra B: 15\n",
      "\n",
      "Tempo medio da reamostra B - tempo medio da reamostra A = -21.933333333333337\n",
      "\n",
      "Tempo medio da pagina B - tempo medio da pagina A = 35.66666666666667\n"
     ]
    }
   ],
   "source": [
    "nA = session_times[session_times.Page == 'Page A'].shape[0]\n",
    "nB = session_times[session_times.Page == 'Page B'].shape[0]\n",
    "print('\\nNumero de elementos da reamostra A: {}'.format(nA))\n",
    "print('\\nNumero de elementos da reamostra B: {}'.format(nB))\n",
    "print('\\nTempo medio da reamostra B - tempo medio da reamostra A = {}'.format( perm_fun(session_times.Time, nA, nB)))\n",
    "print('\\nTempo medio da pagina B - tempo medio da pagina A = {}'.format(mean_b - mean_a))"
   ]
  },
  {
   "cell_type": "markdown",
   "metadata": {},
   "source": [
    "**6. Repita os passos anteriores R vezes para produzir uma distribuição de permutação da estatística de teste.**"
   ]
  },
  {
   "cell_type": "code",
   "execution_count": 15,
   "metadata": {
    "ExecuteTime": {
     "end_time": "2022-07-04T21:39:03.720117Z",
     "start_time": "2022-07-04T21:39:02.628196Z"
    },
    "execution": {
     "iopub.execute_input": "2021-07-31T15:51:51.177938Z",
     "iopub.status.busy": "2021-07-31T15:51:51.177524Z",
     "iopub.status.idle": "2021-07-31T15:51:51.925302Z",
     "shell.execute_reply": "2021-07-31T15:51:51.924891Z"
    },
    "scrolled": false
   },
   "outputs": [
    {
     "data": {
      "text/plain": [
       "[6.523809523809518,\n",
       " -17.59047619047618,\n",
       " 22.866666666666674,\n",
       " -6.161904761904765,\n",
       " 10.29523809523809,\n",
       " -9.019047619047626,\n",
       " 5.838095238095235,\n",
       " -49.019047619047626,\n",
       " -7.6476190476190595,\n",
       " -14.733333333333348]"
      ]
     },
     "execution_count": 15,
     "metadata": {},
     "output_type": "execute_result"
    }
   ],
   "source": [
    "random.seed(1)\n",
    "# R = 1000 vezes\n",
    "perm_diffs = [perm_fun(session_times.Time, nA, nB) for _ in range(1000)]\n",
    "# 10 primeiras diferencas registradas das medias das paginas para cada reamostra/iteracao\n",
    "perm_diffs[0:10]"
   ]
  },
  {
   "cell_type": "code",
   "execution_count": 16,
   "metadata": {
    "ExecuteTime": {
     "end_time": "2022-07-04T21:39:04.465335Z",
     "start_time": "2022-07-04T21:39:03.723551Z"
    }
   },
   "outputs": [
    {
     "data": {
      "image/png": "[encoded data removed]",
      "text/plain": [
       "<Figure size 2160x1080 with 1 Axes>"
      ]
     },
     "metadata": {},
     "output_type": "display_data"
    }
   ],
   "source": [
    "# histrograma da distribuição das diferenças entre as medias registradas de cada reamostra\n",
    "sns.histplot(perm_diffs, stat = 'frequency');"
   ]
  },
  {
   "cell_type": "code",
   "execution_count": 17,
   "metadata": {
    "ExecuteTime": {
     "end_time": "2022-07-04T21:39:05.281647Z",
     "start_time": "2022-07-04T21:39:04.469788Z"
    }
   },
   "outputs": [
    {
     "data": {
      "image/png": "[encoded data removed]",
      "text/plain": [
       "<Figure size 1800x864 with 1 Axes>"
      ]
     },
     "metadata": {},
     "output_type": "display_data"
    }
   ],
   "source": [
    "# histrograma da distribuição das diferenças entre as medias registradas de cada reamostra\n",
    "fig, ax = plt.subplots(figsize=(25, 12))\n",
    "sns.histplot(perm_diffs, stat = 'frequency', bins = 25, binwidth = 5, ax = ax);\n",
    "ax.axvline(x = mean_b - mean_a, color='black', lw=2);\n",
    "ax.axvline(x = np.mean(perm_diffs), color='red', lw=2);\n",
    "ax.text(40, 12, 'Diferenca observada das\\nmedias das paginas', bbox={'facecolor':'white'});\n",
    "ax.text(-25, 13.5, 'Diferenca observada das\\nmedias das diferencas', bbox={'facecolor':'white'});\n",
    "ax.set_xlabel('Session time differences (in seconds)');\n",
    "ax.set_ylabel('Frequency');\n",
    "plt.show();"
   ]
  },
  {
   "cell_type": "markdown",
   "metadata": {},
   "source": [
    "<font color = red>**Quantas vezes as diferenças entre as medias das reamostras foram maiores que 35,67 segundos (diferença entre as médias das páginas)?**</font>"
   ]
  },
  {
   "cell_type": "code",
   "execution_count": 18,
   "metadata": {
    "ExecuteTime": {
     "end_time": "2022-07-04T21:39:05.293907Z",
     "start_time": "2022-07-04T21:39:05.289022Z"
    },
    "execution": {
     "iopub.execute_input": "2021-07-31T15:51:51.929497Z",
     "iopub.status.busy": "2021-07-31T15:51:51.929001Z",
     "iopub.status.idle": "2021-07-31T15:51:51.932526Z",
     "shell.execute_reply": "2021-07-31T15:51:51.932151Z"
    }
   },
   "outputs": [
    {
     "name": "stdout",
     "output_type": "stream",
     "text": [
      "12.1 %\n"
     ]
    }
   ],
   "source": [
    "print(np.mean(perm_diffs > mean_b - mean_a)*100,'%')"
   ]
  },
  {
   "cell_type": "markdown",
   "metadata": {},
   "source": [
    "Isso sugere que a diferença observada no tempo de sessão entre a página A e a página B está dentro da faixa de variação de possibilidades, <font color = red>**então não é estatisticamente significante.**</font>\n",
    "\n",
    "Ou seja, nesse experimento aleatório em 12,1% das vezes:\n",
    "* A diferença entre as medias das paginas reamostradas foram maiores que 35,67 segundos.\n",
    "\n",
    "**Tendo em vista a formulação do problema inicial da aderência Web**\n",
    "\n",
    "<font color = green>**Então, a empresa decide medir os resultados com uma variável proxy, usando a página interna detalhada (página B) que descreve o serviço.**</font>\n",
    "* <font color = blue>**variável proxy = quanto tempo as pessoas passam na página.**</font>\n",
    "* É importante pensar que uma apresentação web (página B) que prenda a atenção das pessoas por **mais tempo levará a mais vendas.**\n",
    "* **Portanto, nossa métrica é o tempo médio de sessão, comparando a página A com a página B.**\n",
    "\n",
    "<font color = red>**Não podemos concluir com significancia estatistica que a diferença entre os tempos médios das paginas A e B levará a mais vendas da página B.**</font>\n",
    "\n",
    "**A diferença observada de 35.67 segundos pode ter origem em causas aleatórias.**\n",
    "\n"
   ]
  },
  {
   "cell_type": "markdown",
   "metadata": {},
   "source": [
    "### Testes de Permutação Exautiva e Bootstrap"
   ]
  },
  {
   "cell_type": "markdown",
   "metadata": {},
   "source": [
    "Além do procedimento anterior de embaralhamento aleatório, também chamado de teste de permutação aleatória ou de teste de randomização, existem duas variações do teste de permutação\n",
    "* Um teste de permutação exaustiva\n",
    "* Um teste de permutação bootstrap\n",
    "\n",
    "**Em um teste de permutação exaustiva:**\n",
    "* Em vez de simplesmente embaralhar aleatoriamente e dividir os dados\n",
    "* Na verdade adivinhamos todos os modos possíveis em que podem ser divididos.\n",
    "    * Isso é prático apenas para tamanhos de amostra relativamente pequenos. \n",
    "* Com um número grande de embaralhamentos repetidos, os resultados do teste de permutação se aproximam daqueles do teste de permutação exaustiva e os abordam no limite.\n",
    "* Os testes de permutação exaustiva também são chamados às vezes de testes exatos, devido à sua propriedade estatística de garantir que o modelo nulo não seja testado como “significante” além do nível alfa do teste.\n",
    "\n",
    "**Em um teste de permutação bootstrap:**\n",
    "* As extrações descritas nos passos 2 e 3 do teste de permutação aleatória são feitas com reposição, ao invés de sem reposição. \n",
    "* Dessa forma, o procedimento de reamostragem modela não somente o elemento aleatório na atribuição do tratamento ao indivíduo, mas também o elemento aleatório na seleção de indivíduos de uma população.\n",
    "* Ambos os procedimentos são encontrados na estatística, e a distinção entre eles é um pouco complexa, e não consequência da prática da ciência de dados."
   ]
  },
  {
   "cell_type": "markdown",
   "metadata": {},
   "source": [
    "### Testes de Permutação: A Conclusão para a Ciência de Dados"
   ]
  },
  {
   "cell_type": "markdown",
   "metadata": {},
   "source": [
    "Os testes de permutação **são úteis** em procedimentos heurísticos para a exploração do papel da variação aleatória.\n",
    "\n",
    "<font color = red>**Eles são relativamente fáceis de codificar, interpretar e explicar e oferecem um desvio útil ao redor do formalismo e “falso determinismo” das estatísticas baseadas em fórmulas.**</font>\n",
    "\n",
    "Uma virtude da reamostragem, ao contrário das abordagens por fórmula, **é que chega muito mais perto de uma abordagem “tamanho único” à inferência.**\n",
    "\n",
    "Os dados podem ser numéricos ou binários.\n",
    "\n",
    "Os tamanhos de amostra podem ser iguais ou diferentes.\n",
    "\n",
    "<font color = blue>**As suposições sobre os dados normalmente distribuídos não são necessárias.**</font>"
   ]
  },
  {
   "cell_type": "markdown",
   "metadata": {},
   "source": [
    "### Ideias Chaves"
   ]
  },
  {
   "cell_type": "markdown",
   "metadata": {},
   "source": [
    "* Em um teste de permutação, múltiplas amostras são combinadas e então embaralhadas.\n",
    "* Os valores embaralhados são então divididos em reamostras, e a estatística de interesse é calculada.\n",
    "* Esse processo é então repetido, e a estatística reamostrada é tabulada.\n",
    "* A comparação dos valores observados da estatística com a distribuição reamostrada permite julgar se uma diferença observada entre as amostras pode ocorrer por acaso."
   ]
  },
  {
   "cell_type": "markdown",
   "metadata": {},
   "source": [
    "## 3.5 Significância Estatística e Valores P"
   ]
  },
  {
   "cell_type": "markdown",
   "metadata": {},
   "source": [
    "### Termos Chave"
   ]
  },
  {
   "cell_type": "markdown",
   "metadata": {},
   "source": [
    "**Valor p**\n",
    "* Dado um modelo de acaso que representa a hipótese nula, o valor p é a probabilidade de obter resultados tão incomuns ou extremos quanto os resultados observados.\n",
    "\n",
    "**Alfa**\n",
    "* Um limiar de probabilidade de “ser incomum” que os resultados do acaso podem ultrapassar, para resultados reais serem definidos como estatisticamente significantes.\n",
    "\n",
    "**Erro tipo 1**\n",
    "* Concluir erroneamente que um efeito é real (quando acontece pelo acaso).\n",
    "\n",
    "**Erro tipo 2**\n",
    "* Concluir erroneamente que um efeito ocorreu pelo acaso (quando é real)."
   ]
  },
  {
   "cell_type": "markdown",
   "metadata": {},
   "source": [
    "### Introdução"
   ]
  },
  {
   "cell_type": "markdown",
   "metadata": {},
   "source": [
    "**Significância estatística é como os estatísticos medem se um experimento (ou até mesmo um estudo de dados existente) produz um resultado mais extremo do que o acaso poderia produzir.**\n",
    "\n",
    "Se o resultado estiver além do domínio da variação do acaso, é chamado de estatisticamente significante."
   ]
  },
  {
   "cell_type": "markdown",
   "metadata": {},
   "source": [
    "### Exemplo E-Commerce"
   ]
  },
  {
   "cell_type": "code",
   "execution_count": 19,
   "metadata": {
    "ExecuteTime": {
     "end_time": "2022-07-04T21:39:05.491967Z",
     "start_time": "2022-07-04T21:39:05.295844Z"
    }
   },
   "outputs": [
    {
     "data": {
      "image/png": "[encoded data removed]",
      "text/plain": [
       "<IPython.core.display.Image object>"
      ]
     },
     "execution_count": 19,
     "metadata": {},
     "output_type": "execute_result"
    }
   ],
   "source": [
    "Image(\"/home/deivison/Documentos/projetos/stats/imagem/cap_03_ecommerce_1.png\")"
   ]
  },
  {
   "cell_type": "markdown",
   "metadata": {},
   "source": [
    "O preço A converte quase 5% melhor que o preço B\n",
    "* (0.8425% = 200/(23539+200)* 100 versus 0.8057% = 182/(22406+182) * 100% \n",
    "* **Uma diferença de 0,0368 pontos percentuais**\n",
    "\n",
    "A diferença é grande o bastante para ser significativo em um negócio de alto volume.\n",
    "* Temos mais de 45 mil pontos de dados aqui\n",
    "* é tentador considerar isso como “big data”, sem exigir testes de significância estatística.\n",
    "    * necessários principalmente para contabilizar variabilidade amostral em pequenas amostras.\n",
    "\n",
    "No entanto, as taxas de conversão são tão baixas (menos de 1%), que os valores realmente significativos — as conversões — estão apenas em centenas, e o **tamanho de amostra necessário é na verdade determinado por essas conversões.**\n",
    "\n",
    "Podemos testar se a diferença das conversões entre os preços A e B está dentro da taxa de variação do acaso usando um procedimento de reamostragem. \n",
    "\n",
    "Por “variação do acaso” nos referimos à variação aleatória produzida por um modelo de probabilidade que representa a **hipótese nula de que não há diferença entre as taxas** \n",
    "\n",
    "O procedimento de permutação a seguir pergunta: \n",
    "\n",
    "<font color = red>**“Se os dois preços compartilham a mesma taxa de conversão, a variação do acaso poderia produzir uma diferença de 5%?”**</font>\n",
    "\n",
    "**Teste de Permutação**\n",
    "\n",
    "1. Crie uma urna com todos os resultados amostrais.\n",
    "    * Isso representa a suposta taxa de conversão compartilhada de 382 uns e 45.945 zeros = 0,008246 = 0,8246%.\n",
    "2. Embaralhe e extraia uma reamostra de tamanho 23.739 (mesmo n que o preço A), e registre a quantidade de 1s.\n",
    "3. Registre o número de 1s nos 22.588 (mesmo n que o preço B) restantes.\n",
    "4. Registre a diferença em proporção de 1s.\n",
    "5. Repita os passos de 2 a 4.\n",
    "6. Quão frequente foi a diferença >= 0.0368?\n"
   ]
  },
  {
   "cell_type": "code",
   "execution_count": 20,
   "metadata": {
    "ExecuteTime": {
     "end_time": "2022-07-04T21:39:05.546517Z",
     "start_time": "2022-07-04T21:39:05.495187Z"
    }
   },
   "outputs": [
    {
     "name": "stdout",
     "output_type": "stream",
     "text": [
      "Observed difference: 0.0368%\n",
      "\n",
      " Numero de conversoes da urna: 382\n",
      "\n",
      " Numero de zeros da urna: 45945\n"
     ]
    }
   ],
   "source": [
    "random.seed(1)\n",
    "#diferenca percentual observada\n",
    "obs_pct_diff = 100 * (200 / 23739 - 182 / 22588) \n",
    "print(f'Observed difference: {obs_pct_diff:.4f}%')\n",
    "\n",
    "conversion = [0] * 45945\n",
    "conversion.extend([1] * 382)\n",
    "conversion = pd.Series(conversion)\n",
    "print('\\n Numero de conversoes da urna: {}'.format(conversion.loc[conversion==1].shape[0]))\n",
    "print('\\n Numero de zeros da urna: {}'.format(conversion.loc[conversion==0].shape[0]))"
   ]
  },
  {
   "cell_type": "code",
   "execution_count": 21,
   "metadata": {
    "ExecuteTime": {
     "end_time": "2022-07-04T21:39:48.291622Z",
     "start_time": "2022-07-04T21:39:05.549251Z"
    }
   },
   "outputs": [
    {
     "data": {
      "text/plain": [
       "[-0.06267673224219054,\n",
       " -0.019478698206194106,\n",
       " 0.023719335829802332,\n",
       " 0.17923225835938977,\n",
       " -0.02811830501339343,\n",
       " -0.22682926157897723,\n",
       " -0.06267673224219054,\n",
       " -0.0453975186277919,\n",
       " -0.12315397989258554,\n",
       " 0.023719335829802332]"
      ]
     },
     "execution_count": 21,
     "metadata": {},
     "output_type": "execute_result"
    }
   ],
   "source": [
    "random.seed(1)\n",
    "# Calcular as diferenças entre as porcentagens para 1000 reamostras\n",
    "perm_diffs = [100 * perm_fun(conversion, 23739, 22588) for _ in range(1000)]\n",
    "# 10 primeiras diferenças entre as conversões dos precos\n",
    "perm_diffs[0:10]"
   ]
  },
  {
   "cell_type": "code",
   "execution_count": 22,
   "metadata": {
    "ExecuteTime": {
     "end_time": "2022-07-04T21:39:48.305655Z",
     "start_time": "2022-07-04T21:39:48.294085Z"
    }
   },
   "outputs": [
    {
     "data": {
      "text/html": [
       "<div>\n",
       "<style scoped>\n",
       "    .dataframe tbody tr th:only-of-type {\n",
       "        vertical-align: middle;\n",
       "    }\n",
       "\n",
       "    .dataframe tbody tr th {\n",
       "        vertical-align: top;\n",
       "    }\n",
       "\n",
       "    .dataframe thead th {\n",
       "        text-align: right;\n",
       "    }\n",
       "</style>\n",
       "<table border=\"1\" class=\"dataframe\">\n",
       "  <thead>\n",
       "    <tr style=\"text-align: right;\">\n",
       "      <th></th>\n",
       "      <th>diferenca</th>\n",
       "    </tr>\n",
       "  </thead>\n",
       "  <tbody>\n",
       "    <tr>\n",
       "      <th>0</th>\n",
       "      <td>-0.062677</td>\n",
       "    </tr>\n",
       "    <tr>\n",
       "      <th>1</th>\n",
       "      <td>-0.019479</td>\n",
       "    </tr>\n",
       "    <tr>\n",
       "      <th>2</th>\n",
       "      <td>0.023719</td>\n",
       "    </tr>\n",
       "    <tr>\n",
       "      <th>3</th>\n",
       "      <td>0.179232</td>\n",
       "    </tr>\n",
       "    <tr>\n",
       "      <th>4</th>\n",
       "      <td>-0.028118</td>\n",
       "    </tr>\n",
       "  </tbody>\n",
       "</table>\n",
       "</div>"
      ],
      "text/plain": [
       "   diferenca\n",
       "0  -0.062677\n",
       "1  -0.019479\n",
       "2   0.023719\n",
       "3   0.179232\n",
       "4  -0.028118"
      ]
     },
     "execution_count": 22,
     "metadata": {},
     "output_type": "execute_result"
    }
   ],
   "source": [
    "df_perm_diffs = pd.DataFrame( perm_diffs, columns = ['diferenca'])\n",
    "media = df_perm_diffs.mean().astype(float)\n",
    "df_perm_diffs.head()"
   ]
  },
  {
   "cell_type": "code",
   "execution_count": 23,
   "metadata": {
    "ExecuteTime": {
     "end_time": "2022-07-04T21:39:48.316696Z",
     "start_time": "2022-07-04T21:39:48.308066Z"
    }
   },
   "outputs": [
    {
     "data": {
      "text/plain": [
       "diferenca   -0.000947\n",
       "dtype: float64"
      ]
     },
     "execution_count": 23,
     "metadata": {},
     "output_type": "execute_result"
    }
   ],
   "source": [
    "media"
   ]
  },
  {
   "cell_type": "code",
   "execution_count": 24,
   "metadata": {
    "ExecuteTime": {
     "end_time": "2022-07-04T21:39:48.948117Z",
     "start_time": "2022-07-04T21:39:48.318548Z"
    }
   },
   "outputs": [
    {
     "data": {
      "text/plain": [
       "Text(0, 0.5, 'Frequency')"
      ]
     },
     "execution_count": 24,
     "metadata": {},
     "output_type": "execute_result"
    },
    {
     "data": {
      "image/png": "[encoded data removed]",
      "text/plain": [
       "<Figure size 1800x864 with 1 Axes>"
      ]
     },
     "metadata": {},
     "output_type": "display_data"
    }
   ],
   "source": [
    "fig, ax = plt.subplots(figsize=(25, 12))\n",
    "sns.histplot(data = df_perm_diffs, stat = 'count', bins = 11, ax = ax);\n",
    "ax.axvline(x=obs_pct_diff, color='black', lw=2) #coloca a linha vertical no valor do percentual da diferenca\n",
    "ax.axvline(x = media[0], color='red', lw=2) #coloca a linha vertical no valor medio do percentual da diferenca\n",
    "ax.text(0.06, 200, 'Observed\\ndifference', bbox={'facecolor':'white'})\n",
    "ax.set_xlabel('Conversion rate (percent)')\n",
    "ax.set_ylabel('Frequency')"
   ]
  },
  {
   "cell_type": "code",
   "execution_count": 25,
   "metadata": {
    "ExecuteTime": {
     "end_time": "2022-07-04T21:39:48.959768Z",
     "start_time": "2022-07-04T21:39:48.951740Z"
    }
   },
   "outputs": [
    {
     "data": {
      "text/plain": [
       "332"
      ]
     },
     "execution_count": 25,
     "metadata": {},
     "output_type": "execute_result"
    }
   ],
   "source": [
    "# Diferencas maiores que 0,0368 %\n",
    "df_perm_diffs.loc[(df_perm_diffs['diferenca'] > obs_pct_diff)].shape[0]"
   ]
  },
  {
   "cell_type": "markdown",
   "metadata": {
    "ExecuteTime": {
     "end_time": "2022-06-30T19:21:47.300029Z",
     "start_time": "2022-06-30T19:21:47.291579Z"
    }
   },
   "source": [
    "Veja o histograma de 1.000 resultados reamostrados:\n",
    "* Conforme acontece, neste caso a diferença observada de 0,0368% está dentro da taxa de variação do acaso.\n",
    "\n",
    "**Em 332 vezes das 1000 reamostras, observou-se que a diferenca entre os preços foram maiores que 0,0368%**"
   ]
  },
  {
   "cell_type": "markdown",
   "metadata": {},
   "source": [
    "## 3.6 Valor P"
   ]
  },
  {
   "cell_type": "markdown",
   "metadata": {},
   "source": [
    "<font color = blue>**A simples observação do gráfico não é um meio muito preciso de medir a significância estatística.**</font>\n",
    "\n",
    "**Então o valor p é mais interessante.**\n",
    "\n",
    "* Esta é a frequência com a qual o modelo de acaso produz um resultado mais extremo que o resultado observado. \n",
    "* Podemos estimar o valor p através de nosso teste de permutação tirando a proporção de vezes em que o teste de permutação produz uma diferença igual ou maior que a diferença observada:\n",
    "\n",
    "O valor p é de 0.308, o que significa que podemos esperar atingir um resultado tão extremo quanto esse, ou mais extremo, através do acaso mais de 30% das vezes.\n",
    "\n",
    "Neste caso, não precisamos um teste de permutação para obter um valor p.\n",
    "\n",
    "Como temos uma distribuição binomial, podemos aproximar o valor p usando a distribuição normal."
   ]
  },
  {
   "cell_type": "code",
   "execution_count": 26,
   "metadata": {
    "ExecuteTime": {
     "end_time": "2022-07-04T21:39:48.971266Z",
     "start_time": "2022-07-04T21:39:48.962199Z"
    }
   },
   "outputs": [
    {
     "data": {
      "text/plain": [
       "0.332"
      ]
     },
     "execution_count": 26,
     "metadata": {},
     "output_type": "execute_result"
    }
   ],
   "source": [
    "# Em média as diferencas maiores correspondem\n",
    "df_perm_diffs.loc[(df_perm_diffs['diferenca'] > obs_pct_diff)].shape[0] / df_perm_diffs.shape[0]"
   ]
  },
  {
   "cell_type": "markdown",
   "metadata": {},
   "source": [
    "O método scipy.stats.chi2_contingency pega os valores mostrados na tabela do problema"
   ]
  },
  {
   "cell_type": "code",
   "execution_count": 27,
   "metadata": {
    "ExecuteTime": {
     "end_time": "2022-07-04T21:39:48.984505Z",
     "start_time": "2022-07-04T21:39:48.973742Z"
    },
    "execution": {
     "iopub.execute_input": "2021-07-31T15:52:09.629401Z",
     "iopub.status.busy": "2021-07-31T15:52:09.628869Z",
     "iopub.status.idle": "2021-07-31T15:52:09.632298Z",
     "shell.execute_reply": "2021-07-31T15:52:09.631976Z"
    }
   },
   "outputs": [
    {
     "name": "stdout",
     "output_type": "stream",
     "text": [
      "p-value for single sided test: 0.3498\n"
     ]
    }
   ],
   "source": [
    "survivors = np.array([[200, 23739 - 200], [182, 22588 - 182]])\n",
    "chi2, p_value, df, _ = stats.chi2_contingency(survivors)\n",
    "\n",
    "print(f'p-value for single sided test: {p_value / 2:.4f}')"
   ]
  },
  {
   "cell_type": "markdown",
   "metadata": {},
   "source": [
    "**A aproximação normal produz um valor p de 0,3498, que é próximo ao valor p obtido no teste de permutação 0,332.**"
   ]
  },
  {
   "cell_type": "markdown",
   "metadata": {},
   "source": [
    "### Alfa - Nível de Significância"
   ]
  },
  {
   "cell_type": "markdown",
   "metadata": {},
   "source": [
    "<font color = blue>**Os estatísticos não gostam da ideia de deixar a definição de um resultado como “muito incomum” para acontecer por acaso a critério dos pesquisadores.**</font>\n",
    "\n",
    "**Em vez disso, especifica-se com antecedência um limiar, como em “mais extremo que 5% do resultado do acaso rejeito a hipótese nula”.**\n",
    "\n",
    "Esse limiar é conhecido como alfa.\n",
    "* Quantos % de acaso eu tolero na minha análise?\n",
    "* Os típicos níveis de alfa são 5% e 1%. \n",
    "\n",
    "Qualquer nível escolhido é uma escolha arbitrária\n",
    "* Não há nada no processo que garante decisões corretas x% do tempo.\n",
    "\n",
    "**Isso acontece porque a questão de probabilidade sendo respondida não é “qual é a probabilidade de isso ter acontecido por acaso?”**\n",
    "\n",
    "<font color = red>**Mas, sim, “dado um modelo de acaso, qual é a probabilidade de haver um resultado tão extremo?”.**</font>\n",
    "\n",
    "Nós então **deduzimos retroativamente** sobre a adequação do modelo de acaso, mas esse julgamento não traz uma probabilidade. \n",
    "\n",
    "Esse ponto tem sido assunto de muita confusão."
   ]
  },
  {
   "cell_type": "markdown",
   "metadata": {},
   "source": [
    "### O valor do valor P"
   ]
  },
  {
   "cell_type": "markdown",
   "metadata": {},
   "source": [
    "Tem havido muita controvérsia em torno do uso do valor p nos últimos anos.\n",
    "\n",
    "Um periódico de psicologia chegou a “banir” o uso de valores p em artigos apresentados com a justificativa de que publicar decisões com base somente no valor p estava resultando na publicação de pesquisas fracas.\n",
    "\n",
    "Muitos pesquisadores, com uma ideia muito vaga do que o valor p realmente significa, mergulham nos dados e entre diferentes hipóteses possíveis para teste até encontrarem uma combinação que resulte em um valor p significativo e, portanto, um artigo adequado para publicação.\n",
    "\n",
    "O real problema é que as pessoas querem um significado além daquele que o valor p oferece.\n",
    "\n",
    "<font color = red>**Aqui está o que queríamos que o valor p expressasse:**</font>\n",
    "* A probabilidade de que o resultado ocorre pelo acaso. \n",
    "* Esperamos um valor baixo, para que possamos concluir que provamos algo.\n",
    "* Era assim que muitos editores de periódicos estavam interpretando o valor p.\n",
    "\n",
    "<font color = red>**Mas aqui está o que o valor p expressa realmente:**</font>\n",
    "\n",
    "**A probabilidade de que, dado um modelo de acaso, podem ocorrer resultados tão extremos quanto os resultados observados.**\n",
    "\n",
    "A diferença é sutil, mas real. \n",
    "\n",
    "<font color = red>**Um valor p significativo não leva você tão longe no caminho da “prova” quanto parece prometer.**</font>\n",
    "\n",
    "O fundamento lógico para a conclusão “estatisticamente significante” é um tanto mais fraco quando se entende o significado real do valor p."
   ]
  },
  {
   "cell_type": "markdown",
   "metadata": {},
   "source": [
    "### Nota de Advertência da American Statistical Association"
   ]
  },
  {
   "cell_type": "markdown",
   "metadata": {},
   "source": [
    "Em março de 2016, a American Statistical Association (Associação Estatística Americana), após muita deliberação interna, revelou a dimensão da falta de entendimento sobre os **valores p** quando publicou uma nota de advertência quanto a seu uso.\n",
    "\n",
    "A declaração da ASA frisou os **seis princípios** para pesquisadores e editores de periódicos:\n",
    "1. Os valores p podem indicar o quanto os dados são incompatíveis com um modelo estatístico específico.\n",
    "2. Os valores p **não medem a probabilidade de a hipótese estudada ser verdade** ou a probabilidade de os dados terem sido produzidos apenas pelo acaso.\n",
    "3. Conclusões científicas e decisões empresariais ou políticas **não devem se basear apenas** no fato de um valor p exceder um limiar específico.\n",
    "4. A inferência adequada exige informações completas e transparência.\n",
    "5. Um valor p, ou significância estatística, **não mede o tamanho de um efeito ou a importância de um resultado.**\n",
    "6. Sozinho, um valor p não oferece uma boa medição das evidências no que diz respeito a um modelo ou hipótese."
   ]
  },
  {
   "cell_type": "markdown",
   "metadata": {},
   "source": [
    "### Erros Tipo I e Tipo II"
   ]
  },
  {
   "cell_type": "markdown",
   "metadata": {},
   "source": [
    "Na aferição da significância estatística, é possível haver dois erros:\n",
    "\n",
    "**Erro tipo 1**\n",
    "* Se conclui erroneamente que um efeito é real, quando, na verdade, ocorre por acaso.\n",
    "\n",
    "**Erro tipo 2**\n",
    "* Se conclui erroneamente que um efeito não é real (ou seja, ocorre por acaso), quando, na verdade, é real.\n",
    "\n",
    "Na verdade, um erro tipo 2 não é bem um erro, mas, sim, uma conclusão de que o tamanho da amostra é muito pequeno para detectar o efeito.\n",
    "\n",
    "Quando um valor p fica aquém da significância estatística (por exemplo, excede 5%), o que estamos dizendo, na verdade, é “efeito não provado”.\n",
    "* Pode ser que uma amostra maior resulte em um valor p menor.\n",
    "\n",
    "A função básica dos testes de significância (também chamados de testes de hipótese) é a proteção contra os enganos pelo acaso, então são comumente estruturados de modo a minimizar os erros Tipo 1."
   ]
  },
  {
   "cell_type": "code",
   "execution_count": 28,
   "metadata": {
    "ExecuteTime": {
     "end_time": "2022-07-04T21:39:49.458110Z",
     "start_time": "2022-07-04T21:39:48.995211Z"
    }
   },
   "outputs": [
    {
     "data": {
      "image/png": "[encoded data removed]",
      "text/plain": [
       "<Figure size 1296x720 with 1 Axes>"
      ]
     },
     "metadata": {},
     "output_type": "display_data"
    }
   ],
   "source": [
    "plt.figure( figsize = (18,10) )\n",
    "\n",
    "plt.fill_between( x = np.arange(-4,-2,0.01 ), \n",
    "                  y1 = stats.norm.pdf( np.arange( -4,-2,0.01) ),\n",
    "                  facecolor = 'red', alpha = 0.35 )\n",
    "\n",
    "plt.fill_between( x = np.arange(-2,2,0.01 ), \n",
    "                  y1 = stats.norm.pdf( np.arange( -2,2,0.01) ),\n",
    "                  facecolor = 'grey', alpha = 0.35 )\n",
    "\n",
    "plt.fill_between( x = np.arange(2,4,0.01 ), \n",
    "                  y1 = stats.norm.pdf( np.arange( 2,4,0.01) ),\n",
    "                  facecolor = 'red', alpha = 0.5 )\n",
    "\n",
    "plt.fill_between( x = np.arange(-4,-2,0.01 ), \n",
    "                  y1 = stats.norm.pdf( np.arange( -4,-2,0.01), loc = 3, scale = 2 ),\n",
    "                  facecolor = 'grey', alpha = 0.35 )\n",
    "\n",
    "plt.fill_between( x = np.arange(-2,2,0.01 ), \n",
    "                  y1 = stats.norm.pdf( np.arange( -2,2,0.01), loc = 3, scale = 2  ),\n",
    "                  facecolor = 'blue', alpha = 0.35 )\n",
    "\n",
    "plt.fill_between( x = np.arange(2,10,0.01 ), \n",
    "                  y1 = stats.norm.pdf( np.arange( 2,10,0.01), loc = 3, scale = 2  ),\n",
    "                  facecolor = 'grey', alpha = 0.35 )\n",
    "\n",
    "plt.text( x= -0.8, y= 0.15, s = \"Hipótese Nula\");\n",
    "plt.text( x=  2.5, y= 0.13, s = \"Hipótese Alternativa\");\n",
    "plt.text( x=  2.1, y= 0.01, s = \"Erro Tipo I\");\n",
    "plt.text( x= -3.2, y= 0.01, s = \"Erro Tipo I\");\n",
    "plt.text( x= 0,    y= 0.02, s = \"Erro Tipo II\");"
   ]
  },
  {
   "cell_type": "markdown",
   "metadata": {},
   "source": [
    "### Ciência de Dados e Valores P"
   ]
  },
  {
   "cell_type": "markdown",
   "metadata": {},
   "source": [
    "O trabalho dos cientistas de dados não costuma se destinar a ser publicado em periódicos científicos, então o **debate sobre o valor do valor p é mais acadêmico.**\n",
    "\n",
    "<font color = red>**Para um cientista de dados, um valor p é uma métrica útil em situações em que se quer saber se um resultado de modelo que parece interessante e útil está dentro da faixa de variabilidade de acaso normal.**</font>\n",
    "\n",
    "Como uma ferramenta de tomada de decisão em um experimento, um valor p não deve ser considerado como dominante, mas meramente outro ponto de informação influenciando uma decisão.\n",
    "* Por exemplo, os valores p às vezes são usados como entrada intermediária em um modelo estatístico ou de aprendizado de máquina\n",
    "    * Uma variável/característica pode ser incluída ou excluída de um modelo dependendo de seu valor p.\n",
    "    \n",
    "**Ideias Chaves**\n",
    "* Os testes de significância são usados para determinar se um efeito observado está dentro da faixa de variação do acaso para um modelo de hipótese nula.\n",
    "* O valor p é a probabilidade de os resultados tão extremos quanto os resultados observados podem ocorrer, dado um modelo de hipótese nula.\n",
    "* O valor alfa é o limiar de “não ser comum” em um modelo de acaso de hipótese nula.\n",
    "* O teste de significância tem sido mais relevante para o registro formal de pesquisas do que para a ciência de dados."
   ]
  },
  {
   "cell_type": "markdown",
   "metadata": {},
   "source": [
    "## 3.7 Teste t"
   ]
  },
  {
   "cell_type": "markdown",
   "metadata": {},
   "source": [
    "### Teoria"
   ]
  },
  {
   "cell_type": "markdown",
   "metadata": {},
   "source": [
    "Existem inúmeros tipos de testes de significância, dependendo de os dados conterem dados contados ou dados medidos, quantas amostras existem e do que está sendo medido. \n",
    "\n",
    "Um tipo muito comum é o teste t, batizado assim por causa da distribuição t de Student, originalmente desenvolvida por W. S. Gossett para aproximar a distribuição de uma média amostral.\n",
    "\n",
    "**Todos os testes de significância exigem que uma estatística de teste seja especificada para medir o efeito de interesse e ajudar a determinar se aquele efeito observado está dentro da taxa de variação normal do acaso.**\n",
    "\n",
    "<font color = blue>**Em um teste de reamostragem, a escala dos dados não importa.**</font>\n",
    "\n",
    "* **Você cria a distribuição de referência (hipótese nula) dos próprios dados e usa a estatística de teste como está.**\n",
    "\n",
    "Nas décadas de 1920 e 1930, quando as testagens de hipóteses estatísticas estavam sendo desenvolvidas, não era viável embaralhar aleatoriamente os dados milhares de vezes para fazer um teste de reamostragem.\n",
    "\n",
    "Os estatísticos descobriram que uma boa aproximação à distribuição de permutação (embaralhada) era o teste t, baseado na distribuição t de Gossett.\n",
    "\n",
    "<font color = red>**O teste t é usado para uma comparação muito comum de duas amostras — teste A/B — nas quais os dados são numéricos.**</font>\n",
    "\n",
    "Mas para que a distribuição t seja usada sem considerar a escala é preciso usar uma forma padronizada da estatística de teste.\n",
    "\n",
    "Um texto estatístico clássico mostraria, neste ponto, diversas fórmulas que incorporam a distribuição de Gossett e demonstraria como padronizar seus dados para compará-los à distribuição t padrão.\n",
    "\n",
    "A hipótese alternativa é a de que a média do tempo de sessão para a página A seja menor que a da página B.\n",
    "* Isso é muito próximo do valor p de 0.124 do teste de permutação.\n",
    "\n",
    "<font color = blue>**Em um modo de reamostragem, estruturamos a solução para refletir os dados observados e a hipótese a ser testada, sem nos preocupar se os dados são numéricos ou binários, se os tamanhos de amostra estão equilibrados ou não, com as variâncias das amostras ou diversos outros fatores.**</font>\n",
    "\n",
    "No mundo das fórmulas, muitas variâncias se apresentam e podem ser confusas.\n",
    "\n",
    "* Os estatísticos precisam navegar por esse mundo e conhecer seus mapas, mas os cientistas de dados não:\n",
    "* Os cientistas de dados não costumam estar em posição de trabalhar os detalhes dos testes de hipótese e intervalos de confiança do mesmo modo que os pesquisadores que preparam artigos para apresentação."
   ]
  },
  {
   "cell_type": "markdown",
   "metadata": {},
   "source": [
    "### Teste t (Scipy e Statsmodels) - Exemplo Aderência Web"
   ]
  },
  {
   "cell_type": "markdown",
   "metadata": {},
   "source": [
    "**SCIPY**\n",
    "\n",
    "scipy.stats.ttest_ind(**a**, **b**, **axis**=0, **equal_var**=True, **nan_policy**='propagate', **permutations**=None, **random_state**=None, **alternative**='two-sided', **trim**=0)\n",
    "\n",
    "https://docs.scipy.org/doc/scipy/reference/generated/scipy.stats.ttest_ind.html?highlight=stats%20ttest_ind#scipy.stats.ttest_ind"
   ]
  },
  {
   "cell_type": "code",
   "execution_count": 29,
   "metadata": {
    "ExecuteTime": {
     "end_time": "2022-07-04T21:39:49.470679Z",
     "start_time": "2022-07-04T21:39:49.460911Z"
    }
   },
   "outputs": [
    {
     "data": {
      "text/html": [
       "<div>\n",
       "<style scoped>\n",
       "    .dataframe tbody tr th:only-of-type {\n",
       "        vertical-align: middle;\n",
       "    }\n",
       "\n",
       "    .dataframe tbody tr th {\n",
       "        vertical-align: top;\n",
       "    }\n",
       "\n",
       "    .dataframe thead th {\n",
       "        text-align: right;\n",
       "    }\n",
       "</style>\n",
       "<table border=\"1\" class=\"dataframe\">\n",
       "  <thead>\n",
       "    <tr style=\"text-align: right;\">\n",
       "      <th></th>\n",
       "      <th>Page</th>\n",
       "      <th>Time</th>\n",
       "    </tr>\n",
       "  </thead>\n",
       "  <tbody>\n",
       "    <tr>\n",
       "      <th>0</th>\n",
       "      <td>Page A</td>\n",
       "      <td>21.0</td>\n",
       "    </tr>\n",
       "    <tr>\n",
       "      <th>1</th>\n",
       "      <td>Page B</td>\n",
       "      <td>253.0</td>\n",
       "    </tr>\n",
       "    <tr>\n",
       "      <th>2</th>\n",
       "      <td>Page A</td>\n",
       "      <td>35.0</td>\n",
       "    </tr>\n",
       "    <tr>\n",
       "      <th>3</th>\n",
       "      <td>Page B</td>\n",
       "      <td>71.0</td>\n",
       "    </tr>\n",
       "    <tr>\n",
       "      <th>4</th>\n",
       "      <td>Page A</td>\n",
       "      <td>67.0</td>\n",
       "    </tr>\n",
       "  </tbody>\n",
       "</table>\n",
       "</div>"
      ],
      "text/plain": [
       "     Page   Time\n",
       "0  Page A   21.0\n",
       "1  Page B  253.0\n",
       "2  Page A   35.0\n",
       "3  Page B   71.0\n",
       "4  Page A   67.0"
      ]
     },
     "execution_count": 29,
     "metadata": {},
     "output_type": "execute_result"
    }
   ],
   "source": [
    "session_times.head()"
   ]
  },
  {
   "cell_type": "code",
   "execution_count": 30,
   "metadata": {
    "ExecuteTime": {
     "end_time": "2022-07-04T21:39:49.486667Z",
     "start_time": "2022-07-04T21:39:49.473138Z"
    },
    "execution": {
     "iopub.execute_input": "2021-07-31T15:52:09.637527Z",
     "iopub.status.busy": "2021-07-31T15:52:09.637091Z",
     "iopub.status.idle": "2021-07-31T15:52:09.640118Z",
     "shell.execute_reply": "2021-07-31T15:52:09.639804Z"
    }
   },
   "outputs": [
    {
     "name": "stdout",
     "output_type": "stream",
     "text": [
      "p-value for single sided test: 0.1408\n",
      "t-statistic for single sided test: -0.5492\n"
     ]
    }
   ],
   "source": [
    "res = stats.ttest_ind(session_times[session_times.Page == 'Page A'].Time, \n",
    "                      session_times[session_times.Page == 'Page B'].Time,\n",
    "                      equal_var=False) #Se False, execute o teste t de Welch, que não assume variância populacional igual\n",
    "print(f'p-value for single sided test: {res.pvalue / 2:.4f}')\n",
    "print(f't-statistic for single sided test: {res.statistic / 2:.4f}')"
   ]
  },
  {
   "cell_type": "code",
   "execution_count": 31,
   "metadata": {
    "ExecuteTime": {
     "end_time": "2022-07-04T21:39:49.511409Z",
     "start_time": "2022-07-04T21:39:49.489521Z"
    }
   },
   "outputs": [
    {
     "name": "stdout",
     "output_type": "stream",
     "text": [
      "p-value for single sided test: 0.1415\n"
     ]
    }
   ],
   "source": [
    "res = stats.ttest_ind(session_times[session_times.Page == 'Page A'].Time, \n",
    "                      session_times[session_times.Page == 'Page B'].Time,\n",
    "                      equal_var=False,  #Se False, execute o teste t de Welch, que não assume variância populacional igual\n",
    "                      permutations = 1000,# número de permutações aleatórias que serão usadas para estimar valores-p usando um teste de permutação\n",
    "                      random_state = 42) # Estado gerador de números pseudo-aleatórios usado para gerar permutações\n",
    "print(f'p-value for single sided test: {res.pvalue / 2:.4f}')"
   ]
  },
  {
   "cell_type": "markdown",
   "metadata": {},
   "source": [
    "**STATSMODELS**\n",
    "\n",
    "statsmodels.stats.ttest_ind(**x1**, **x2**, **alternative**='two-sided', **usevar**='pooled', **weights**=(None, None), **value**=0)\n",
    "\n",
    "https://www.statsmodels.org/devel/generated/statsmodels.stats.weightstats.ttest_ind.html?highlight=stats+ttest_ind#statsmodels.stats.weightstats.ttest_ind"
   ]
  },
  {
   "cell_type": "code",
   "execution_count": 32,
   "metadata": {
    "ExecuteTime": {
     "end_time": "2022-07-04T21:39:49.527117Z",
     "start_time": "2022-07-04T21:39:49.514125Z"
    },
    "execution": {
     "iopub.execute_input": "2021-07-31T15:52:09.645240Z",
     "iopub.status.busy": "2021-07-31T15:52:09.644835Z",
     "iopub.status.idle": "2021-07-31T15:52:09.647859Z",
     "shell.execute_reply": "2021-07-31T15:52:09.647542Z"
    }
   },
   "outputs": [
    {
     "name": "stdout",
     "output_type": "stream",
     "text": [
      "p-value: 0.1408\n",
      "t-statistic: -1.0983\n",
      "dof: 27.6934\n"
     ]
    }
   ],
   "source": [
    "tstat, pvalue, df = sm.stats.ttest_ind(\n",
    "    session_times[session_times.Page == 'Page A'].Time, \n",
    "    session_times[session_times.Page == 'Page B'].Time,\n",
    "    usevar='unequal', # desigual, então Welch ttest com graus de liberdade Satterthwait é usado\n",
    "    alternative='smaller') # A hipótese alternativa, H1, diferença nas médias menores que o valor\n",
    "print(f'p-value: {pvalue:.4f}')\n",
    "print(f't-statistic: {tstat:.4f}')\n",
    "print(f'dof: {df:.4f}')"
   ]
  },
  {
   "cell_type": "markdown",
   "metadata": {},
   "source": [
    "A hipótese alternativa é que a média do tempo de sessão para a página A é menor do que para a página B.\n",
    "\n",
    "O valor-p de 0,1408 é bastante próximo dos valores-p do teste de permutação de 0,121"
   ]
  },
  {
   "cell_type": "markdown",
   "metadata": {},
   "source": [
    "## 3.8 Testagem Múltipla"
   ]
  },
  {
   "cell_type": "markdown",
   "metadata": {},
   "source": [
    "### Termos Chaves"
   ]
  },
  {
   "cell_type": "markdown",
   "metadata": {
    "ExecuteTime": {
     "end_time": "2022-07-01T12:11:55.691956Z",
     "start_time": "2022-07-01T12:11:55.682609Z"
    }
   },
   "source": [
    "**Erro tipo 1**\n",
    "* Concluir erroneamente que um efeito é estatisticamente significativo.\n",
    "\n",
    "**Taxa de falsa descoberta**\n",
    "* Através de múltiplos testes, a taxa de cometer um erro tipo 1.\n",
    "\n",
    "**Ajuste dos valores p**\n",
    "* Contabilização da realização de múltiplos testes nos mesmos dados.\n",
    "\n",
    "**Sobreajuste**\n",
    "* Ajuste do ruído."
   ]
  },
  {
   "cell_type": "markdown",
   "metadata": {},
   "source": [
    "### Teoria"
   ]
  },
  {
   "cell_type": "markdown",
   "metadata": {},
   "source": [
    "Conforme mencionamos anteriormente, existe um ditado em estatística: \n",
    "* “Torture os dados o bastante, e eles vão confessar.” \n",
    "\n",
    "<font color = red>**Isso significa que se você observar os dados de diferentes perspectivas, e fizer perguntas o bastante, poderá, quase que invariavelmente, encontrar um efeito estatisticamente significativo.**</font>\n",
    "\n",
    "* Por exemplo, se você tiver **20 variáveis preditoras e uma variável resposta**, todas aleatoriamente geradas, é bem provável que:\n",
    "    * Ao menos um preditor será (falsamente) estatisticamente significativo se for feita uma série de 20 testes de significância em nível alfa = 0,05. \n",
    "\n",
    "    * **Conforme discutido anteriormente, isso é chamado de erro tipo 1.**\n",
    "\n",
    "É possível calcular essa probabilidade encontrando primeiro a probabilidade de que todos serão testados corretamente não significativos no nível 0,05. \n",
    "\n",
    "* A probabilidade de que um será testado corretamente como não significativo é de 0,95\n",
    "    * Então a probabilidade de que todos os 20 serão corretamente testados não significativos é de 0,95 × 0,95 × 0,95… ou ${0,95}²⁰$= 0,36. \n",
    "\n",
    "* A probabilidade de que ao menos um preditor seja (falsamente) testado significativo é o lado negativo dessa probabilidade, ou 1 \n",
    "    * Probabilidade de todos serão não significantes = 0,64.\n",
    "\n",
    "**Esse problema está relacionado ao problema de sobreajuste em pesquisa de dados, ou “ajustar o modelo ao ruído”.**\n",
    "\n",
    "<font color = blue>**Quando mais variáveis forem adicionadas, ou mais modelos forem executados, maior é a probabilidade de algo se sobressair como “significativo” apenas por acaso.**</font>\n",
    "\n",
    "Em tarefas de aprendizado supervisionado, um conjunto de retenção em que os modelos são avaliados em dados que o modelo não viu antes atenua esse risco. \n",
    "\n",
    "Em tarefas estatísticas ou de aprendizado de máquina que não envolvam um conjunto de retenção rotulado, o risco de chegar a conclusões baseadas em ruídos estatísticos permanece.\n",
    "\n",
    "Em estatística existem alguns procedimentos destinados ao tratamento desse problema em circunstâncias muito específicas. \n",
    "\n",
    "Por exemplo, se estiver comparando resultados através de múltiplos grupos de tratamento, pode ser preciso fazer múltiplas perguntas. \n",
    "\n",
    "* Então, para tratamentos A–C, poderia perguntar:\n",
    "    * A é diferente de B?\n",
    "    * B é diferente de C?\n",
    "    * A é diferente de C?\n",
    "\n",
    "* Em um estudo clínico, pode ser necessário olhar os resultados de uma terapia em diversos estágios.\n",
    "    * Em cada caso, serão feitas múltiplas perguntas, e com cada pergunta a chance de ser enganado pelo acaso será maior. \n",
    "\n",
    "Os procedimentos de ajuste em estatística podem compensar isso através de uma **definição mais rigorosa dos limites de significância estatística** do que seria para um único teste de hipótese. \n",
    "\n",
    "* Esses procedimentos de ajuste costumam envolver a “divisão de alfa” conforme o número de testes.\n",
    "\n",
    "* Isso resulta em um alfa menor para cada teste.\n",
    "    * Ou seja, um limite mais rigoroso para a significância estatística\n",
    "\n",
    "    * Um desses procedimentos, **o ajuste de Bonferroni**, simplesmente divide o alfa pelo número de observações n.\n",
    "\n",
    "No entanto, o problema de múltiplas comparações vai além desses casos altamente estruturados e está relacionado ao fenômeno de “dragagem” de dados repetidos, que dá força ao ditado sobre torturar os dados.\n",
    "\n",
    "Colocando de outra forma, se você não encontrou nada interessante, provavelmente não procurou muito, nem por muito tempo. \n",
    "\n",
    "Hoje há mais dados disponíveis do que antigamente, e o número de artigos publicados em periódicos quase dobrou entre os anos de 2002 e 2010. \n",
    "\n",
    "Isso dá origem a muitas oportunidades de encontrar algo interessante nos dados, inclusive problemas de multiplicidade como:\n",
    "* Verificar a existência de múltiplas diferenças de pares entre os grupos.\n",
    "* Observar múltiplos resultados de subgrupos \n",
    "    * “não encontramos um efeito geral de tratamento significativo, mas encontramos um efeito para mulheres solteiras abaixo dos 30” \n",
    "* Tentar muitos modelos estatísticos\n",
    "* Incluir muitas variáveis em modelos.\n",
    "* Fazer inúmeras perguntas diferentes\n",
    "    * Ou seja, diferentes resultados possíveis\n",
    "\n",
    "<font color = blue>**Por diversas razões, incluindo especialmente esse problema geral de “multiplicidade”, pesquisar mais não significa necessariamente pesquisar melhor.**</font>\n",
    "\n",
    "* Por exemplo, a companhia farmacêutica Bayer descobriu em 2011, quando tentou replicar 67 estudos científicos, que poderia replicar totalmente apenas 14 deles. \n",
    "* Quase dois terços não poderiam ser replicados de forma alguma.\n",
    "\n",
    "**De qualquer modo, os procedimentos de ajuste para testes estatísticos altamente definidos e estruturados são muito específicos e inflexíveis para serem aplicados em usos gerais na ciência de dados.**\n",
    "\n",
    "<font color = red>**A conclusão sobre multiplicidade para a ciência de dados é:**</font>\n",
    "* Para modelagem preditiva, o risco de obter um modelo ilusório cuja eficácia aparente é mais um produto do acaso é mitigado pela validação cruzada e uso de uma amostra de retenção.\n",
    "* Para outros procedimentos sem um conjunto de retenção rotulado para verificar o modelo, é necessário contar com:\n",
    "    * A consciência de que quanto mais se questiona e manipula os dados, maior o papel que o acaso pode desempenhar.\n",
    "    * A heurística da reamostragem e da simulação para referências aleatórias de acaso contra as quais se pode comparar os resultados observados."
   ]
  },
  {
   "cell_type": "markdown",
   "metadata": {},
   "source": [
    "### Taxa de Falsa Descoberta"
   ]
  },
  {
   "cell_type": "markdown",
   "metadata": {},
   "source": [
    "O **termo** taxa de falsa descoberta foi originalmente usado para descrever a <font color = red>**taxa na qual um dado conjunto de testes de hipótese identificaria falsamente um efeito significativo.**</font> \n",
    "\n",
    "**Ela se tornou especialmente útil com o advento da pesquisa genômica**\n",
    "* Em que números massivos de testes estatísticos podem ser conduzidos como parte de um projeto de sequenciamento genético. \n",
    "\n",
    "Nesses casos, o termo se aplica ao protocolo de testagem, e uma única “descoberta” falsa se refere ao resultado de um teste de hipótese\n",
    "* por exemplo, entre duas amostras\n",
    "\n",
    "Os pesquisadores procuram ajustar os parâmetros do processo de testagem a fim de controlar a taxa de falsa descoberta em um nível específico. \n",
    "\n",
    "**O termo também tem sido usado para classificação em mineração de dados:**\n",
    "* é a taxa de classificação incorreta dentro das previsões de classe 1. \n",
    "* Ou, dito de outra forma, é a probabilidade de que uma “descoberta” (rotular um registro como “1”) seja falsa. \n",
    "* Aqui nós normalmente estamos lidando com o caso onde 0s são abundantes e 1s são interessantes e raros"
   ]
  },
  {
   "cell_type": "markdown",
   "metadata": {},
   "source": [
    "### Ideias Chaves"
   ]
  },
  {
   "cell_type": "markdown",
   "metadata": {},
   "source": [
    "* A multiplicidade em um estudo de pesquisa ou projeto de pesquisa de dados **aumenta o risco de concluir** que algo é significativo apenas pelo acaso.\n",
    "    * Múltiplas comparações, muitas variáveis, muitos modelos etc\n",
    "* Para situações envolvendo múltiplas comparações estatísticas, existem procedimentos de ajuste estatístico.\n",
    "    * **ou seja, múltiplos testes de significância e muitos procedimentos de ajuste**\n",
    "* Em uma situação de pesquisa de dados, o uso de uma amostra de retenção com variáveis de resultado rotuladas pode ajudar a evitar resultados enganosos."
   ]
  },
  {
   "cell_type": "markdown",
   "metadata": {},
   "source": [
    "## 3.9 Graus de Liberdade"
   ]
  },
  {
   "cell_type": "markdown",
   "metadata": {},
   "source": [
    "### Termos Chave"
   ]
  },
  {
   "cell_type": "markdown",
   "metadata": {
    "ExecuteTime": {
     "end_time": "2022-07-01T13:14:33.544146Z",
     "start_time": "2022-07-01T13:14:33.538372Z"
    }
   },
   "source": [
    "**n ou tamanho da amostra**\n",
    "* O número de observações (também chamadas de linhas ou registros) nos dados.\n",
    "\n",
    "**g.l.**\n",
    "* Graus de liberdade."
   ]
  },
  {
   "cell_type": "markdown",
   "metadata": {},
   "source": [
    "### Teoria"
   ]
  },
  {
   "cell_type": "markdown",
   "metadata": {},
   "source": [
    "**O número de graus de liberdade é um fator em muitos testes estatísticos.**\n",
    "\n",
    "Por exemplo, graus de liberdade é o nome dado ao denominador n – 1 visto nos cálculos de variância e desvio-padrão. \n",
    "\n",
    "**Por que isso importa?**\n",
    "\n",
    "* Quando se usa uma amostra para estimar a variância de uma população, se usar n no denominador, obterá uma estimativa levemente enviesada para baixo. \n",
    "* Se usar n – 1 no denominador, a estimativa ficará livre desse viés.\n",
    "\n",
    "Grande parte dos cursos ou livros tradicionais sobre estatística é consumida por diversos testes-padrão de hipóteses (teste t, teste F etc.). \n",
    "\n",
    "<font color = blue>**Quando as estatísticas amostrais são padronizadas para o uso em fórmulas estatísticas tradicionais:**</font>\n",
    "* Os graus de liberdade fazem parte do cálculo de padronização\n",
    "* **Garantem que os dados padronizados correspondam à distribuição de referências adequada**\n",
    "    * Distribuição t, distribuição F, distribuição Normal, etc.\n",
    "\n",
    "<font color = red>**É importante para a ciência de dados?**</font>\n",
    "\n",
    "* **Não muito, ao menos no contexto de teste de significância.**\n",
    "\n",
    "* Por um lado, os **testes estatísticos formais** são muito pouco usados na ciência de dados.\n",
    "\n",
    "* Por outro, o tamanho dos dados costuma ser grande o bastante para raramente fazer diferença para um cientista de dados\n",
    "    * se, por exemplo, o denominador tem n ou n – 1. \n",
    "\n",
    "<font color = red>**Porém, existe um contexto em que é relevante:**</font>\n",
    "* O uso de variáveis fatoradas em regressão (inclusive regressão logística). \n",
    "* Os algoritmos de regressão travam se houver variáveis preditoras exatamente redundantes.\n",
    "* Isso ocorre mais comumente ao fatorar variáveis categóricas em indicadores binários (dummies).\n",
    "\n",
    "**Considere um dia da semana:**\n",
    "* Apesar de haver sete dias da semana, existem **apenas seis graus de liberdade** ao especificar o dia da semana. \n",
    "* Por exemplo, uma vez que se sabe que o dia da semana não é de segunda a sábado, sabe-se que deve ser domingo. \n",
    "    * A inclusão de indicadores **seg-sáb** então significa que **incluir também o domingo causaria falha** na regressão, devido a um erro de **multicolinearidade.**"
   ]
  },
  {
   "cell_type": "markdown",
   "metadata": {},
   "source": [
    "## 3.10 ANOVA"
   ]
  },
  {
   "cell_type": "markdown",
   "metadata": {
    "ExecuteTime": {
     "end_time": "2022-07-01T13:39:18.367186Z",
     "start_time": "2022-07-01T13:39:18.363524Z"
    }
   },
   "source": [
    "### Termos Chaves"
   ]
  },
  {
   "cell_type": "markdown",
   "metadata": {},
   "source": [
    "**Comparação em pares**\n",
    "* Um teste de hipótese (por exemplo, de médias) entre dois grupos em meio a múltiplos grupos.\n",
    "\n",
    "**Teste coletivo**\n",
    "* Um único teste de hipótese da variância geral entre múltiplas médias de grupo.\n",
    "\n",
    "**Decomposição de variância**\n",
    "* A separação de componentes, contribuindo com um valor individual (por exemplo, da média geral, de uma média de tratamento e de um erro residual).\n",
    "\n",
    "**Estatística F**\n",
    "* Uma estatística padronizada que mede o quanto as diferenças entre as médias dos grupos excedem o que poderia ser esperado em um modelo de acaso.\n",
    "\n",
    "**SQ (SS)**\n",
    "* A “Soma dos Quadrados (Sum of Squares)”, se referindo aos desvios de algum valor médio."
   ]
  },
  {
   "cell_type": "markdown",
   "metadata": {},
   "source": [
    "### Aderência Web - 4 Páginas"
   ]
  },
  {
   "cell_type": "markdown",
   "metadata": {},
   "source": [
    "**A Tabela 3-3 mostra a aderência de quatro páginas web, em números de segundos gastos na página.**"
   ]
  },
  {
   "cell_type": "code",
   "execution_count": 33,
   "metadata": {
    "ExecuteTime": {
     "end_time": "2022-07-04T21:39:49.541180Z",
     "start_time": "2022-07-04T21:39:49.531480Z"
    }
   },
   "outputs": [
    {
     "data": {
      "image/png": "[encoded data removed]",
      "text/plain": [
       "<IPython.core.display.Image object>"
      ]
     },
     "execution_count": 33,
     "metadata": {},
     "output_type": "execute_result"
    }
   ],
   "source": [
    "Image('/home/deivison/Documentos/projetos/stats/imagem/cap_03_anova_1.png')"
   ]
  },
  {
   "cell_type": "markdown",
   "metadata": {},
   "source": [
    "<font color = red>**Situação de Negócio**</font>\n",
    "* **As quatro páginas são trocadas aleatoriamente, de modo que um visitante receba uma aleatoriamente.**\n",
    "\n",
    "* Existe um total de cinco visitantes em cada página\n",
    "    * Na Tabela 3-3 cada coluna é um conjunto de dados independente.\n",
    "\n",
    "* O primeiro visitante da página 1 não tem conexão com o primeiro visitante da página 2.\n",
    "\n",
    "Observe que em um teste web como este não podemos implementar totalmente o projeto clássico de amostragem randomizada, em que cada visitante é selecionado aleatoriamente de uma grande população.\n",
    "\n",
    "**Temos que obter os visitantes conforme chegam.**\n",
    "\n",
    "* Os visitantes podem diferir sistematicamente dependendo:\n",
    "    * da hora do dia\n",
    "    * do dia da semana\n",
    "    * da estação do ano\n",
    "    * das condições de sua internet\n",
    "    * de qual dispositivo estão usando e assim por diante.\n",
    "\n",
    "* <font color = green>**Esses fatores devem ser considerados potenciais vieses quando os resultados do experimento forem revisados.**</font>\n"
   ]
  },
  {
   "cell_type": "markdown",
   "metadata": {},
   "source": [
    "### Dataset do problema"
   ]
  },
  {
   "cell_type": "code",
   "execution_count": 34,
   "metadata": {
    "ExecuteTime": {
     "end_time": "2022-07-04T21:39:49.561896Z",
     "start_time": "2022-07-04T21:39:49.546587Z"
    }
   },
   "outputs": [
    {
     "data": {
      "text/html": [
       "<div>\n",
       "<style scoped>\n",
       "    .dataframe tbody tr th:only-of-type {\n",
       "        vertical-align: middle;\n",
       "    }\n",
       "\n",
       "    .dataframe tbody tr th {\n",
       "        vertical-align: top;\n",
       "    }\n",
       "\n",
       "    .dataframe thead th {\n",
       "        text-align: right;\n",
       "    }\n",
       "</style>\n",
       "<table border=\"1\" class=\"dataframe\">\n",
       "  <thead>\n",
       "    <tr style=\"text-align: right;\">\n",
       "      <th></th>\n",
       "      <th>Page</th>\n",
       "      <th>Time</th>\n",
       "    </tr>\n",
       "  </thead>\n",
       "  <tbody>\n",
       "    <tr>\n",
       "      <th>0</th>\n",
       "      <td>Page 1</td>\n",
       "      <td>164</td>\n",
       "    </tr>\n",
       "    <tr>\n",
       "      <th>1</th>\n",
       "      <td>Page 2</td>\n",
       "      <td>178</td>\n",
       "    </tr>\n",
       "    <tr>\n",
       "      <th>2</th>\n",
       "      <td>Page 3</td>\n",
       "      <td>175</td>\n",
       "    </tr>\n",
       "    <tr>\n",
       "      <th>3</th>\n",
       "      <td>Page 4</td>\n",
       "      <td>155</td>\n",
       "    </tr>\n",
       "    <tr>\n",
       "      <th>4</th>\n",
       "      <td>Page 1</td>\n",
       "      <td>172</td>\n",
       "    </tr>\n",
       "    <tr>\n",
       "      <th>5</th>\n",
       "      <td>Page 2</td>\n",
       "      <td>191</td>\n",
       "    </tr>\n",
       "    <tr>\n",
       "      <th>6</th>\n",
       "      <td>Page 3</td>\n",
       "      <td>193</td>\n",
       "    </tr>\n",
       "    <tr>\n",
       "      <th>7</th>\n",
       "      <td>Page 4</td>\n",
       "      <td>166</td>\n",
       "    </tr>\n",
       "    <tr>\n",
       "      <th>8</th>\n",
       "      <td>Page 1</td>\n",
       "      <td>177</td>\n",
       "    </tr>\n",
       "    <tr>\n",
       "      <th>9</th>\n",
       "      <td>Page 2</td>\n",
       "      <td>182</td>\n",
       "    </tr>\n",
       "    <tr>\n",
       "      <th>10</th>\n",
       "      <td>Page 3</td>\n",
       "      <td>171</td>\n",
       "    </tr>\n",
       "    <tr>\n",
       "      <th>11</th>\n",
       "      <td>Page 4</td>\n",
       "      <td>164</td>\n",
       "    </tr>\n",
       "    <tr>\n",
       "      <th>12</th>\n",
       "      <td>Page 1</td>\n",
       "      <td>156</td>\n",
       "    </tr>\n",
       "    <tr>\n",
       "      <th>13</th>\n",
       "      <td>Page 2</td>\n",
       "      <td>185</td>\n",
       "    </tr>\n",
       "    <tr>\n",
       "      <th>14</th>\n",
       "      <td>Page 3</td>\n",
       "      <td>163</td>\n",
       "    </tr>\n",
       "    <tr>\n",
       "      <th>15</th>\n",
       "      <td>Page 4</td>\n",
       "      <td>170</td>\n",
       "    </tr>\n",
       "    <tr>\n",
       "      <th>16</th>\n",
       "      <td>Page 1</td>\n",
       "      <td>195</td>\n",
       "    </tr>\n",
       "    <tr>\n",
       "      <th>17</th>\n",
       "      <td>Page 2</td>\n",
       "      <td>177</td>\n",
       "    </tr>\n",
       "    <tr>\n",
       "      <th>18</th>\n",
       "      <td>Page 3</td>\n",
       "      <td>176</td>\n",
       "    </tr>\n",
       "    <tr>\n",
       "      <th>19</th>\n",
       "      <td>Page 4</td>\n",
       "      <td>168</td>\n",
       "    </tr>\n",
       "  </tbody>\n",
       "</table>\n",
       "</div>"
      ],
      "text/plain": [
       "      Page  Time\n",
       "0   Page 1   164\n",
       "1   Page 2   178\n",
       "2   Page 3   175\n",
       "3   Page 4   155\n",
       "4   Page 1   172\n",
       "5   Page 2   191\n",
       "6   Page 3   193\n",
       "7   Page 4   166\n",
       "8   Page 1   177\n",
       "9   Page 2   182\n",
       "10  Page 3   171\n",
       "11  Page 4   164\n",
       "12  Page 1   156\n",
       "13  Page 2   185\n",
       "14  Page 3   163\n",
       "15  Page 4   170\n",
       "16  Page 1   195\n",
       "17  Page 2   177\n",
       "18  Page 3   176\n",
       "19  Page 4   168"
      ]
     },
     "execution_count": 34,
     "metadata": {},
     "output_type": "execute_result"
    }
   ],
   "source": [
    "four_sessions = pd.read_csv(FOUR_SESSIONS_CSV)\n",
    "four_sessions"
   ]
  },
  {
   "cell_type": "code",
   "execution_count": 35,
   "metadata": {
    "ExecuteTime": {
     "end_time": "2022-07-04T21:39:50.127310Z",
     "start_time": "2022-07-04T21:39:49.564765Z"
    }
   },
   "outputs": [
    {
     "data": {
      "image/png": "[encoded data removed]",
      "text/plain": [
       "<Figure size 2160x1080 with 1 Axes>"
      ]
     },
     "metadata": {},
     "output_type": "display_data"
    }
   ],
   "source": [
    "sns.boxplot(data = four_sessions, x = 'Page', y = 'Time');"
   ]
  },
  {
   "cell_type": "markdown",
   "metadata": {},
   "source": [
    "Agora, temos um dilema. \n",
    "\n",
    "Quando estávamos comparando apenas dois grupos, era algo simples.\n",
    "\n",
    "Simplesmente observávamos a diferença entre as médias de cada grupo.\n",
    "\n",
    "Com quatro médias, existem seis possíveis comparações entre os grupos:\n",
    "* Página 1 comparada à página 2.\n",
    "* Página 1 comparada à página 3.\n",
    "* Página 1 comparada à página 4.\n",
    "* Página 2 comparada à página 3.\n",
    "* Página 2 comparada à página 4.\n",
    "* Página 3 comparada à página 4.\n",
    "\n",
    "**Quanto mais fazemos tais comparações em pares, maior o potencial de sermos enganados pelo acaso**\n",
    "\n",
    "Em vez de nos preocuparmos com todas as diferentes comparações entre as páginas individuais que poderíamos fazer, podemos fazer **um único teste coletivo** que aborda a questão: \n",
    "\n",
    "“Poderiam todas as páginas ter a mesma aderência subjacente, e as diferenças entre elas serem devido ao modo aleatório com que um conjunto comum de tempos de sessão foi alocado entre as quatro páginas?”\n",
    "\n",
    "O procedimento usado para testar isso é a ANOVA.\n"
   ]
  },
  {
   "cell_type": "markdown",
   "metadata": {},
   "source": [
    "### Algoritmo ANOVA"
   ]
  },
  {
   "cell_type": "markdown",
   "metadata": {},
   "source": [
    "O procedimento ANOVA. \n",
    "\n",
    "A base disso pode ser vista no procedimento de reamostragem a seguir (especificado aqui para o teste A-B-C-D de aderência a páginas web):\n",
    "1. Junte todos os dados em uma única caixa.\n",
    "2. Embaralhe e tire quatro reamostras de cinco valores cada.\n",
    "3. Registre a média de cada um dos quatro grupos.\n",
    "4. Registre a variância entre as médias dos quatro grupos.\n",
    "5. Repita os passos de 2 a 4 muitas vezes (digamos, mil vezes).\n",
    "\n",
    "<font color = red>**Qual proporção do tempo a variância reamostrada excedeu a variância observada?**</font>\n",
    "\n",
    "**Esse é o valor p.**\n",
    "\n",
    "Esse tipo de teste de permutação é um pouco mais complicado que o tipo usado em “Teste de Permutação”, antes, neste capítulo."
   ]
  },
  {
   "cell_type": "code",
   "execution_count": 36,
   "metadata": {
    "ExecuteTime": {
     "end_time": "2022-07-04T21:39:50.145246Z",
     "start_time": "2022-07-04T21:39:50.129747Z"
    }
   },
   "outputs": [
    {
     "name": "stdout",
     "output_type": "stream",
     "text": [
      "      Page  Time\n",
      "0   Page 1   172\n",
      "1   Page 2   163\n",
      "2   Page 3   177\n",
      "3   Page 4   164\n",
      "4   Page 1   171\n",
      "5   Page 2   185\n",
      "6   Page 3   191\n",
      "7   Page 4   177\n",
      "8   Page 1   193\n",
      "9   Page 2   170\n",
      "10  Page 3   156\n",
      "11  Page 4   195\n",
      "12  Page 1   182\n",
      "13  Page 2   164\n",
      "14  Page 3   176\n",
      "15  Page 4   168\n",
      "16  Page 1   178\n",
      "17  Page 2   166\n",
      "18  Page 3   175\n",
      "19  Page 4   155 \n",
      "\n",
      "Variancia das medias: 17.39999999999996\n"
     ]
    }
   ],
   "source": [
    "# funcionamento da funcao de permutacao das variancias das medias\n",
    "def perm_test(df):\n",
    "    df = df.copy()\n",
    "    df['Time'] = np.random.permutation(df['Time'].values)\n",
    "    print(df,'\\n')\n",
    "    return df.groupby('Page').mean().var()[0]\n",
    "    \n",
    "print('Variancia das medias: {}'.format( perm_test(four_sessions)) )"
   ]
  },
  {
   "cell_type": "code",
   "execution_count": 37,
   "metadata": {
    "ExecuteTime": {
     "end_time": "2022-07-04T21:39:50.176103Z",
     "start_time": "2022-07-04T21:39:50.147829Z"
    },
    "execution": {
     "iopub.execute_input": "2021-07-31T15:52:09.791873Z",
     "iopub.status.busy": "2021-07-31T15:52:09.791415Z",
     "iopub.status.idle": "2021-07-31T15:52:09.793964Z",
     "shell.execute_reply": "2021-07-31T15:52:09.793625Z"
    }
   },
   "outputs": [
    {
     "name": "stdout",
     "output_type": "stream",
     "text": [
      "Observed means: [172.8 182.6 175.6 164.6]\n",
      "Variance: 55.426666666666655\n",
      "11.45333333333337\n"
     ]
    }
   ],
   "source": [
    "#calculo das medias de cada pagina\n",
    "print('Observed means:', four_sessions.groupby('Page').mean().values.ravel())\n",
    "\n",
    "# calculo da variancia das medias de cada pagina\n",
    "observed_variance = four_sessions.groupby('Page').mean().var()[0]\n",
    "print('Variance:', observed_variance)\n",
    "\n",
    "# Teste de permutacao\n",
    "def perm_test(df):\n",
    "    # 1. Junte todos os dados em uma única caixa.\n",
    "    df = df.copy()\n",
    "    # 2. Embaralhe e tire quatro reamostras de cinco valores cada.\n",
    "    df['Time'] = np.random.permutation(df['Time'].values)\n",
    "    # 3. Registre a média de cada um dos quatro grupos.\n",
    "    # 4. Registre a variância entre as médias dos quatro grupos.\n",
    "    return df.groupby('Page').mean().var()[0]\n",
    "    \n",
    "print(perm_test(four_sessions))\n"
   ]
  },
  {
   "cell_type": "code",
   "execution_count": 38,
   "metadata": {
    "ExecuteTime": {
     "end_time": "2022-07-04T21:39:57.859036Z",
     "start_time": "2022-07-04T21:39:50.180391Z"
    },
    "execution": {
     "iopub.execute_input": "2021-07-31T15:52:09.802476Z",
     "iopub.status.busy": "2021-07-31T15:52:09.801939Z",
     "iopub.status.idle": "2021-07-31T15:52:13.868684Z",
     "shell.execute_reply": "2021-07-31T15:52:13.868143Z"
    },
    "scrolled": true
   },
   "outputs": [
    {
     "name": "stdout",
     "output_type": "stream",
     "text": [
      "Proporcao Pr(Prob) 0.085\n"
     ]
    }
   ],
   "source": [
    "random.seed(1)\n",
    "# 5. Repita os passos de 2 a 4 muitas vezes R = 3000 vezes\n",
    "perm_variance = [perm_test(four_sessions) for _ in range(3000)]\n",
    "\n",
    "# Proporção do tempo que a variância reamostrada excedeu a variância das medias das paginas\n",
    "print('Proporcao Pr(Prob)', np.mean([var > observed_variance for var in perm_variance]))"
   ]
  },
  {
   "cell_type": "code",
   "execution_count": 39,
   "metadata": {
    "ExecuteTime": {
     "end_time": "2022-07-04T21:39:58.401631Z",
     "start_time": "2022-07-04T21:39:57.862475Z"
    }
   },
   "outputs": [
    {
     "data": {
      "image/png": "[encoded data removed]",
      "text/plain": [
       "<Figure size 1728x864 with 1 Axes>"
      ]
     },
     "metadata": {},
     "output_type": "display_data"
    }
   ],
   "source": [
    "# histograma da variancias das 3000 permutacoes\n",
    "fig, ax = plt.subplots(figsize=(24, 12))\n",
    "sns.histplot(perm_variance, bins = 11, ax = ax);\n",
    "ax.axvline(x = observed_variance, color='black', lw=2)\n",
    "ax.text(60, 200, 'Observed\\nvariance', bbox={'facecolor':'white'})\n",
    "ax.set_xlabel('Variance')\n",
    "ax.set_ylabel('Frequency');"
   ]
  },
  {
   "cell_type": "markdown",
   "metadata": {
    "ExecuteTime": {
     "end_time": "2022-07-01T17:43:17.941561Z",
     "start_time": "2022-07-01T17:43:17.562579Z"
    }
   },
   "source": [
    "<font color = red>**Qual proporção do tempo a variância reamostrada excedeu a variância\n",
    "observada?**</font>\n",
    "\n",
    "**Esse é o valor p.**\n",
    "\n",
    "<font color = blue>**As variâncias das médias das 3000 reamostras foram maiores que a variância da média das paginas**</font>\n",
    "\n",
    "**Em outras palavras, dada a mesma aderência subjacente, a taxa de resposta entre quatro páginas pode diferir tanto quanto foi realmente observado, apenas por acaso.**\n",
    "\n",
    "<font color = red>**Esse grau de improbabilidade fica aquém do limite estatístico tradicional de 5%, então concluímos que a diferença entre as quatro páginas pode ter surgido por acaso.**</font>"
   ]
  },
  {
   "cell_type": "markdown",
   "metadata": {},
   "source": [
    "## Estatística F"
   ]
  },
  {
   "cell_type": "markdown",
   "metadata": {},
   "source": [
    "Assim como o teste t pode ser usado no lugar de um teste de permutação para comparar a média de dois grupos, existe um **teste estatístico para ANOVA baseado na estatística F.**\n",
    "\n",
    "<font color = blue>**A estatística F se baseia na relação da variância entre as médias dos grupos com a variância devido a erro residual.**</font>\n",
    "* variância, ou seja, o efeito do tratamento.\n",
    "* Quanto maior essa relação, mais estatisticamente significativo é o resultado.\n",
    "\n",
    "**Se os dados seguirem uma distribuição normal, então a teoria estatística determina que a estatística deve ter uma certa distribuição.**\n",
    "\n",
    "* Com base nisso, é possível calcular:\n",
    "    * Um valor p.\n",
    "    * Df é “graus de liberdade \n",
    "        * Degrees of freedom\n",
    "    * Sum Sq é “soma dos quadrados \n",
    "        * Sum of squares\n",
    "    * Mean Sq é “quadrados médios”\n",
    "        * Mean squares\n",
    "        * Desvio quadrático médio\n",
    "    * F value é a estatística F.\n",
    "    "
   ]
  },
  {
   "cell_type": "markdown",
   "metadata": {},
   "source": [
    "### Exemplo Aderência Web"
   ]
  },
  {
   "cell_type": "markdown",
   "metadata": {},
   "source": [
    "**Calculo biblioteca STATSMODELS**\n",
    "\n",
    "https://www.statsmodels.org/dev/generated/statsmodels.stats.anova.anova_lm.html"
   ]
  },
  {
   "cell_type": "code",
   "execution_count": 40,
   "metadata": {
    "ExecuteTime": {
     "end_time": "2022-07-04T21:39:58.461047Z",
     "start_time": "2022-07-04T21:39:58.404716Z"
    },
    "execution": {
     "iopub.execute_input": "2021-07-31T15:52:13.877282Z",
     "iopub.status.busy": "2021-07-31T15:52:13.876749Z",
     "iopub.status.idle": "2021-07-31T15:52:13.886417Z",
     "shell.execute_reply": "2021-07-31T15:52:13.885960Z"
    },
    "scrolled": true
   },
   "outputs": [
    {
     "name": "stdout",
     "output_type": "stream",
     "text": [
      "            df  sum_sq     mean_sq         F    PR(>F)\n",
      "Page       3.0   831.4  277.133333  2.739825  0.077586\n",
      "Residual  16.0  1618.4  101.150000       NaN       NaN\n"
     ]
    }
   ],
   "source": [
    "model = smf.ols('Time ~ Page', data=four_sessions).fit()\n",
    "aov_table = sm.stats.anova_lm(model)\n",
    "print(aov_table)"
   ]
  },
  {
   "cell_type": "markdown",
   "metadata": {},
   "source": [
    "**Calculo biblioteca Pingouin**\n",
    "\n",
    "https://pingouin-stats.org/generated/pingouin.anova.html#pingouin.anova"
   ]
  },
  {
   "cell_type": "code",
   "execution_count": 41,
   "metadata": {
    "ExecuteTime": {
     "end_time": "2022-07-04T21:39:58.506859Z",
     "start_time": "2022-07-04T21:39:58.464371Z"
    }
   },
   "outputs": [
    {
     "data": {
      "text/html": [
       "<div>\n",
       "<style scoped>\n",
       "    .dataframe tbody tr th:only-of-type {\n",
       "        vertical-align: middle;\n",
       "    }\n",
       "\n",
       "    .dataframe tbody tr th {\n",
       "        vertical-align: top;\n",
       "    }\n",
       "\n",
       "    .dataframe thead th {\n",
       "        text-align: right;\n",
       "    }\n",
       "</style>\n",
       "<table border=\"1\" class=\"dataframe\">\n",
       "  <thead>\n",
       "    <tr style=\"text-align: right;\">\n",
       "      <th></th>\n",
       "      <th>Source</th>\n",
       "      <th>SS</th>\n",
       "      <th>DF</th>\n",
       "      <th>MS</th>\n",
       "      <th>F</th>\n",
       "      <th>p-unc</th>\n",
       "      <th>np2</th>\n",
       "    </tr>\n",
       "  </thead>\n",
       "  <tbody>\n",
       "    <tr>\n",
       "      <th>0</th>\n",
       "      <td>Page</td>\n",
       "      <td>831.4</td>\n",
       "      <td>3</td>\n",
       "      <td>277.133</td>\n",
       "      <td>2.74</td>\n",
       "      <td>0.078</td>\n",
       "      <td>0.339</td>\n",
       "    </tr>\n",
       "    <tr>\n",
       "      <th>1</th>\n",
       "      <td>Within</td>\n",
       "      <td>1618.4</td>\n",
       "      <td>16</td>\n",
       "      <td>101.150</td>\n",
       "      <td>NaN</td>\n",
       "      <td>NaN</td>\n",
       "      <td>NaN</td>\n",
       "    </tr>\n",
       "  </tbody>\n",
       "</table>\n",
       "</div>"
      ],
      "text/plain": [
       "   Source      SS  DF       MS     F  p-unc    np2\n",
       "0    Page   831.4   3  277.133  2.74  0.078  0.339\n",
       "1  Within  1618.4  16  101.150   NaN    NaN    NaN"
      ]
     },
     "execution_count": 41,
     "metadata": {},
     "output_type": "execute_result"
    }
   ],
   "source": [
    "aov = pg.anova(dv='Time', between='Page', data=four_sessions,\n",
    "               detailed=True)\n",
    "aov.round(3)"
   ]
  },
  {
   "cell_type": "markdown",
   "metadata": {},
   "source": [
    "**Calculo biblioteca SCIPY**\n",
    "\n",
    "https://docs.scipy.org/doc/scipy/reference/generated/scipy.stats.f_oneway.html"
   ]
  },
  {
   "cell_type": "code",
   "execution_count": 42,
   "metadata": {
    "ExecuteTime": {
     "end_time": "2022-07-04T21:39:58.528835Z",
     "start_time": "2022-07-04T21:39:58.509555Z"
    },
    "execution": {
     "iopub.execute_input": "2021-07-31T15:52:13.937438Z",
     "iopub.status.busy": "2021-07-31T15:52:13.936755Z",
     "iopub.status.idle": "2021-07-31T15:52:13.944405Z",
     "shell.execute_reply": "2021-07-31T15:52:13.943932Z"
    }
   },
   "outputs": [
    {
     "name": "stdout",
     "output_type": "stream",
     "text": [
      "F-Statistic: 1.3699\n",
      "p-value: 0.0388\n"
     ]
    }
   ],
   "source": [
    "\n",
    "res = stats.f_oneway(four_sessions[four_sessions.Page == 'Page 1'].Time, \n",
    "                     four_sessions[four_sessions.Page == 'Page 2'].Time,\n",
    "                     four_sessions[four_sessions.Page == 'Page 3'].Time,\n",
    "                     four_sessions[four_sessions.Page == 'Page 4'].Time)\n",
    "print(f'F-Statistic: {res.statistic / 2:.4f}')\n",
    "print(f'p-value: {res.pvalue / 2:.4f}')"
   ]
  },
  {
   "cell_type": "markdown",
   "metadata": {},
   "source": [
    "Para a média global:\n",
    "* A soma dos quadrados é a partida da média global de 0 quadrático vezes 20 (o número de observações). \n",
    "* O grau de liberdade para a média global é 1, por definição.\n",
    "\n",
    "Para as médias de tratamento:\n",
    "* O grau deliberdade é 3 \n",
    "* Uma vez que três valores estejam ajustados, e então a média global seja ajustada, as outras médias de tratamento não podem variar\n",
    "* A soma dos quadrados para as médias de tratamento é a soma das partidas quadráticas entre as médias de tratamento e a média global.\n",
    "\n",
    "Para os resíduos:\n",
    "* O grau de liberdade é 20 (todas as observações podem variar)\n",
    "* SS é a soma das diferenças quadráticas entre as observações individuais e as médias de tratamento.\n",
    "\n",
    "As médias quadráticas (mean squares) (MS) são a soma dos quadrados divididas pelos graus de liberdade.\n",
    "\n",
    "**A estatística F é MS(tratamento)/MS(erro).**\n",
    "\n",
    "<font color = red>**O valor F depende, então, apenas dessa proporção, e pode ser comparado a uma distribuição F padrão para determinar se as diferenças entre as médias de tratamento são maiores do que o esperado em uma variação de acaso.**</font>"
   ]
  },
  {
   "cell_type": "markdown",
   "metadata": {},
   "source": [
    "### Decomposição da Variância - Cálculo passo a passo"
   ]
  },
  {
   "cell_type": "code",
   "execution_count": 43,
   "metadata": {
    "ExecuteTime": {
     "end_time": "2022-07-04T21:39:58.546596Z",
     "start_time": "2022-07-04T21:39:58.534404Z"
    }
   },
   "outputs": [
    {
     "data": {
      "text/html": [
       "<div>\n",
       "<style scoped>\n",
       "    .dataframe tbody tr th:only-of-type {\n",
       "        vertical-align: middle;\n",
       "    }\n",
       "\n",
       "    .dataframe tbody tr th {\n",
       "        vertical-align: top;\n",
       "    }\n",
       "\n",
       "    .dataframe thead th {\n",
       "        text-align: right;\n",
       "    }\n",
       "</style>\n",
       "<table border=\"1\" class=\"dataframe\">\n",
       "  <thead>\n",
       "    <tr style=\"text-align: right;\">\n",
       "      <th></th>\n",
       "      <th>Page</th>\n",
       "      <th>Time</th>\n",
       "    </tr>\n",
       "  </thead>\n",
       "  <tbody>\n",
       "    <tr>\n",
       "      <th>0</th>\n",
       "      <td>Page 1</td>\n",
       "      <td>164</td>\n",
       "    </tr>\n",
       "    <tr>\n",
       "      <th>1</th>\n",
       "      <td>Page 2</td>\n",
       "      <td>178</td>\n",
       "    </tr>\n",
       "    <tr>\n",
       "      <th>2</th>\n",
       "      <td>Page 3</td>\n",
       "      <td>175</td>\n",
       "    </tr>\n",
       "    <tr>\n",
       "      <th>3</th>\n",
       "      <td>Page 4</td>\n",
       "      <td>155</td>\n",
       "    </tr>\n",
       "    <tr>\n",
       "      <th>4</th>\n",
       "      <td>Page 1</td>\n",
       "      <td>172</td>\n",
       "    </tr>\n",
       "    <tr>\n",
       "      <th>5</th>\n",
       "      <td>Page 2</td>\n",
       "      <td>191</td>\n",
       "    </tr>\n",
       "    <tr>\n",
       "      <th>6</th>\n",
       "      <td>Page 3</td>\n",
       "      <td>193</td>\n",
       "    </tr>\n",
       "    <tr>\n",
       "      <th>7</th>\n",
       "      <td>Page 4</td>\n",
       "      <td>166</td>\n",
       "    </tr>\n",
       "    <tr>\n",
       "      <th>8</th>\n",
       "      <td>Page 1</td>\n",
       "      <td>177</td>\n",
       "    </tr>\n",
       "    <tr>\n",
       "      <th>9</th>\n",
       "      <td>Page 2</td>\n",
       "      <td>182</td>\n",
       "    </tr>\n",
       "    <tr>\n",
       "      <th>10</th>\n",
       "      <td>Page 3</td>\n",
       "      <td>171</td>\n",
       "    </tr>\n",
       "    <tr>\n",
       "      <th>11</th>\n",
       "      <td>Page 4</td>\n",
       "      <td>164</td>\n",
       "    </tr>\n",
       "    <tr>\n",
       "      <th>12</th>\n",
       "      <td>Page 1</td>\n",
       "      <td>156</td>\n",
       "    </tr>\n",
       "    <tr>\n",
       "      <th>13</th>\n",
       "      <td>Page 2</td>\n",
       "      <td>185</td>\n",
       "    </tr>\n",
       "    <tr>\n",
       "      <th>14</th>\n",
       "      <td>Page 3</td>\n",
       "      <td>163</td>\n",
       "    </tr>\n",
       "    <tr>\n",
       "      <th>15</th>\n",
       "      <td>Page 4</td>\n",
       "      <td>170</td>\n",
       "    </tr>\n",
       "    <tr>\n",
       "      <th>16</th>\n",
       "      <td>Page 1</td>\n",
       "      <td>195</td>\n",
       "    </tr>\n",
       "    <tr>\n",
       "      <th>17</th>\n",
       "      <td>Page 2</td>\n",
       "      <td>177</td>\n",
       "    </tr>\n",
       "    <tr>\n",
       "      <th>18</th>\n",
       "      <td>Page 3</td>\n",
       "      <td>176</td>\n",
       "    </tr>\n",
       "    <tr>\n",
       "      <th>19</th>\n",
       "      <td>Page 4</td>\n",
       "      <td>168</td>\n",
       "    </tr>\n",
       "  </tbody>\n",
       "</table>\n",
       "</div>"
      ],
      "text/plain": [
       "      Page  Time\n",
       "0   Page 1   164\n",
       "1   Page 2   178\n",
       "2   Page 3   175\n",
       "3   Page 4   155\n",
       "4   Page 1   172\n",
       "5   Page 2   191\n",
       "6   Page 3   193\n",
       "7   Page 4   166\n",
       "8   Page 1   177\n",
       "9   Page 2   182\n",
       "10  Page 3   171\n",
       "11  Page 4   164\n",
       "12  Page 1   156\n",
       "13  Page 2   185\n",
       "14  Page 3   163\n",
       "15  Page 4   170\n",
       "16  Page 1   195\n",
       "17  Page 2   177\n",
       "18  Page 3   176\n",
       "19  Page 4   168"
      ]
     },
     "execution_count": 43,
     "metadata": {},
     "output_type": "execute_result"
    }
   ],
   "source": [
    "#Dataset\n",
    "four_sessions"
   ]
  },
  {
   "cell_type": "markdown",
   "metadata": {},
   "source": [
    "Os valores observados em um conjunto de dados podem ser considerados somas de diferentes componentes.\n",
    "\n",
    "Qualquer valor de dado observado dentro de um conjunto de dados pode ser decomposto:\n",
    "* na média global\n",
    "* no efeito do tratamento\n",
    "* no erro residual\n",
    "\n",
    "Chamamos isso de uma “decomposição de variância”.\n",
    "1. Comece com uma média global \n",
    "    * 173,75 para todos os 20 dados de aderência de página web\n",
    "2. Adicione o efeito do tratamento, que pode ser negativo\n",
    "    * variável independente = página web\n",
    "3. Adicione o erro residual, que pode ser negativo.\n",
    "\n",
    "Então a decomposição da variância para o valor superior esquerdo na tabela do teste A-B-C-D é a seguinte:\n",
    "1. Comece com a média global: 173,75.\n",
    "2. Adicione o efeito do tratamento (grupo): –1,75 (172 – 173,75).\n",
    "3. Adicione o residual: –8 (164 – 172).\n",
    "4. Igual a: 164."
   ]
  },
  {
   "cell_type": "code",
   "execution_count": 44,
   "metadata": {
    "ExecuteTime": {
     "end_time": "2022-07-04T21:39:58.613805Z",
     "start_time": "2022-07-04T21:39:58.549619Z"
    },
    "scrolled": true
   },
   "outputs": [
    {
     "data": {
      "text/html": [
       "<div>\n",
       "<style scoped>\n",
       "    .dataframe tbody tr th:only-of-type {\n",
       "        vertical-align: middle;\n",
       "    }\n",
       "\n",
       "    .dataframe tbody tr th {\n",
       "        vertical-align: top;\n",
       "    }\n",
       "\n",
       "    .dataframe thead th {\n",
       "        text-align: right;\n",
       "    }\n",
       "</style>\n",
       "<table border=\"1\" class=\"dataframe\">\n",
       "  <thead>\n",
       "    <tr style=\"text-align: right;\">\n",
       "      <th></th>\n",
       "      <th>usuario</th>\n",
       "      <th>global_mean</th>\n",
       "      <th>page_1</th>\n",
       "      <th>page_1_mean</th>\n",
       "      <th>page_1_tratamento</th>\n",
       "      <th>page_1_erro</th>\n",
       "      <th>page_2</th>\n",
       "      <th>page_2_mean</th>\n",
       "      <th>page_2_tratamento</th>\n",
       "      <th>page_2_erro</th>\n",
       "      <th>page_3</th>\n",
       "      <th>page_3_mean</th>\n",
       "      <th>page_3_tratamento</th>\n",
       "      <th>page_3_erro</th>\n",
       "      <th>page_4</th>\n",
       "      <th>page_4_mean</th>\n",
       "      <th>page_4_tratamento</th>\n",
       "      <th>page_4_erro</th>\n",
       "    </tr>\n",
       "  </thead>\n",
       "  <tbody>\n",
       "    <tr>\n",
       "      <th>0</th>\n",
       "      <td>1</td>\n",
       "      <td>173.9</td>\n",
       "      <td>164</td>\n",
       "      <td>172.8</td>\n",
       "      <td>-1.1</td>\n",
       "      <td>-8.8</td>\n",
       "      <td>178</td>\n",
       "      <td>182.6</td>\n",
       "      <td>8.7</td>\n",
       "      <td>-4.6</td>\n",
       "      <td>175</td>\n",
       "      <td>175.6</td>\n",
       "      <td>1.7</td>\n",
       "      <td>-0.6</td>\n",
       "      <td>155</td>\n",
       "      <td>164.6</td>\n",
       "      <td>-9.3</td>\n",
       "      <td>-9.6</td>\n",
       "    </tr>\n",
       "    <tr>\n",
       "      <th>1</th>\n",
       "      <td>2</td>\n",
       "      <td>173.9</td>\n",
       "      <td>172</td>\n",
       "      <td>172.8</td>\n",
       "      <td>-1.1</td>\n",
       "      <td>-0.8</td>\n",
       "      <td>191</td>\n",
       "      <td>182.6</td>\n",
       "      <td>8.7</td>\n",
       "      <td>8.4</td>\n",
       "      <td>193</td>\n",
       "      <td>175.6</td>\n",
       "      <td>1.7</td>\n",
       "      <td>17.4</td>\n",
       "      <td>166</td>\n",
       "      <td>164.6</td>\n",
       "      <td>-9.3</td>\n",
       "      <td>1.4</td>\n",
       "    </tr>\n",
       "    <tr>\n",
       "      <th>2</th>\n",
       "      <td>3</td>\n",
       "      <td>173.9</td>\n",
       "      <td>177</td>\n",
       "      <td>172.8</td>\n",
       "      <td>-1.1</td>\n",
       "      <td>4.2</td>\n",
       "      <td>182</td>\n",
       "      <td>182.6</td>\n",
       "      <td>8.7</td>\n",
       "      <td>-0.6</td>\n",
       "      <td>171</td>\n",
       "      <td>175.6</td>\n",
       "      <td>1.7</td>\n",
       "      <td>-4.6</td>\n",
       "      <td>164</td>\n",
       "      <td>164.6</td>\n",
       "      <td>-9.3</td>\n",
       "      <td>-0.6</td>\n",
       "    </tr>\n",
       "    <tr>\n",
       "      <th>3</th>\n",
       "      <td>4</td>\n",
       "      <td>173.9</td>\n",
       "      <td>156</td>\n",
       "      <td>172.8</td>\n",
       "      <td>-1.1</td>\n",
       "      <td>-16.8</td>\n",
       "      <td>185</td>\n",
       "      <td>182.6</td>\n",
       "      <td>8.7</td>\n",
       "      <td>2.4</td>\n",
       "      <td>163</td>\n",
       "      <td>175.6</td>\n",
       "      <td>1.7</td>\n",
       "      <td>-12.6</td>\n",
       "      <td>170</td>\n",
       "      <td>164.6</td>\n",
       "      <td>-9.3</td>\n",
       "      <td>5.4</td>\n",
       "    </tr>\n",
       "    <tr>\n",
       "      <th>4</th>\n",
       "      <td>5</td>\n",
       "      <td>173.9</td>\n",
       "      <td>195</td>\n",
       "      <td>172.8</td>\n",
       "      <td>-1.1</td>\n",
       "      <td>22.2</td>\n",
       "      <td>177</td>\n",
       "      <td>182.6</td>\n",
       "      <td>8.7</td>\n",
       "      <td>-5.6</td>\n",
       "      <td>176</td>\n",
       "      <td>175.6</td>\n",
       "      <td>1.7</td>\n",
       "      <td>0.4</td>\n",
       "      <td>168</td>\n",
       "      <td>164.6</td>\n",
       "      <td>-9.3</td>\n",
       "      <td>3.4</td>\n",
       "    </tr>\n",
       "  </tbody>\n",
       "</table>\n",
       "</div>"
      ],
      "text/plain": [
       "   usuario  global_mean  page_1  page_1_mean  page_1_tratamento  page_1_erro  page_2  page_2_mean  page_2_tratamento  page_2_erro  page_3  page_3_mean  page_3_tratamento  page_3_erro  page_4  page_4_mean  page_4_tratamento  page_4_erro\n",
       "0        1        173.9     164        172.8               -1.1         -8.8     178        182.6                8.7         -4.6     175        175.6                1.7         -0.6     155        164.6               -9.3         -9.6\n",
       "1        2        173.9     172        172.8               -1.1         -0.8     191        182.6                8.7          8.4     193        175.6                1.7         17.4     166        164.6               -9.3          1.4\n",
       "2        3        173.9     177        172.8               -1.1          4.2     182        182.6                8.7         -0.6     171        175.6                1.7         -4.6     164        164.6               -9.3         -0.6\n",
       "3        4        173.9     156        172.8               -1.1        -16.8     185        182.6                8.7          2.4     163        175.6                1.7        -12.6     170        164.6               -9.3          5.4\n",
       "4        5        173.9     195        172.8               -1.1         22.2     177        182.6                8.7         -5.6     176        175.6                1.7          0.4     168        164.6               -9.3          3.4"
      ]
     },
     "execution_count": 44,
     "metadata": {},
     "output_type": "execute_result"
    }
   ],
   "source": [
    "aux2 = pd.DataFrame(columns=['usuario'])\n",
    "aux2['usuario']=[1,2,3,4,5]\n",
    "\n",
    "#1. Comece com uma média global\n",
    "aux2['global_mean']=four_sessions['Time'].mean()\n",
    "\n",
    "# pagina 1 \n",
    "aux2['page_1']=list(four_sessions[four_sessions.Page == 'Page 1'].Time)\n",
    "aux2['page_1_mean']=aux2['page_1'].mean()\n",
    "# 2. Adicione o efeito do tratamento na pagina, que pode ser negativo\n",
    "aux2['page_1_tratamento']=aux2['page_1_mean'] - aux2['global_mean']\n",
    "# 3. Adicione o erro residual, que pode ser negativo.\n",
    "aux2['page_1_erro']=aux2['page_1'] - aux2['page_1_mean']\n",
    "\n",
    "# pagina 2\n",
    "aux2['page_2']=list(four_sessions[four_sessions.Page == 'Page 2'].Time)\n",
    "aux2['page_2_mean']=aux2['page_2'].mean()\n",
    "# 2. Adicione o efeito do tratamento na pagina, que pode ser negativo\n",
    "aux2['page_2_tratamento']=aux2['page_2_mean'] - aux2['global_mean']\n",
    "# 3. Adicione o erro residual, que pode ser negativo.\n",
    "aux2['page_2_erro']=aux2['page_2'] - aux2['page_2_mean']\n",
    "\n",
    "# pagina 3\n",
    "aux2['page_3']=list(four_sessions[four_sessions.Page == 'Page 3'].Time)\n",
    "aux2['page_3_mean']=aux2['page_3'].mean()\n",
    "# 2. Adicione o efeito do tratamento na pagina, que pode ser negativo\n",
    "aux2['page_3_tratamento']=aux2['page_3_mean'] - aux2['global_mean']\n",
    "# 3. Adicione o erro residual, que pode ser negativo.\n",
    "aux2['page_3_erro']=aux2['page_3'] - aux2['page_3_mean']\n",
    "\n",
    "# pagina 4\n",
    "aux2['page_4']=list(four_sessions[four_sessions.Page == 'Page 4'].Time)\n",
    "aux2['page_4_mean']=aux2['page_4'].mean()\n",
    "# 2. Adicione o efeito do tratamento na pagina, que pode ser negativo\n",
    "aux2['page_4_tratamento']=aux2['page_4_mean'] - aux2['global_mean']\n",
    "# 3. Adicione o erro residual, que pode ser negativo.\n",
    "aux2['page_4_erro']=aux2['page_4'] - aux2['page_4_mean']\n",
    "\n",
    "aux2"
   ]
  },
  {
   "cell_type": "code",
   "execution_count": 45,
   "metadata": {
    "ExecuteTime": {
     "end_time": "2022-07-04T21:39:58.624053Z",
     "start_time": "2022-07-04T21:39:58.616128Z"
    }
   },
   "outputs": [
    {
     "data": {
      "text/plain": [
       "277.13333333333327"
      ]
     },
     "execution_count": 45,
     "metadata": {},
     "output_type": "execute_result"
    }
   ],
   "source": [
    "# Soma dos desvios quadraticos das variacoes dos tratamentos entre as paginas\n",
    "    # tratamentos = medias de cada pagina\n",
    "var_entre_paginas = (np.square(aux2['page_1_tratamento']).sum() +\n",
    "                     np.square(aux2['page_2_tratamento']).sum() +\n",
    "                     np.square(aux2['page_3_tratamento']).sum() +\n",
    "                     np.square(aux2['page_4_tratamento']).sum() ) / (4-1)\n",
    "var_entre_paginas"
   ]
  },
  {
   "cell_type": "code",
   "execution_count": 46,
   "metadata": {
    "ExecuteTime": {
     "end_time": "2022-07-04T21:39:58.636115Z",
     "start_time": "2022-07-04T21:39:58.626963Z"
    }
   },
   "outputs": [
    {
     "data": {
      "text/plain": [
       "101.15"
      ]
     },
     "execution_count": 46,
     "metadata": {},
     "output_type": "execute_result"
    }
   ],
   "source": [
    "# Soma dos desvios quadraticos das variacoes dos erros dentro de cada pagina\n",
    "var_dentro_da_pagina = (np.square(aux2['page_1_erro']).sum() +\n",
    "                        np.square(aux2['page_2_erro']).sum() +\n",
    "                        np.square(aux2['page_3_erro']).sum() +\n",
    "                        np.square(aux2['page_4_erro']).sum() ) / (20-4)\n",
    "var_dentro_da_pagina"
   ]
  },
  {
   "cell_type": "code",
   "execution_count": 47,
   "metadata": {
    "ExecuteTime": {
     "end_time": "2022-07-04T21:39:58.643705Z",
     "start_time": "2022-07-04T21:39:58.638582Z"
    }
   },
   "outputs": [
    {
     "data": {
      "text/plain": [
       "2.7398253419014655"
      ]
     },
     "execution_count": 47,
     "metadata": {},
     "output_type": "execute_result"
    }
   ],
   "source": [
    "F = var_entre_paginas / var_dentro_da_pagina\n",
    "F"
   ]
  },
  {
   "cell_type": "markdown",
   "metadata": {
    "ExecuteTime": {
     "end_time": "2022-07-02T14:38:24.619363Z",
     "start_time": "2022-07-02T14:38:24.614159Z"
    }
   },
   "source": [
    "### Anova Birecional"
   ]
  },
  {
   "cell_type": "markdown",
   "metadata": {},
   "source": [
    "**O teste A-B-C-D descrito é uma ANOVA “unidirecional”, em que temos apenas um fator (grupo) que está variando.**\n",
    "\n",
    "<font color = red>**Poderíamos ter um segundo fator envolvido**</font>\n",
    "* Digamos, “fim de semana versus dia útil” \n",
    "* Com dados coletados em cada combinação (grupo A dia útil, grupo B fim de semana etc.).\n",
    "\n",
    "Isso seria uma “ANOVA bidirecional”, e trataríamos isso de modo semelhante ao da ANOVA unidirecional, **identificando o “efeito de interação”.**\n",
    "\n",
    "Depois de identificar o efeito da média global e o efeito do tratamento\n",
    "* Separamos as observações de fim de semana e dia útil de cada grupo\n",
    "* Encontramos a diferença entre as médias para aqueles subconjuntos e a média do tratamento.\n",
    "\n",
    "Pode-se ver que a ANOVA e a ANOVA bidirecional são os primeiros passos no caminho em direção a um modelo estatístico completo:\n",
    "* regressão\n",
    "* regressão logística\n",
    "* Em que se pode modelar múltiplos fatores e seus efeitos."
   ]
  },
  {
   "cell_type": "markdown",
   "metadata": {},
   "source": [
    "### Ideias Chave"
   ]
  },
  {
   "cell_type": "markdown",
   "metadata": {},
   "source": [
    "* ANOVA é um procedimento estatístico para analisar os resultados de um experimento com múltiplos grupos.\n",
    "\n",
    "* É a extensão de procedimentos semelhantes para o teste A/B, usado para avaliar se a variação global entre os grupos está dentro da taxa de variação do acaso.\n",
    "\n",
    "* Um resultado útil de uma ANOVA é a identificação de componentes de variância associados com tratamentos de grupo, efeitos de interação e erros."
   ]
  },
  {
   "cell_type": "markdown",
   "metadata": {},
   "source": [
    "## 3.11 Test Qui Quadrado -  Chi-Square Test"
   ]
  },
  {
   "cell_type": "markdown",
   "metadata": {},
   "source": [
    "### Termos Chaves"
   ]
  },
  {
   "cell_type": "markdown",
   "metadata": {},
   "source": [
    "**Estatística qui quadrada**\n",
    "* Uma medida da extensão em que alguns dados observados partem da expectativa.\n",
    "\n",
    "**Expectativa ou esperado**\n",
    "* Como esperamos que os dados se comportem sob alguma suposição, tipicamente a hipótese é nula.\n",
    "\n",
    "**g.l.**\n",
    "* Graus de liberdade."
   ]
  },
  {
   "cell_type": "markdown",
   "metadata": {},
   "source": [
    "### Introdução"
   ]
  },
  {
   "cell_type": "markdown",
   "metadata": {},
   "source": [
    "A testagem web costuma ir além da testagem A/B e testa múltiplos tratamentos ao mesmo tempo.\n",
    "\n",
    "<font color = red>**O teste de qui quadrado é usado para contar os dados para testar quão bem se encaixam em alguma distribuição desejada.**</font>\n",
    "\n",
    "**O uso mais comum da estatística qui quadrada em prática estatística é:**\n",
    "* Com tabelas de contingência r × c\n",
    "    * r × c significa “linhas por colunas (rows by columns)”\n",
    "    * uma tabela de 2×3 tem duas linhas e três colunas\n",
    "* Para avaliar se a hipótese nula de independência entre as variáveis é razoável.\n",
    "\n",
    "O termo “qui” vem da letra grega ξ usada por Pearson em 1900."
   ]
  },
  {
   "cell_type": "markdown",
   "metadata": {},
   "source": [
    "### Teste Qui Quadrado: Uma Abordagem à Reamostra"
   ]
  },
  {
   "cell_type": "markdown",
   "metadata": {},
   "source": [
    "Suponha que está testando três títulos diferentes nas páginas web A, B e C\n",
    "* Cada pagina recebe 1.000 visitantes, com os resultados mostrados na Tabele 3-4."
   ]
  },
  {
   "cell_type": "code",
   "execution_count": 48,
   "metadata": {
    "ExecuteTime": {
     "end_time": "2022-07-04T21:39:58.651919Z",
     "start_time": "2022-07-04T21:39:58.646003Z"
    }
   },
   "outputs": [
    {
     "data": {
      "image/png": "[encoded data removed]",
      "text/plain": [
       "<IPython.core.display.Image object>"
      ]
     },
     "execution_count": 48,
     "metadata": {},
     "output_type": "execute_result"
    }
   ],
   "source": [
    "Image('/home/deivison/Documentos/projetos/stats/imagem/cap_03_chi_1.png')"
   ]
  },
  {
   "cell_type": "code",
   "execution_count": 49,
   "metadata": {
    "ExecuteTime": {
     "end_time": "2022-07-04T21:39:58.673369Z",
     "start_time": "2022-07-04T21:39:58.653979Z"
    }
   },
   "outputs": [
    {
     "name": "stdout",
     "output_type": "stream",
     "text": [
      "Headline  Headline A  Headline B  Headline C\n",
      "Click                                       \n",
      "Click             14           8          12\n",
      "No-click         986         992         988\n"
     ]
    }
   ],
   "source": [
    "# Table 3-4\n",
    "click_rate = pd.read_csv(CLICK_RATE_CSV)\n",
    "clicks = click_rate.pivot(index='Click', columns='Headline', values='Rate')\n",
    "print(clicks)"
   ]
  },
  {
   "cell_type": "markdown",
   "metadata": {},
   "source": [
    "Os títulos certamente parecem diferir.\n",
    "\n",
    "* O título A retorna quase que o dobro de taxa de cliques que o B.\n",
    "\n",
    "* Porém, os números reais são pequenos.\n",
    "\n",
    "**Um procedimento de reamostragem pode testar se as taxas de clique diferem em níveis maiores do que o acaso poderia produzir.**\n",
    "\n",
    "Para esse teste, precisamos ter a distribuição “esperada” de cliques:\n",
    "* Neste caso, isso seria sobre a suposição de hipótese nula de que todos os três títulos apresentam a mesma taxa de cliques\n",
    "* Para uma taxa global de cliques de 34/3.000. (14+8+12)/3000 visitantes\n",
    "* Sob essa suposição, nossa tabela de contingência ficaria como a Tabela 3-5."
   ]
  },
  {
   "cell_type": "code",
   "execution_count": 50,
   "metadata": {
    "ExecuteTime": {
     "end_time": "2022-07-04T21:39:58.682742Z",
     "start_time": "2022-07-04T21:39:58.676150Z"
    }
   },
   "outputs": [
    {
     "data": {
      "image/png": "[encoded data removed]",
      "text/plain": [
       "<IPython.core.display.Image object>"
      ]
     },
     "execution_count": 50,
     "metadata": {},
     "output_type": "execute_result"
    }
   ],
   "source": [
    "Image('/home/deivison/Documentos/projetos/stats/imagem/cap_03_chi_2.png')"
   ]
  },
  {
   "cell_type": "code",
   "execution_count": 51,
   "metadata": {
    "ExecuteTime": {
     "end_time": "2022-07-04T21:39:58.699607Z",
     "start_time": "2022-07-04T21:39:58.684904Z"
    },
    "execution": {
     "iopub.execute_input": "2021-07-31T15:52:13.966557Z",
     "iopub.status.busy": "2021-07-31T15:52:13.966011Z",
     "iopub.status.idle": "2021-07-31T15:52:13.971854Z",
     "shell.execute_reply": "2021-07-31T15:52:13.971461Z"
    }
   },
   "outputs": [
    {
     "data": {
      "text/html": [
       "<div>\n",
       "<style scoped>\n",
       "    .dataframe tbody tr th:only-of-type {\n",
       "        vertical-align: middle;\n",
       "    }\n",
       "\n",
       "    .dataframe tbody tr th {\n",
       "        vertical-align: top;\n",
       "    }\n",
       "\n",
       "    .dataframe thead th {\n",
       "        text-align: right;\n",
       "    }\n",
       "</style>\n",
       "<table border=\"1\" class=\"dataframe\">\n",
       "  <thead>\n",
       "    <tr style=\"text-align: right;\">\n",
       "      <th></th>\n",
       "      <th>Headline A</th>\n",
       "      <th>Headline B</th>\n",
       "      <th>Headline C</th>\n",
       "    </tr>\n",
       "    <tr>\n",
       "      <th>Click</th>\n",
       "      <th></th>\n",
       "      <th></th>\n",
       "      <th></th>\n",
       "    </tr>\n",
       "  </thead>\n",
       "  <tbody>\n",
       "    <tr>\n",
       "      <th>Click</th>\n",
       "      <td>11.333333</td>\n",
       "      <td>11.333333</td>\n",
       "      <td>11.333333</td>\n",
       "    </tr>\n",
       "    <tr>\n",
       "      <th>No-click</th>\n",
       "      <td>988.666667</td>\n",
       "      <td>988.666667</td>\n",
       "      <td>988.666667</td>\n",
       "    </tr>\n",
       "  </tbody>\n",
       "</table>\n",
       "</div>"
      ],
      "text/plain": [
       "          Headline A  Headline B  Headline C\n",
       "Click                                       \n",
       "Click      11.333333   11.333333   11.333333\n",
       "No-click  988.666667  988.666667  988.666667"
      ]
     },
     "execution_count": 51,
     "metadata": {},
     "output_type": "execute_result"
    }
   ],
   "source": [
    "# Table 3-5\n",
    "row_average = clicks.mean(axis=1)\n",
    "pd.DataFrame({\n",
    "    'Headline A': row_average,\n",
    "    'Headline B': row_average,\n",
    "    'Headline C': row_average,\n",
    "})"
   ]
  },
  {
   "cell_type": "markdown",
   "metadata": {},
   "source": [
    "### Cálculo do Resíduo de Pearson"
   ]
  },
  {
   "cell_type": "markdown",
   "metadata": {},
   "source": [
    "O residual de Pearson é definido como:\n",
    "\n",
    "R = $\\frac{Valor Observado - Valor Esperado}{\\sqrt{Valor Esperado} }$\n",
    "\n",
    "R mede a extensão em que as contagens realmente diferem dessas contagens esperadas."
   ]
  },
  {
   "cell_type": "code",
   "execution_count": 52,
   "metadata": {
    "ExecuteTime": {
     "end_time": "2022-07-04T21:39:58.706277Z",
     "start_time": "2022-07-04T21:39:58.701272Z"
    }
   },
   "outputs": [
    {
     "name": "stdout",
     "output_type": "stream",
     "text": [
      "0.7932248412147792\n",
      "-0.08481041876478608\n"
     ]
    }
   ],
   "source": [
    "# Calculo do resíduo para Headline A\n",
    "r1 = (14-11.33)/np.sqrt(11.33)\n",
    "r2 = (986-988.6667)/np.sqrt(988.6667)\n",
    "print(r1)\n",
    "print(r2)"
   ]
  },
  {
   "cell_type": "code",
   "execution_count": 53,
   "metadata": {
    "ExecuteTime": {
     "end_time": "2022-07-04T21:39:58.715098Z",
     "start_time": "2022-07-04T21:39:58.708604Z"
    }
   },
   "outputs": [
    {
     "data": {
      "image/png": "[encoded data removed]",
      "text/plain": [
       "<IPython.core.display.Image object>"
      ]
     },
     "execution_count": 53,
     "metadata": {},
     "output_type": "execute_result"
    }
   ],
   "source": [
    "Image('/home/deivison/Documentos/projetos/stats/imagem/cap_03_chi_3.png')"
   ]
  },
  {
   "cell_type": "markdown",
   "metadata": {},
   "source": [
    "A estatística qui quadrada é definida como a soma dos residuais quadráticos de Pearson.\n",
    "\n",
    "$\\sum \\limits _{i} ^{Linha} \\sum \\limits _{j} ^{Coluna} R² $\n",
    "\n",
    "em que Linha e Coluna são os números de linhas e colunas, respectivamente. \n",
    "\n",
    "A estatística qui quadrada para esse exemplo é 1.666.\n",
    "\n",
    "Isso é mais do que poderia plausivelmente ocorrer em um modelo de acaso?"
   ]
  },
  {
   "cell_type": "code",
   "execution_count": 54,
   "metadata": {
    "ExecuteTime": {
     "end_time": "2022-07-04T21:39:58.726302Z",
     "start_time": "2022-07-04T21:39:58.717227Z"
    }
   },
   "outputs": [],
   "source": [
    "l1=np.square(0.792)+np.square(-0.990)+np.square(0.198)\n",
    "l2=np.square(-0.085)+np.square(0.106)+np.square(-0.021)"
   ]
  },
  {
   "cell_type": "code",
   "execution_count": 55,
   "metadata": {
    "ExecuteTime": {
     "end_time": "2022-07-04T21:39:58.736648Z",
     "start_time": "2022-07-04T21:39:58.730828Z"
    }
   },
   "outputs": [
    {
     "data": {
      "text/plain": [
       "1.66547"
      ]
     },
     "execution_count": 55,
     "metadata": {},
     "output_type": "execute_result"
    }
   ],
   "source": [
    "l1+l2"
   ]
  },
  {
   "cell_type": "markdown",
   "metadata": {},
   "source": [
    "### Abordagem de reamostra"
   ]
  },
  {
   "cell_type": "markdown",
   "metadata": {},
   "source": [
    "Podemos testar com esse algoritmo de reamostragem:\n",
    "1. Forme uma caixa com 34 uns (cliques) e 2,966 zeros (sem cliques).\n",
    "2. Embaralhe, tire três amostras separadas de 1.000 e conte os cliques em cada uma.\n",
    "3. Encontre as diferenças quadráticas entre as contagens embaralhadas e as contagens esperadas e some.\n",
    "4. Repita os passos 2 e 3, digamos, 1.000 vezes.\n",
    "5. Com qual frequência a soma reamostrada dos desvios quadráticos excede a observada? Esse é o valor p."
   ]
  },
  {
   "cell_type": "code",
   "execution_count": 56,
   "metadata": {
    "ExecuteTime": {
     "end_time": "2022-07-04T21:40:03.598628Z",
     "start_time": "2022-07-04T21:39:58.739435Z"
    },
    "execution": {
     "iopub.execute_input": "2021-07-31T15:52:13.984899Z",
     "iopub.status.busy": "2021-07-31T15:52:13.979413Z",
     "iopub.status.idle": "2021-07-31T15:52:15.901219Z",
     "shell.execute_reply": "2021-07-31T15:52:15.900784Z"
    }
   },
   "outputs": [
    {
     "name": "stdout",
     "output_type": "stream",
     "text": [
      "Observed chi2: 1.6659\n",
      "Resampled p-value: 0.4820\n"
     ]
    }
   ],
   "source": [
    "# 1. Forme uma caixa com 34 uns (cliques) e 2,966 zeros (sem cliques).\n",
    "box = [1] * 34\n",
    "box.extend([0] * 2966)\n",
    "random.shuffle(box)\n",
    "\n",
    "# Funcao que calcula residuo de pearson\n",
    "def chi2(observed, expected):\n",
    "    pearson_residuals = []\n",
    "    for row, expect in zip(observed, expected):\n",
    "        pearson_residuals.append([(observe - expect) ** 2 / expect\n",
    "                                  for observe in row])\n",
    "    # return sum of squares\n",
    "    return np.sum(pearson_residuals)\n",
    "\n",
    "# valor esperado para as paginas iguais\n",
    "expected_clicks = 34 / 3\n",
    "expected_noclicks = 1000 - expected_clicks\n",
    "expected = [34 / 3, 1000 - 34 / 3]\n",
    "chi2observed = chi2(clicks.values, expected)\n",
    "\n",
    "# 2. Embaralhe, tire três amostras separadas de 1.000 e conte os cliques em cada uma.\n",
    "def perm_fun(box):\n",
    "    sample_clicks = [sum(random.sample(box, 1000)),\n",
    "                     sum(random.sample(box, 1000)),\n",
    "                     sum(random.sample(box, 1000))]\n",
    "    # 3. Encontre as diferenças quadráticas entre as contagens embaralhadas e as contagens esperadas e some.\n",
    "    sample_noclicks = [1000 - n for n in sample_clicks]\n",
    "    return chi2([sample_clicks, sample_noclicks], expected)\n",
    "\n",
    "\n",
    "# 4. Repita os passos 2 e 3, digamos, 1.000 vezes.\n",
    "perm_chi2 = [perm_fun(box) for _ in range(2000)]\n",
    "\n",
    "# 5. Com qual frequência a soma reamostrada dos desvios quadráticos excede a observada? Esse é o valor p.\n",
    "resampled_p_value = sum(perm_chi2 > chi2observed) / len(perm_chi2)\n",
    "print(f'Observed chi2: {chi2observed:.4f}')\n",
    "print(f'Resampled p-value: {resampled_p_value:.4f}')"
   ]
  },
  {
   "cell_type": "markdown",
   "metadata": {},
   "source": [
    "### Teste de Qui Quadrado: Teoria Estatística"
   ]
  },
  {
   "cell_type": "markdown",
   "metadata": {},
   "source": [
    "A teoria estatística assintótica mostra que a distribuição da estatística qui quadrada pode ser aproximada por uma distribuição qui quadrada.\n",
    "\n",
    "**O padrão adequado de distribuição qui quadrada é determinado pelos graus de liberdade.**\n",
    "\n",
    "Para uma tabela de contingências, os graus de liberdade estão relacionados ao número de linhas (r) e colunas (s) da seguinte forma:\n",
    "* A distribuição qui quadrada costuma ser assimétrica, com uma cauda longa à direita.\n",
    "* Quanto mais espalhada na distribuição qui quadrada estiver a estatística observada, menor o valor p.\n",
    "\n",
    "A função chisq.test pode ser usada para calcular o valor p usando a distribuição qui quadrada como referência:"
   ]
  },
  {
   "cell_type": "code",
   "execution_count": 57,
   "metadata": {
    "ExecuteTime": {
     "end_time": "2022-07-04T21:40:03.614020Z",
     "start_time": "2022-07-04T21:40:03.601768Z"
    }
   },
   "outputs": [
    {
     "data": {
      "text/html": [
       "<div>\n",
       "<style scoped>\n",
       "    .dataframe tbody tr th:only-of-type {\n",
       "        vertical-align: middle;\n",
       "    }\n",
       "\n",
       "    .dataframe tbody tr th {\n",
       "        vertical-align: top;\n",
       "    }\n",
       "\n",
       "    .dataframe thead th {\n",
       "        text-align: right;\n",
       "    }\n",
       "</style>\n",
       "<table border=\"1\" class=\"dataframe\">\n",
       "  <thead>\n",
       "    <tr style=\"text-align: right;\">\n",
       "      <th>Headline</th>\n",
       "      <th>Headline A</th>\n",
       "      <th>Headline B</th>\n",
       "      <th>Headline C</th>\n",
       "    </tr>\n",
       "    <tr>\n",
       "      <th>Click</th>\n",
       "      <th></th>\n",
       "      <th></th>\n",
       "      <th></th>\n",
       "    </tr>\n",
       "  </thead>\n",
       "  <tbody>\n",
       "    <tr>\n",
       "      <th>Click</th>\n",
       "      <td>14</td>\n",
       "      <td>8</td>\n",
       "      <td>12</td>\n",
       "    </tr>\n",
       "    <tr>\n",
       "      <th>No-click</th>\n",
       "      <td>986</td>\n",
       "      <td>992</td>\n",
       "      <td>988</td>\n",
       "    </tr>\n",
       "  </tbody>\n",
       "</table>\n",
       "</div>"
      ],
      "text/plain": [
       "Headline  Headline A  Headline B  Headline C\n",
       "Click                                       \n",
       "Click             14           8          12\n",
       "No-click         986         992         988"
      ]
     },
     "execution_count": 57,
     "metadata": {},
     "output_type": "execute_result"
    }
   ],
   "source": [
    "clicks"
   ]
  },
  {
   "cell_type": "code",
   "execution_count": 58,
   "metadata": {
    "ExecuteTime": {
     "end_time": "2022-07-04T21:40:03.629030Z",
     "start_time": "2022-07-04T21:40:03.617431Z"
    }
   },
   "outputs": [
    {
     "data": {
      "text/plain": [
       "[11.333333333333334, 988.6666666666666]"
      ]
     },
     "execution_count": 58,
     "metadata": {},
     "output_type": "execute_result"
    }
   ],
   "source": [
    "expected"
   ]
  },
  {
   "cell_type": "markdown",
   "metadata": {},
   "source": [
    "SCIPY\n",
    "\n",
    "https://docs.scipy.org/doc/scipy/reference/generated/scipy.stats.chi2_contingency.html?highlight=stats%20chi2_contingency#scipy.stats.chi2_contingency"
   ]
  },
  {
   "cell_type": "code",
   "execution_count": 59,
   "metadata": {
    "ExecuteTime": {
     "end_time": "2022-07-04T21:40:03.641017Z",
     "start_time": "2022-07-04T21:40:03.632442Z"
    },
    "execution": {
     "iopub.execute_input": "2021-07-31T15:52:15.905212Z",
     "iopub.status.busy": "2021-07-31T15:52:15.904534Z",
     "iopub.status.idle": "2021-07-31T15:52:15.908288Z",
     "shell.execute_reply": "2021-07-31T15:52:15.907858Z"
    }
   },
   "outputs": [
    {
     "name": "stdout",
     "output_type": "stream",
     "text": [
      "Observed chi2: 1.6659\n",
      "p-value: 0.4348\n"
     ]
    }
   ],
   "source": [
    "chisq, pvalue, df, expected = stats.chi2_contingency(clicks)\n",
    "print(f'Observed chi2: {chisq:.4f}')\n",
    "print(f'p-value: {pvalue:.4f}')"
   ]
  },
  {
   "cell_type": "markdown",
   "metadata": {},
   "source": [
    "<font color = red>**O valor p é um pouco menor que o valor p de reamostragem: isso ocorre porque a distribuição qui quadrada é apenas uma aproximação da distribuição real da estatística.**</font>"
   ]
  },
  {
   "cell_type": "markdown",
   "metadata": {},
   "source": [
    "### Figure chi-sq distribution"
   ]
  },
  {
   "cell_type": "code",
   "execution_count": 60,
   "metadata": {
    "ExecuteTime": {
     "end_time": "2022-07-04T21:40:04.201626Z",
     "start_time": "2022-07-04T21:40:03.646881Z"
    },
    "execution": {
     "iopub.execute_input": "2021-07-31T15:52:15.922669Z",
     "iopub.status.busy": "2021-07-31T15:52:15.913445Z",
     "iopub.status.idle": "2021-07-31T15:52:16.033006Z",
     "shell.execute_reply": "2021-07-31T15:52:16.032576Z"
    }
   },
   "outputs": [
    {
     "data": {
      "image/png": "[encoded data removed]",
      "text/plain": [
       "<Figure size 1296x720 with 1 Axes>"
      ]
     },
     "metadata": {},
     "output_type": "display_data"
    }
   ],
   "source": [
    "x = [1 + i * (30 - 1) / 99 for i in range(100)]\n",
    "\n",
    "chi = pd.DataFrame({\n",
    "    'x': x,\n",
    "    'chi_1':  stats.chi2.pdf(x, df=1),\n",
    "    'chi_2':  stats.chi2.pdf(x, df=2),\n",
    "    'chi_5':  stats.chi2.pdf(x, df=5),\n",
    "    'chi_10': stats.chi2.pdf(x, df=10),\n",
    "    'chi_20': stats.chi2.pdf(x, df=20), })\n",
    "\n",
    "fig, ax = plt.subplots(figsize=(18, 10))\n",
    "ax.plot(chi.x, chi.chi_1,  color='black',  linestyle='-'        , label='1' )\n",
    "ax.plot(chi.x, chi.chi_2,  color='red',    linestyle=(0, (1, 1)), label='2' )\n",
    "ax.plot(chi.x, chi.chi_5,  color='blue',   linestyle=(0, (2, 1)), label='5' )\n",
    "ax.plot(chi.x, chi.chi_10, color='green',  linestyle=(0, (3, 1)), label='10')\n",
    "ax.plot(chi.x, chi.chi_20, color='orange', linestyle=(0, (4, 1)), label='20')\n",
    "ax.legend(title='Grau de Liberdade')\n",
    "\n",
    "plt.tight_layout()\n",
    "plt.show()"
   ]
  },
  {
   "cell_type": "code",
   "execution_count": null,
   "metadata": {},
   "outputs": [],
   "source": []
  },
  {
   "cell_type": "markdown",
   "metadata": {},
   "source": [
    "## 3.12 Teste Exato de Fisher"
   ]
  },
  {
   "cell_type": "markdown",
   "metadata": {},
   "source": [
    "A distribuição qui quadrada é uma boa aproximação do teste de reamostragem embaralhada descrito anteriormente, exceto quando as contagens são extremamente baixas. \n",
    "* dígitos únicos, especialmente cinco ou menos\n",
    "* Nesses casos, o procedimento de reamostra resultará em valores p mais precisos.\n",
    "\n",
    "Na verdade, a maioria dos softwares estatísticos tem um procedimento para realmente enumerar todas as possíveis reorganizações (permutações) que podem ocorrer, tabular suas frequências e **determinar exatamente quão extremo é o resultado observado.**\n",
    "\n",
    "Isso se chama teste exato de Fisher, em homenagem ao grande estatístico R. A. Fisher. \n",
    "\n",
    "O valor p é muito próximo ao valor p de 0.4853 obtido usando o método de reamostragem. \n",
    "\n",
    "Onde algumas contagens são muito baixas, mas outras são bem altas\n",
    "* por exemplo, o denominador em uma taxa de conversão, pode ser necessário fazer um teste de permutação embaralhada, em vez de um teste exato completo, devido à dificuldade de calcular todas as possíveis permutações."
   ]
  },
  {
   "cell_type": "code",
   "execution_count": 61,
   "metadata": {
    "ExecuteTime": {
     "end_time": "2022-07-04T21:40:04.207455Z",
     "start_time": "2022-07-04T21:40:04.204235Z"
    },
    "execution": {
     "iopub.execute_input": "2021-07-31T15:52:16.036721Z",
     "iopub.status.busy": "2021-07-31T15:52:16.036109Z",
     "iopub.status.idle": "2021-07-31T15:52:16.039586Z",
     "shell.execute_reply": "2021-07-31T15:52:16.038974Z"
    }
   },
   "outputs": [],
   "source": [
    "# stats.fisher_exact(clicks.values)"
   ]
  },
  {
   "cell_type": "markdown",
   "metadata": {},
   "source": [
    "Scipy has only an implementation of Fisher's Exact test for 2x2 matrices. \n",
    "\n",
    "There is a github repository that provides a Python implementation that uses the same code as the R version. \n",
    "\n",
    "Installing this requires a Fortran compiler. "
   ]
  },
  {
   "cell_type": "markdown",
   "metadata": {},
   "source": [
    "### Detectando Fraude Científica"
   ]
  },
  {
   "cell_type": "markdown",
   "metadata": {},
   "source": [
    "Um exemplo interessante é o da pesquisadora da Tufts University, Thereza Imanishi- Kari, que foi acusada em 1991 de fabricar os dados em sua pesquisa.\n",
    "\n",
    "O congressista John Dingell se envolveu, e o caso acabou levando à demissão de seu colega, David Baltimore, da presidência da Rockefeller University.\n",
    "\n",
    "Imanishi-Kari foi finalmente exonerada após um longo processo.\n",
    "\n",
    "**No entanto, um elemento no caso se baseou em evidências estatísticas a respeito da distribuição esperada dos dígitos nos dados de seu laboratório, onde cada observação tinha muitos dígitos.**\n",
    "\n",
    "Os investigadores se concentraram nos dígitos internos, que se esperava que seguissem uma distribuição aleatória uniforme.\n",
    "\n",
    "Ou seja, ocorreriam aleatoriamente, com cada dígito tendo igual probabilidade de ocorrer\n",
    "* O dígito principal poderia ser predominantemente um valor\n",
    "* Os dígitos finais poderiam ser afetados pelo arredondamento\n",
    "\n",
    "A Tabela 3-7 lista as frequências dos dígitos interiores dos dados reais do caso."
   ]
  },
  {
   "cell_type": "code",
   "execution_count": 62,
   "metadata": {
    "ExecuteTime": {
     "end_time": "2022-07-04T21:40:04.215484Z",
     "start_time": "2022-07-04T21:40:04.209410Z"
    }
   },
   "outputs": [
    {
     "data": {
      "image/png": "[encoded data removed]",
      "text/plain": [
       "<IPython.core.display.Image object>"
      ]
     },
     "execution_count": 62,
     "metadata": {},
     "output_type": "execute_result"
    }
   ],
   "source": [
    "Image('/home/deivison/Documentos/projetos/stats/imagem/cap_03_chi_5.png')"
   ]
  },
  {
   "cell_type": "markdown",
   "metadata": {},
   "source": [
    "A distribuição dos 315 dígitos, mostrada na Figura 3-8, certamente não parece aleatória:\n",
    "* Os investigadores calcularam a partida da expectativa\n",
    "* 31.5 — essa é a frequência com que cada dado ocorreria em uma distribuição estritamente uniforme e usaram um teste de qui quadrado para mostrar que a distribuição real estava muito além da taxa de variação normal do acaso\n",
    "* um procedimento de reamostragem poderia ter sido usado da mesma forma"
   ]
  },
  {
   "cell_type": "code",
   "execution_count": 63,
   "metadata": {
    "ExecuteTime": {
     "end_time": "2022-07-04T21:40:04.754881Z",
     "start_time": "2022-07-04T21:40:04.217729Z"
    },
    "execution": {
     "iopub.execute_input": "2021-07-31T15:52:16.045070Z",
     "iopub.status.busy": "2021-07-31T15:52:16.044204Z",
     "iopub.status.idle": "2021-07-31T15:52:16.153448Z",
     "shell.execute_reply": "2021-07-31T15:52:16.153029Z"
    }
   },
   "outputs": [
    {
     "data": {
      "image/png": "[encoded data removed]",
      "text/plain": [
       "<Figure size 1728x864 with 1 Axes>"
      ]
     },
     "metadata": {},
     "output_type": "display_data"
    }
   ],
   "source": [
    "imanishi = pd.read_csv(IMANISHI_CSV)\n",
    "imanishi.columns = [c.strip() for c in imanishi.columns]\n",
    "ax = imanishi.plot.bar(x='Digit', y=['Frequency'], legend=False,\n",
    "                      figsize=(24, 12))\n",
    "ax.set_xlabel('Digit')\n",
    "ax.set_ylabel('Frequency')\n",
    "\n",
    "plt.tight_layout()\n",
    "plt.show()"
   ]
  },
  {
   "cell_type": "markdown",
   "metadata": {},
   "source": [
    "### Relevância para Ciência de Dados"
   ]
  },
  {
   "cell_type": "markdown",
   "metadata": {},
   "source": [
    "<font color=red>**A maioria dos usos do teste de qui quadrado, ou teste exato de Fisher, não é muito relevante para a ciência de dados.**</font>\n",
    "\n",
    "* **Na maioria dos experimentos, seja A-B ou A-B-C… :**\n",
    "    * o objetivo não é simplesmente estabelecer a significância estatística\n",
    "    * mas, sim, chegar ao melhor tratamento.\n",
    "    * Para tanto, os bandidos multibraços oferecem uma solução mais completa.\n",
    "\n",
    "Uma **aplicação em ciência de dados** para o teste de qui quadrado, especialmente a versão exata de Fisher, é na **determinação de tamanhos de amostra adequados para experimentos web.**\n",
    "* Esses experimentos costumam ter taxas de cliques muito baixas\n",
    "* Apesar de milhares de exposições\n",
    "    * A taxas de contagem podem ser muito pequenas para gerar conclusões definitivas em um experimento.\n",
    "* <font color=blue>**Nesses casos, o teste exato de Fisher, o teste de qui quadrado e outros testes podem ser úteis como componentes de cálculos de potência e tamanho de amostra.**</font>\n",
    "\n",
    "Os testes de qui quadrado são muito usados em pesquisa por investigadores em busca do elusivo e estatisticamente significativo valor p que permitirá a publicação.\n",
    "\n",
    "<font color=red>**Os testes de qui quadrado, ou simulações de reamostragem semelhantes, são usados em aplicações de ciências de dados mais como um filtro para determinar se um efeito ou característica é digno de maiores considerações do que um teste formal de significância.**</font> \n",
    "\n",
    "Por exemplo, são usados em estatísticas e mapeamentos espaciais para determinar se os dados espaciais obedecem a uma distribuição nula específica.\n",
    "* Por exemplo, os crimes estão concentrados em uma certa área em maior grau do que o acaso permitiria? \n",
    "* Podem ser usados também na seleção automatizada de características em aprendizado de máquina:\n",
    "    * Para avaliar a prevalência de classes entre características\n",
    "    * Para identificar características nas quais a prevalência de uma certa classe é excepcionalmente alta ou baixa, de uma forma incompatível com a variação aleatória."
   ]
  },
  {
   "cell_type": "markdown",
   "metadata": {},
   "source": [
    "## 3.13 Potência e Tamanho de Amostra"
   ]
  },
  {
   "cell_type": "markdown",
   "metadata": {},
   "source": [
    "### Termos Chave"
   ]
  },
  {
   "cell_type": "markdown",
   "metadata": {},
   "source": [
    "**Tamanho do efeito**\n",
    "* O tamanho mínimo do efeito que se espera poder detectar em um teste estatístico\n",
    "* Por exemplo, “uma melhora de 20% em taxas de clique”.\n",
    "\n",
    "**Potência**\n",
    "* A probabilidade de detectar um dado tamanho de efeito com dado tamanho de amostra.\n",
    "\n",
    "**Nível de significância**\n",
    "* O nível de significância estatística no qual o teste será conduzido."
   ]
  },
  {
   "cell_type": "markdown",
   "metadata": {},
   "source": [
    "### Teoria"
   ]
  },
  {
   "cell_type": "markdown",
   "metadata": {},
   "source": [
    "<font color = blue>**Se você executar um teste web, como decidirá por quanto tempo deve executar?**</font>\n",
    "* Ou seja, quantas impressões por tratamento são necessárias?\n",
    "\n",
    "Apesar do que se pode ver em muitos guias de testagem web na internet\n",
    "* Não existe um bom direcionamento geral\n",
    "* Depende, principalmente, da frequência com a qual o objetivo desejado é atingido.\n",
    "\n",
    "**Um dos passos nos cálculos estatísticos para tamanho de amostra é perguntar:**\n",
    "* “Um teste de hipótese revelará realmente uma diferença entre os tratamentos A e B?”\n",
    "* O resultado de um teste de hipótese — o valor p — depende da real diferença entre os tratamentos A e B.\n",
    "    * Depende também da sorte na extração\n",
    "    * Quem é selecionado para os grupos no experimento.\n",
    "* Mas faz sentido que quanto maior a diferença real entre os tratamentos A e B\n",
    "    * Maior a probabilidade de que o experimento a revelará.\n",
    "    * E quanto menor a diferença, mais dados serão necessários para detectá-la.\n",
    "\n",
    "**Exemplo REBATEDOR**\n",
    "\n",
    "Para distinguir entre um rebatedor .350 no basebol e um rebatedor .200\n",
    "* Não são necessárias muitas rebatidas.\n",
    "\n",
    "Para distinguir entre um rebatedor .300 e um rebatedor .280\n",
    "* serão necessárias muitas rebatidas a mais.\n",
    "\n",
    "<font color = red>**A potência é a probabilidade de detectar um tamanho de efeito especificado com características de amostra especificadas.**</font>\n",
    "* Tamanho e variabilidade\n",
    "\n",
    "Por exemplo, podemos dizer (hipoteticamente) que a probabilidade de distinguir entre um rebatedor .330 e um rebatedor .200 em 25 rebatidas é de .75.\n",
    "\n",
    "* **O tamanho do efeito aqui é a diferença de .130**\n",
    "* E “detectar” significa que um teste de hipótese rejeitará a hipótese nula de “sem diferença”\n",
    "* Concluirá que existe um efeito real.\n",
    "* Então o experimento de 25 rebatidas (n = 25) para 2 rebatedores, com um tamanho de efeito de 0.130, tem (hipoteticamente) potência de 0.75 ou 75%.\n",
    "\n",
    "Pode-se ver que aqui existem diversas partes móveis, e é fácil se enrolar nas muitas suposições e fórmulas estatísticas que serão necessárias para especificar:\n",
    "* Variabilidade de amostra\n",
    "* Tamanho do efeito\n",
    "* Tamanho da amostra\n",
    "* Nível alfa para o teste de hipótese etc.\n",
    "* Calcular a potência.\n",
    "\n",
    "De fato, existe um software estatístico especialmente para calcular a potência.\n",
    "\n",
    "<font color = red>**Muitos cientistas de dados não precisarão passar por todos os processos formais necessários para registrar a potência, por exemplo, em um artigo publicado.**</font>\n",
    "\n",
    "<font color = blue>**No entanto, podem se ver em situações em que queiram coletar alguns dados para um teste A/B, e a coleta ou o processamento dos dados envolve algum custo.**</font>\n",
    "\n",
    "* Nesse caso, saber aproximadamente quantos dados coletar pode ajudar a evitar uma situação em que se faz um certo esforço para coletar os dados, e o resultado acaba sendo inconclusivo.\n",
    "\n",
    "**Aqui está uma abordagem alternativa bastante intuitiva:**\n",
    "1. Comece com alguns dados hipotéticos que representem seu melhor palpite sobre os dados resultantes\n",
    "    * talvez com base em dados anteriores\n",
    "    * Por exemplo, uma caixa com 20 uns e 80 zeros para representar um rebatedor .200, ou uma caixa com algumas observações do “tempo gasto no site”.\n",
    "    \n",
    "    \n",
    "2. Crie uma segunda amostra simplesmente somando o tamanho desejado de efeito à primeira amostra\n",
    "    * Por exemplo, uma segunda caixa com 33 uns e 67 zeros\n",
    "    * Ou uma segunda caixa com 25 segundos adicionados a cada “tempo gasto no site” inicial.\n",
    "    \n",
    "    \n",
    "3. Extraia uma amostra bootstrap de tamanho n de cada caixa.\n",
    "\n",
    "\n",
    "4. Conduza um teste de hipótese de permutação (ou baseado em fórmula) nas duas amostras bootstrap e registre se a diferença entre elas é estatisticamente significativa.\n",
    "\n",
    "\n",
    "5. Repita os dois passos anteriores muitas vezes e defina a frequência com que a diferença foi significativa — esta é a potência estimada."
   ]
  },
  {
   "cell_type": "markdown",
   "metadata": {},
   "source": [
    "### Tamanho da Amostra"
   ]
  },
  {
   "cell_type": "markdown",
   "metadata": {},
   "source": [
    "#### Teoria"
   ]
  },
  {
   "cell_type": "markdown",
   "metadata": {},
   "source": [
    "<font color = red>**O uso mais comum dos cálculos de potência é estimar quão grande será a amostra necessária.**</font>\n",
    "\n",
    "Por exemplo, suponha que estejamos **observando taxas de clique** (cliques como percentual de exposição) e testando um novo anúncio contra um anúncio existente.\n",
    "* **É necessário acumular quantos cliques no estudo?**\n",
    "\n",
    "Se estivermos interessados apenas em resultados que mostrem uma enorme diferença\n",
    "* Digamos, uma diferença de 50%\n",
    "* Uma amostra relativamente pequena poderia ser útil.\n",
    "\n",
    "Se, por outro lado, mesmo a menor diferença seria interessante\n",
    "* Então é necessário ter uma amostra muito maior.\n",
    "\n",
    "**Uma abordagem-padrão é estabelecer uma política de que um novo anúncio tem que ser melhor que o existente em certo percentual**\n",
    "* Digamos 10%, ou então o anúncio existente continuará ativo.\n",
    "* Este objetivo, o “tamanho do efeito”, define o tamanho da amostra.\n",
    "\n",
    "<font color = blue>**Por exemplo, suponhamos que as taxas de clique atuais sejam de cerca de 1,1%, e estamos buscando um aumento de 10% (0.11) para 1,21% ( 1.1 + 0.11 ).**</font>\n",
    "* Então, temos duas caixas:\n",
    "\n",
    "    * Caixa A com 1,1%  de uns (digamos, 110 uns e 9.890 zeros)\n",
    "    * Caixa B com 1,21% de uns (digamos, 121 uns e 9.879 zeros).\n",
    "\n",
    "Para começar, façamos **300 extrações** de cada caixa (isso seria como 300 “impressões” para cada anúncio). \n",
    "\n",
    "Suponhamos que nossa primeira extração resulte o seguinte:\n",
    "* Caixa A 3 ones\n",
    "* Caixa B 5 ones\n",
    "\n",
    "De início podemos ver que qualquer teste de hipótese que revelasse essa diferença (cinco comparações) estaria dentro da taxa de variação do acaso.\n",
    "\n",
    "<font color = blue>**Essa combinação de tamanho de amostra (n = 300 em cada grupo) e tamanho de efeito (diferença de 10%) é muito pequena para qualquer teste de hipótese mostrar uma diferença confiável.**</font>\n",
    "\n",
    "**Tamanho da amostra necessário para detectar o efeito = 116602.393**"
   ]
  },
  {
   "cell_type": "code",
   "execution_count": 64,
   "metadata": {
    "ExecuteTime": {
     "end_time": "2022-07-04T21:40:04.767706Z",
     "start_time": "2022-07-04T21:40:04.757165Z"
    },
    "execution": {
     "iopub.execute_input": "2021-07-31T15:52:16.157919Z",
     "iopub.status.busy": "2021-07-31T15:52:16.157505Z",
     "iopub.status.idle": "2021-07-31T15:52:16.162949Z",
     "shell.execute_reply": "2021-07-31T15:52:16.162452Z"
    }
   },
   "outputs": [
    {
     "name": "stdout",
     "output_type": "stream",
     "text": [
      "Sample Size: 116602.393\n"
     ]
    }
   ],
   "source": [
    "effect_size = sm.stats.proportion_effectsize(0.0121, 0.011)\n",
    "\n",
    "analysis = sm.stats.TTestIndPower()\n",
    "\n",
    "result = analysis.solve_power(effect_size = effect_size, \n",
    "                              alpha = 0.05,\n",
    "                              power = 0.8,\n",
    "                              alternative = 'larger')\n",
    "\n",
    "print('Sample Size: %.3f' % result)"
   ]
  },
  {
   "cell_type": "markdown",
   "metadata": {},
   "source": [
    "**Então podemos tentar aumentar o tamanho da amostra (vamos tentar 2.000 impressões) e exigir uma melhoria maior (30%, em vez de 10%).**\n",
    "\n",
    "<font color = green>**Por exemplo, suponhamos que as taxas de clique atuais ainda sejam de 1,1%, mas agora buscamos um aumento de 50% (0.55) para 1,65% ( 1.1 + 0.55 ).**</font>\n",
    "\n",
    "* Então temos duas caixas: \n",
    "    * Caixa A com 1,1%  de uns (digamos 110 uns e 9.890 zeros)\n",
    "    * Caixa B com 1,65% de uns (digamos 165 uns e 9.868 zeros).\n",
    "\n",
    "Agora vamos tentar **2.000 extrações** de cada caixa.\n",
    "\n",
    "Suponha que nossa primeira extração resulte o seguinte:\n",
    "* Caixa A 19 ones\n",
    "* Caixa B 34 ones\n",
    "\n",
    "Um teste de significância nessa diferença (34–19) mostra\n",
    "* Um registro como “não significante”\n",
    "* Apesar de estar muito mais próximo da significância do que a diferença anterior de 5–3.\n",
    "\n",
    "**Para calcular a potência:**\n",
    "* Precisaríamos repetir o procedimento anterior muitas vezes\n",
    "* Ou usar um software de estatística que possa calcular a potência.\n",
    "\n",
    "<font color = blue>**Mas nossa extração inicial sugere que mesmo a detecção de uma melhoria de 50% ainda exige diversos milhares de impressões de anúncio.**</font>\n",
    "\n",
    "**Tamanho da amostra necessário para detectar o efeito = 5488.408**"
   ]
  },
  {
   "cell_type": "code",
   "execution_count": 65,
   "metadata": {
    "ExecuteTime": {
     "end_time": "2022-07-04T21:40:04.784827Z",
     "start_time": "2022-07-04T21:40:04.769903Z"
    },
    "execution": {
     "iopub.execute_input": "2021-07-31T15:52:16.171807Z",
     "iopub.status.busy": "2021-07-31T15:52:16.171164Z",
     "iopub.status.idle": "2021-07-31T15:52:16.175003Z",
     "shell.execute_reply": "2021-07-31T15:52:16.174555Z"
    }
   },
   "outputs": [
    {
     "name": "stdout",
     "output_type": "stream",
     "text": [
      "Sample Size: 5488.408\n"
     ]
    }
   ],
   "source": [
    "effect_size = sm.stats.proportion_effectsize(0.0165, 0.011)\n",
    "\n",
    "analysis = sm.stats.TTestIndPower()\n",
    "\n",
    "result = analysis.solve_power(effect_size=effect_size, \n",
    "                              alpha=0.05,\n",
    "                              power=0.8,\n",
    "                              alternative='larger')\n",
    "\n",
    "print('Sample Size: %.3f' % result)"
   ]
  },
  {
   "cell_type": "markdown",
   "metadata": {},
   "source": [
    "<font color = red>**Resumindo, para calcular a potência ou o tamanho de amostra necessário, existem quatro partes móveis:**</font>\n",
    "1. Tamanho da amostra\n",
    "2. Tamanho do efeito que queremos detectar\n",
    "3. Nível de significância (alfa) em que o teste será conduzido\n",
    "4. Potência.\n",
    "\n",
    "* Especifique quaisquer três dentre eles, e o quarto poderá ser calculado.\n",
    "* **Mais comumente, seria preferível calcular o tamanho da amostra**\n",
    "* Então é necessário especificar os outros três. "
   ]
  },
  {
   "cell_type": "markdown",
   "metadata": {},
   "source": [
    "### Ideias Chave"
   ]
  },
  {
   "cell_type": "markdown",
   "metadata": {},
   "source": [
    "* Descobrir qual é o tamanho de amostra necessário exige a consideração antecipada ao teste estatístico que planeja conduzir.\n",
    "\n",
    "\n",
    "* É necessário especificar o tamanho mínimo do efeito que se quer detectar.\n",
    "\n",
    "\n",
    "* Deve-se também especificar a probabilidade exigida de se detectar tal tamanho de efeito (potência).\n",
    "\n",
    "\n",
    "* Finalmente, é necessário especificar o nível de significância (alfa) em que o teste será conduzido."
   ]
  },
  {
   "cell_type": "markdown",
   "metadata": {},
   "source": [
    "## 3.14 Resumo do Capítulo"
   ]
  },
  {
   "cell_type": "markdown",
   "metadata": {},
   "source": [
    "Os princípios do projeto experimental\n",
    "* Randomização de indivíduos em dois ou mais grupos recebendo tratamentos diferentes\n",
    "* Nos permite tirar conclusões válidas sobre quão bem os tratamentos funcionam.\n",
    "\n",
    "<font color = red>**É melhor incluir um tratamento de controle de “não fazer diferença”.**</font>\n",
    "\n",
    "**O assunto da inferência estatística formal**\n",
    "* Testagem de hipótese\n",
    "* Valores p\n",
    "* Testes t e muitos mais\n",
    "\n",
    "**Ocupa muito tempo e espaço em um curso ou livro tradicional de estatística**\n",
    "* A formalidade é bastante desnecessária na perspectiva da ciência de dados.\n",
    "* No entanto, continua importante para reconhecer o papel que a variação aleatória pode ter em enganar o cérebro humano.\n",
    "\n",
    "<font color = red>**Os procedimentos de reamostragem intuitiva (permutação e bootstrap) permitem que os cientistas de dados avaliem o quanto a variação do acaso pode influenciar suas análises de dados.**</font>"
   ]
  },
  {
   "cell_type": "code",
   "execution_count": null,
   "metadata": {},
   "outputs": [],
   "source": []
  }
 ],
 "metadata": {
  "kernelspec": {
   "display_name": "venv_stats",
   "language": "python",
   "name": "venv_stats"
  },
  "language_info": {
   "codemirror_mode": {
    "name": "ipython",
    "version": 3
   },
   "file_extension": ".py",
   "mimetype": "text/x-python",
   "name": "python",
   "nbconvert_exporter": "python",
   "pygments_lexer": "ipython3",
   "version": "3.10.0"
  }
 },
 "nbformat": 4,
 "nbformat_minor": 2
}
